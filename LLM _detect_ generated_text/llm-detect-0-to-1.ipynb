{
 "cells": [
  {
   "cell_type": "markdown",
   "id": "ca110f60",
   "metadata": {
    "papermill": {
     "duration": 0.011482,
     "end_time": "2023-12-07T14:55:56.045588",
     "exception": false,
     "start_time": "2023-12-07T14:55:56.034106",
     "status": "completed"
    },
    "tags": []
   },
   "source": [
    "# 赛题介绍\n",
    "\n",
    "- 赛题名称：Detect AI Generated Text\n",
    "- 赛题类型：文本分类、自然语言处理\n",
    "- 赛题任务：识别哪篇文章是由大型语言模型撰写的\n",
    "- 赛题链接：https://www.kaggle.com/competitions/llm-detect-ai-generated-text/\n",
    "\n",
    "\n",
    "赛题涉及建立一个模型来区分中学和高中学生所写的文章与由大型语言模型（LLM）所写的文章。由于LLMs的广泛使用，很多人担心它们将取代或改变通常由人类完成的工作。教育工作者特别担心它们对学生技能发展的影响，尽管很多人对LLMs最终成为帮助学生提高写作技能的有用工具持乐观态度。\n",
    "\n",
    "在学术界对LLMs的主要担忧之一是它们可能助长抄袭行为。LLMs是在大规模文本和代码数据集上训练的，这意味着它们能够生成与人类写作非常相似的文本。"
   ]
  },
  {
   "cell_type": "markdown",
   "id": "2b4b3a0c",
   "metadata": {
    "papermill": {
     "duration": 0.01042,
     "end_time": "2023-12-07T14:55:56.066831",
     "exception": false,
     "start_time": "2023-12-07T14:55:56.056411",
     "status": "completed"
    },
    "tags": []
   },
   "source": [
    "# 赛题任务\n",
    "\n",
    "参赛选手在这个竞赛中的工作可以帮助识别LLM的痕迹，并推动LLM文本检测的技术。"
   ]
  },
  {
   "cell_type": "markdown",
   "id": "6e291c41",
   "metadata": {
    "papermill": {
     "duration": 0.010114,
     "end_time": "2023-12-07T14:55:56.087478",
     "exception": false,
     "start_time": "2023-12-07T14:55:56.077364",
     "status": "completed"
    },
    "tags": []
   },
   "source": [
    "# 赛题数据\n",
    "\n",
    "竞赛数据集包含大约10,000篇文章，其中一部分由学生撰写，一部分由各种大型语言模型（LLMs）生成。竞赛的目标是确定一篇文章是否由LLM生成。\n",
    "\n",
    "所有的文章都是作为对七个不同的作文题目之一的回应而写的。在每个题目中，学生被要求阅读一个或多个源文本，然后写出回应。这些信息可能会或者不会作为LLM生成文章的输入。\n",
    "\n",
    "两个题目的作文构成了训练集，其余的作文构成了隐藏的测试集。几乎所有的训练集作文都是由学生写的，只有少数生成的作文作为示例。您可以考虑生成更多的作文来用作训练数据。\n",
    "\n",
    "**文件和字段信息**：\n",
    "\n",
    "-   {test/train}_essays.csv\n",
    "    -   `id` - 每篇文章的唯一标识符。\n",
    "    -   `prompt_id` - 识别文章是回应哪个作文题目写的。\n",
    "    -   `text` - 文章正文。\n",
    "    -   `generated` - 文章是由学生写的 (`0`) 还是由LLM生成的 (`1`)。这个字段是目标变量，在`test_essays.csv`中不包括。\n",
    "\n",
    "-   train_prompts.csv\n",
    "    -   `prompt_id` - 每个作文题目的唯一标识符。\n",
    "    -   `prompt_name` - 作文题目的标题。\n",
    "    -   `instructions` - 给学生的指示。\n",
    "    -   `source_text` - 文章或文章的文本，这些文章是学生在回应中编写的，采用Markdown格式。\n",
    "\n",
    "-   sample_submission.csv - 一个格式正确的提交文件。"
   ]
  },
  {
   "cell_type": "markdown",
   "id": "9425b53f",
   "metadata": {
    "papermill": {
     "duration": 0.010115,
     "end_time": "2023-12-07T14:55:56.108200",
     "exception": false,
     "start_time": "2023-12-07T14:55:56.098085",
     "status": "completed"
    },
    "tags": []
   },
   "source": [
    "# 评价指标\n",
    "\n",
    "提交的内容根据预测概率与观察目标之间的 ROC 曲线下面积进行评估。\n",
    "\n",
    "对于测试集中的每个 id，您必须预测生成该文章的概率。该文件应包含标头并具有以下格式：\n",
    "\n",
    "```\n",
    "id,generated\n",
    "0000aaaa,0.1\n",
    "1111bbbb,0.9\n",
    "2222cccc,0.4\n",
    "...\n",
    "```"
   ]
  },
  {
   "cell_type": "markdown",
   "id": "9c5ebe23",
   "metadata": {
    "papermill": {
     "duration": 0.010053,
     "end_time": "2023-12-07T14:55:56.128764",
     "exception": false,
     "start_time": "2023-12-07T14:55:56.118711",
     "status": "completed"
    },
    "tags": []
   },
   "source": [
    "# 赛题赛程\n",
    "\n",
    "- 2023 年 10 月 31 日 - 开始日期。\n",
    "- 2024 年 1 月 15 日 - 报名截止日期。\n",
    "- 2024 年 1 月 15 日 - 合并截止日期。\n",
    "- 2024 年 1 月 22 日 - 提交截止日期。"
   ]
  },
  {
   "cell_type": "markdown",
   "id": "e46cdb26",
   "metadata": {
    "papermill": {
     "duration": 0.010037,
     "end_time": "2023-12-07T14:55:56.149207",
     "exception": false,
     "start_time": "2023-12-07T14:55:56.139170",
     "status": "completed"
    },
    "tags": []
   },
   "source": [
    "# 解题思路\n",
    "\n",
    "- 基于训练的分类器（Training-based）：通常是在已收集的二进制数据上对预训练语言模型进行微调，这些数据包括人类生成和AI生成的文本分布。\n",
    "- 零-shot检测器（Zero-Shot）：利用典型LLM的内在特性，如概率曲线或表示空间，进行自我检测。\n",
    "- 水印技术（Watermarking）：涉及将可识别信息隐藏在生成的文本中，以后可以用于确定文本是否来自特定的语言模型，而不仅仅是检测AI生成的文本。"
   ]
  },
  {
   "cell_type": "markdown",
   "id": "69395cbf",
   "metadata": {
    "papermill": {
     "duration": 0.01034,
     "end_time": "2023-12-07T14:55:56.169939",
     "exception": false,
     "start_time": "2023-12-07T14:55:56.159599",
     "status": "completed"
    },
    "tags": []
   },
   "source": [
    "# 导入环境"
   ]
  },
  {
   "cell_type": "code",
   "execution_count": 1,
   "id": "db6d3d86",
   "metadata": {
    "execution": {
     "iopub.execute_input": "2023-12-07T14:55:56.194370Z",
     "iopub.status.busy": "2023-12-07T14:55:56.193489Z",
     "iopub.status.idle": "2023-12-07T14:55:58.307827Z",
     "shell.execute_reply": "2023-12-07T14:55:58.306619Z"
    },
    "papermill": {
     "duration": 2.130774,
     "end_time": "2023-12-07T14:55:58.311493",
     "exception": false,
     "start_time": "2023-12-07T14:55:56.180719",
     "status": "completed"
    },
    "tags": []
   },
   "outputs": [],
   "source": [
    "import pandas as pd\n",
    "import numpy as np\n",
    "\n",
    "import matplotlib.pyplot as plt\n",
    "import seaborn as sns\n",
    "\n",
    "from collections import Counter\n",
    "import itertools\n",
    "\n",
    "# DATA_PATH = './input'\n",
    "DATA_PATH = '/kaggle/input/llm-detect-ai-generated-text'\n",
    "\n",
    "train_essays = pd.read_csv(f'{DATA_PATH}/train_essays.csv')\n",
    "train_prompts = pd.read_csv(f'{DATA_PATH}/train_prompts.csv')\n",
    "test_essays = pd.read_csv(f'{DATA_PATH}/test_essays.csv')\n",
    "sample_submit = pd.read_csv(f'{DATA_PATH}/sample_submission.csv')"
   ]
  },
  {
   "cell_type": "code",
   "execution_count": 2,
   "id": "9ba54c0b",
   "metadata": {
    "execution": {
     "iopub.execute_input": "2023-12-07T14:55:58.335138Z",
     "iopub.status.busy": "2023-12-07T14:55:58.334669Z",
     "iopub.status.idle": "2023-12-07T14:55:58.343649Z",
     "shell.execute_reply": "2023-12-07T14:55:58.342702Z"
    },
    "papermill": {
     "duration": 0.023887,
     "end_time": "2023-12-07T14:55:58.346090",
     "exception": false,
     "start_time": "2023-12-07T14:55:58.322203",
     "status": "completed"
    },
    "tags": []
   },
   "outputs": [
    {
     "data": {
      "text/plain": [
       "((1378, 4), (2, 4), (3, 3))"
      ]
     },
     "execution_count": 2,
     "metadata": {},
     "output_type": "execute_result"
    }
   ],
   "source": [
    "train_essays.shape, train_prompts.shape, test_essays.shape"
   ]
  },
  {
   "cell_type": "markdown",
   "id": "f8fb38fb",
   "metadata": {
    "papermill": {
     "duration": 0.010141,
     "end_time": "2023-12-07T14:55:58.367000",
     "exception": false,
     "start_time": "2023-12-07T14:55:58.356859",
     "status": "completed"
    },
    "tags": []
   },
   "source": [
    "# 数据分析\n",
    "\n",
    "https://www.kaggle.com/code/pamin2222/ai-or-not-ai-delving-into-essays-with-eda"
   ]
  },
  {
   "cell_type": "code",
   "execution_count": 3,
   "id": "555a5ca8",
   "metadata": {
    "execution": {
     "iopub.execute_input": "2023-12-07T14:55:58.391280Z",
     "iopub.status.busy": "2023-12-07T14:55:58.390096Z",
     "iopub.status.idle": "2023-12-07T14:55:58.413579Z",
     "shell.execute_reply": "2023-12-07T14:55:58.412179Z"
    },
    "papermill": {
     "duration": 0.038741,
     "end_time": "2023-12-07T14:55:58.416597",
     "exception": false,
     "start_time": "2023-12-07T14:55:58.377856",
     "status": "completed"
    },
    "tags": []
   },
   "outputs": [
    {
     "data": {
      "text/html": [
       "<div>\n",
       "<style scoped>\n",
       "    .dataframe tbody tr th:only-of-type {\n",
       "        vertical-align: middle;\n",
       "    }\n",
       "\n",
       "    .dataframe tbody tr th {\n",
       "        vertical-align: top;\n",
       "    }\n",
       "\n",
       "    .dataframe thead th {\n",
       "        text-align: right;\n",
       "    }\n",
       "</style>\n",
       "<table border=\"1\" class=\"dataframe\">\n",
       "  <thead>\n",
       "    <tr style=\"text-align: right;\">\n",
       "      <th></th>\n",
       "      <th>id</th>\n",
       "      <th>prompt_id</th>\n",
       "      <th>text</th>\n",
       "      <th>generated</th>\n",
       "    </tr>\n",
       "  </thead>\n",
       "  <tbody>\n",
       "    <tr>\n",
       "      <th>0</th>\n",
       "      <td>0059830c</td>\n",
       "      <td>0</td>\n",
       "      <td>Cars. Cars have been around since they became ...</td>\n",
       "      <td>0</td>\n",
       "    </tr>\n",
       "  </tbody>\n",
       "</table>\n",
       "</div>"
      ],
      "text/plain": [
       "         id  prompt_id                                               text  \\\n",
       "0  0059830c          0  Cars. Cars have been around since they became ...   \n",
       "\n",
       "   generated  \n",
       "0          0  "
      ]
     },
     "execution_count": 3,
     "metadata": {},
     "output_type": "execute_result"
    }
   ],
   "source": [
    "train_essays.head(1)"
   ]
  },
  {
   "cell_type": "code",
   "execution_count": 4,
   "id": "47eaf049",
   "metadata": {
    "execution": {
     "iopub.execute_input": "2023-12-07T14:55:58.442766Z",
     "iopub.status.busy": "2023-12-07T14:55:58.441420Z",
     "iopub.status.idle": "2023-12-07T14:55:58.455365Z",
     "shell.execute_reply": "2023-12-07T14:55:58.454203Z"
    },
    "papermill": {
     "duration": 0.030483,
     "end_time": "2023-12-07T14:55:58.458075",
     "exception": false,
     "start_time": "2023-12-07T14:55:58.427592",
     "status": "completed"
    },
    "tags": []
   },
   "outputs": [
    {
     "data": {
      "text/html": [
       "<div>\n",
       "<style scoped>\n",
       "    .dataframe tbody tr th:only-of-type {\n",
       "        vertical-align: middle;\n",
       "    }\n",
       "\n",
       "    .dataframe tbody tr th {\n",
       "        vertical-align: top;\n",
       "    }\n",
       "\n",
       "    .dataframe thead th {\n",
       "        text-align: right;\n",
       "    }\n",
       "</style>\n",
       "<table border=\"1\" class=\"dataframe\">\n",
       "  <thead>\n",
       "    <tr style=\"text-align: right;\">\n",
       "      <th></th>\n",
       "      <th>prompt_id</th>\n",
       "      <th>prompt_name</th>\n",
       "      <th>instructions</th>\n",
       "      <th>source_text</th>\n",
       "    </tr>\n",
       "  </thead>\n",
       "  <tbody>\n",
       "    <tr>\n",
       "      <th>0</th>\n",
       "      <td>0</td>\n",
       "      <td>Car-free cities</td>\n",
       "      <td>Write an explanatory essay to inform fellow ci...</td>\n",
       "      <td># In German Suburb, Life Goes On Without Cars ...</td>\n",
       "    </tr>\n",
       "  </tbody>\n",
       "</table>\n",
       "</div>"
      ],
      "text/plain": [
       "   prompt_id      prompt_name  \\\n",
       "0          0  Car-free cities   \n",
       "\n",
       "                                        instructions  \\\n",
       "0  Write an explanatory essay to inform fellow ci...   \n",
       "\n",
       "                                         source_text  \n",
       "0  # In German Suburb, Life Goes On Without Cars ...  "
      ]
     },
     "execution_count": 4,
     "metadata": {},
     "output_type": "execute_result"
    }
   ],
   "source": [
    "train_prompts.head(1)"
   ]
  },
  {
   "cell_type": "code",
   "execution_count": 5,
   "id": "42948471",
   "metadata": {
    "execution": {
     "iopub.execute_input": "2023-12-07T14:55:58.482373Z",
     "iopub.status.busy": "2023-12-07T14:55:58.481905Z",
     "iopub.status.idle": "2023-12-07T14:55:58.493673Z",
     "shell.execute_reply": "2023-12-07T14:55:58.492747Z"
    },
    "papermill": {
     "duration": 0.026799,
     "end_time": "2023-12-07T14:55:58.496037",
     "exception": false,
     "start_time": "2023-12-07T14:55:58.469238",
     "status": "completed"
    },
    "tags": []
   },
   "outputs": [
    {
     "data": {
      "text/html": [
       "<div>\n",
       "<style scoped>\n",
       "    .dataframe tbody tr th:only-of-type {\n",
       "        vertical-align: middle;\n",
       "    }\n",
       "\n",
       "    .dataframe tbody tr th {\n",
       "        vertical-align: top;\n",
       "    }\n",
       "\n",
       "    .dataframe thead th {\n",
       "        text-align: right;\n",
       "    }\n",
       "</style>\n",
       "<table border=\"1\" class=\"dataframe\">\n",
       "  <thead>\n",
       "    <tr style=\"text-align: right;\">\n",
       "      <th></th>\n",
       "      <th>id</th>\n",
       "      <th>prompt_id</th>\n",
       "      <th>text</th>\n",
       "    </tr>\n",
       "  </thead>\n",
       "  <tbody>\n",
       "    <tr>\n",
       "      <th>0</th>\n",
       "      <td>0000aaaa</td>\n",
       "      <td>2</td>\n",
       "      <td>Aaa bbb ccc.</td>\n",
       "    </tr>\n",
       "  </tbody>\n",
       "</table>\n",
       "</div>"
      ],
      "text/plain": [
       "         id  prompt_id          text\n",
       "0  0000aaaa          2  Aaa bbb ccc."
      ]
     },
     "execution_count": 5,
     "metadata": {},
     "output_type": "execute_result"
    }
   ],
   "source": [
    "test_essays.head(1)"
   ]
  },
  {
   "cell_type": "code",
   "execution_count": 6,
   "id": "beb1b53c",
   "metadata": {
    "execution": {
     "iopub.execute_input": "2023-12-07T14:55:58.521544Z",
     "iopub.status.busy": "2023-12-07T14:55:58.520531Z",
     "iopub.status.idle": "2023-12-07T14:55:58.555664Z",
     "shell.execute_reply": "2023-12-07T14:55:58.554329Z"
    },
    "papermill": {
     "duration": 0.051598,
     "end_time": "2023-12-07T14:55:58.558926",
     "exception": false,
     "start_time": "2023-12-07T14:55:58.507328",
     "status": "completed"
    },
    "tags": []
   },
   "outputs": [
    {
     "data": {
      "text/html": [
       "<div>\n",
       "<style scoped>\n",
       "    .dataframe tbody tr th:only-of-type {\n",
       "        vertical-align: middle;\n",
       "    }\n",
       "\n",
       "    .dataframe tbody tr th {\n",
       "        vertical-align: top;\n",
       "    }\n",
       "\n",
       "    .dataframe thead th {\n",
       "        text-align: right;\n",
       "    }\n",
       "</style>\n",
       "<table border=\"1\" class=\"dataframe\">\n",
       "  <thead>\n",
       "    <tr style=\"text-align: right;\">\n",
       "      <th></th>\n",
       "      <th>prompt_id</th>\n",
       "      <th>prompt_name</th>\n",
       "      <th>instructions</th>\n",
       "      <th>source_text</th>\n",
       "      <th>id</th>\n",
       "      <th>text</th>\n",
       "      <th>generated</th>\n",
       "    </tr>\n",
       "  </thead>\n",
       "  <tbody>\n",
       "    <tr>\n",
       "      <th>0</th>\n",
       "      <td>0</td>\n",
       "      <td>Car-free cities</td>\n",
       "      <td>Write an explanatory essay to inform fellow ci...</td>\n",
       "      <td># In German Suburb, Life Goes On Without Cars ...</td>\n",
       "      <td>0059830c</td>\n",
       "      <td>Cars. Cars have been around since they became ...</td>\n",
       "      <td>0</td>\n",
       "    </tr>\n",
       "  </tbody>\n",
       "</table>\n",
       "</div>"
      ],
      "text/plain": [
       "   prompt_id      prompt_name  \\\n",
       "0          0  Car-free cities   \n",
       "\n",
       "                                        instructions  \\\n",
       "0  Write an explanatory essay to inform fellow ci...   \n",
       "\n",
       "                                         source_text        id  \\\n",
       "0  # In German Suburb, Life Goes On Without Cars ...  0059830c   \n",
       "\n",
       "                                                text  generated  \n",
       "0  Cars. Cars have been around since they became ...          0  "
      ]
     },
     "execution_count": 6,
     "metadata": {},
     "output_type": "execute_result"
    }
   ],
   "source": [
    "train_essays = pd.merge(train_prompts, train_essays, on='prompt_id', how='right')\n",
    "train_essays.head(1)"
   ]
  },
  {
   "cell_type": "code",
   "execution_count": 7,
   "id": "54ff9259",
   "metadata": {
    "execution": {
     "iopub.execute_input": "2023-12-07T14:55:58.584445Z",
     "iopub.status.busy": "2023-12-07T14:55:58.583991Z",
     "iopub.status.idle": "2023-12-07T14:55:58.602885Z",
     "shell.execute_reply": "2023-12-07T14:55:58.601607Z"
    },
    "papermill": {
     "duration": 0.03484,
     "end_time": "2023-12-07T14:55:58.605550",
     "exception": false,
     "start_time": "2023-12-07T14:55:58.570710",
     "status": "completed"
    },
    "tags": []
   },
   "outputs": [
    {
     "data": {
      "text/html": [
       "<div>\n",
       "<style scoped>\n",
       "    .dataframe tbody tr th:only-of-type {\n",
       "        vertical-align: middle;\n",
       "    }\n",
       "\n",
       "    .dataframe tbody tr th {\n",
       "        vertical-align: top;\n",
       "    }\n",
       "\n",
       "    .dataframe thead th {\n",
       "        text-align: right;\n",
       "    }\n",
       "</style>\n",
       "<table border=\"1\" class=\"dataframe\">\n",
       "  <thead>\n",
       "    <tr style=\"text-align: right;\">\n",
       "      <th></th>\n",
       "      <th>prompt_id</th>\n",
       "      <th>prompt_name</th>\n",
       "      <th>instructions</th>\n",
       "      <th>source_text</th>\n",
       "      <th>id</th>\n",
       "      <th>text</th>\n",
       "    </tr>\n",
       "  </thead>\n",
       "  <tbody>\n",
       "    <tr>\n",
       "      <th>0</th>\n",
       "      <td>2</td>\n",
       "      <td>NaN</td>\n",
       "      <td>NaN</td>\n",
       "      <td>NaN</td>\n",
       "      <td>0000aaaa</td>\n",
       "      <td>Aaa bbb ccc.</td>\n",
       "    </tr>\n",
       "  </tbody>\n",
       "</table>\n",
       "</div>"
      ],
      "text/plain": [
       "   prompt_id prompt_name instructions source_text        id          text\n",
       "0          2         NaN          NaN         NaN  0000aaaa  Aaa bbb ccc."
      ]
     },
     "execution_count": 7,
     "metadata": {},
     "output_type": "execute_result"
    }
   ],
   "source": [
    "test_essays = pd.merge(train_prompts, test_essays, on='prompt_id', how='right')\n",
    "test_essays.head(1)"
   ]
  },
  {
   "cell_type": "code",
   "execution_count": 8,
   "id": "9324e539",
   "metadata": {
    "execution": {
     "iopub.execute_input": "2023-12-07T14:55:58.631997Z",
     "iopub.status.busy": "2023-12-07T14:55:58.631152Z",
     "iopub.status.idle": "2023-12-07T14:55:58.643921Z",
     "shell.execute_reply": "2023-12-07T14:55:58.642446Z"
    },
    "papermill": {
     "duration": 0.029685,
     "end_time": "2023-12-07T14:55:58.647025",
     "exception": false,
     "start_time": "2023-12-07T14:55:58.617340",
     "status": "completed"
    },
    "tags": []
   },
   "outputs": [
    {
     "data": {
      "text/plain": [
       "generated\n",
       "0    1375\n",
       "1       3\n",
       "Name: count, dtype: int64"
      ]
     },
     "execution_count": 8,
     "metadata": {},
     "output_type": "execute_result"
    }
   ],
   "source": [
    "train_essays['generated'].value_counts()"
   ]
  },
  {
   "cell_type": "code",
   "execution_count": 9,
   "id": "55af03c8",
   "metadata": {
    "execution": {
     "iopub.execute_input": "2023-12-07T14:55:58.673782Z",
     "iopub.status.busy": "2023-12-07T14:55:58.673233Z",
     "iopub.status.idle": "2023-12-07T14:55:58.682744Z",
     "shell.execute_reply": "2023-12-07T14:55:58.681740Z"
    },
    "papermill": {
     "duration": 0.026313,
     "end_time": "2023-12-07T14:55:58.685532",
     "exception": false,
     "start_time": "2023-12-07T14:55:58.659219",
     "status": "completed"
    },
    "tags": []
   },
   "outputs": [
    {
     "data": {
      "text/plain": [
       "0       0\n",
       "1       0\n",
       "2       0\n",
       "3       0\n",
       "4       0\n",
       "       ..\n",
       "1373    0\n",
       "1374    0\n",
       "1375    0\n",
       "1376    0\n",
       "1377    0\n",
       "Name: generated, Length: 1378, dtype: int64"
      ]
     },
     "execution_count": 9,
     "metadata": {},
     "output_type": "execute_result"
    }
   ],
   "source": [
    "train_essays['generated']"
   ]
  },
  {
   "cell_type": "markdown",
   "id": "30c5e394",
   "metadata": {
    "papermill": {
     "duration": 0.011658,
     "end_time": "2023-12-07T14:55:58.709349",
     "exception": false,
     "start_time": "2023-12-07T14:55:58.697691",
     "status": "completed"
    },
    "tags": []
   },
   "source": [
    "## Distribution of Essay Lengths"
   ]
  },
  {
   "cell_type": "code",
   "execution_count": 10,
   "id": "4cfdcaaa",
   "metadata": {
    "execution": {
     "iopub.execute_input": "2023-12-07T14:55:58.736917Z",
     "iopub.status.busy": "2023-12-07T14:55:58.735792Z",
     "iopub.status.idle": "2023-12-07T14:55:59.575338Z",
     "shell.execute_reply": "2023-12-07T14:55:59.573920Z"
    },
    "papermill": {
     "duration": 0.856466,
     "end_time": "2023-12-07T14:55:59.578336",
     "exception": false,
     "start_time": "2023-12-07T14:55:58.721870",
     "status": "completed"
    },
    "tags": []
   },
   "outputs": [
    {
     "data": {
      "image/png": "[encoded data removed]",
      "text/plain": [
       "<Figure size 640x480 with 1 Axes>"
      ]
     },
     "metadata": {},
     "output_type": "display_data"
    }
   ],
   "source": [
    "# Calculate the length of each essay and create a new column\n",
    "train_essays['essay_length'] = train_essays['text'].apply(len)\n",
    "\n",
    "# Distribution of essay lengths for student essays\n",
    "sns.histplot(train_essays[train_essays['generated'] == 0]['essay_length'], color=\"skyblue\", label='Student Essays', kde=True)\n",
    "\n",
    "# Distribution of essay lengths for LLM generated essays\n",
    "sns.histplot(train_essays[train_essays['generated'] == 1]['essay_length'], color=\"red\", label='LLM Generated Essays', kde=True)\n",
    "\n",
    "plt.title('Distribution of Essay Lengths')\n",
    "plt.xlabel('Essay Length (Number of Characters)')\n",
    "plt.ylabel('Frequency')\n",
    "plt.legend()\n",
    "plt.show()"
   ]
  },
  {
   "cell_type": "markdown",
   "id": "d7fb3a3d",
   "metadata": {
    "papermill": {
     "duration": 0.013026,
     "end_time": "2023-12-07T14:55:59.605158",
     "exception": false,
     "start_time": "2023-12-07T14:55:59.592132",
     "status": "completed"
    },
    "tags": []
   },
   "source": [
    "## Comparison of Essay Lengths by Source"
   ]
  },
  {
   "cell_type": "code",
   "execution_count": 11,
   "id": "6f296ba6",
   "metadata": {
    "execution": {
     "iopub.execute_input": "2023-12-07T14:55:59.633884Z",
     "iopub.status.busy": "2023-12-07T14:55:59.633341Z",
     "iopub.status.idle": "2023-12-07T14:55:59.932381Z",
     "shell.execute_reply": "2023-12-07T14:55:59.930952Z"
    },
    "papermill": {
     "duration": 0.317364,
     "end_time": "2023-12-07T14:55:59.935823",
     "exception": false,
     "start_time": "2023-12-07T14:55:59.618459",
     "status": "completed"
    },
    "tags": []
   },
   "outputs": [
    {
     "data": {
      "image/png": "[encoded data removed]",
      "text/plain": [
       "<Figure size 640x480 with 1 Axes>"
      ]
     },
     "metadata": {},
     "output_type": "display_data"
    }
   ],
   "source": [
    "sns.boxplot(x='generated', y='essay_length', data=train_essays)\n",
    "plt.title('Comparison of Essay Lengths by Source')\n",
    "plt.xlabel('Essay Source')\n",
    "plt.ylabel('Essay Length')\n",
    "plt.xticks([0, 1], ['Student-written', 'LLM-generated'])\n",
    "plt.show()"
   ]
  },
  {
   "cell_type": "code",
   "execution_count": 12,
   "id": "30e1e769",
   "metadata": {
    "execution": {
     "iopub.execute_input": "2023-12-07T14:55:59.965369Z",
     "iopub.status.busy": "2023-12-07T14:55:59.964891Z",
     "iopub.status.idle": "2023-12-07T14:56:00.190405Z",
     "shell.execute_reply": "2023-12-07T14:56:00.189413Z"
    },
    "papermill": {
     "duration": 0.24359,
     "end_time": "2023-12-07T14:56:00.193150",
     "exception": false,
     "start_time": "2023-12-07T14:55:59.949560",
     "status": "completed"
    },
    "tags": []
   },
   "outputs": [
    {
     "data": {
      "text/html": [
       "<div>\n",
       "<style scoped>\n",
       "    .dataframe tbody tr th:only-of-type {\n",
       "        vertical-align: middle;\n",
       "    }\n",
       "\n",
       "    .dataframe tbody tr th {\n",
       "        vertical-align: top;\n",
       "    }\n",
       "\n",
       "    .dataframe thead th {\n",
       "        text-align: right;\n",
       "    }\n",
       "</style>\n",
       "<table border=\"1\" class=\"dataframe\">\n",
       "  <thead>\n",
       "    <tr style=\"text-align: right;\">\n",
       "      <th></th>\n",
       "      <th>word_count</th>\n",
       "      <th>unique_word_count</th>\n",
       "      <th>sentence_count</th>\n",
       "      <th>avg_word_length</th>\n",
       "    </tr>\n",
       "    <tr>\n",
       "      <th>generated</th>\n",
       "      <th></th>\n",
       "      <th></th>\n",
       "      <th></th>\n",
       "      <th></th>\n",
       "    </tr>\n",
       "  </thead>\n",
       "  <tbody>\n",
       "    <tr>\n",
       "      <th>0</th>\n",
       "      <td>556.768727</td>\n",
       "      <td>275.334545</td>\n",
       "      <td>30.063273</td>\n",
       "      <td>4.694868</td>\n",
       "    </tr>\n",
       "    <tr>\n",
       "      <th>1</th>\n",
       "      <td>260.666667</td>\n",
       "      <td>146.333333</td>\n",
       "      <td>13.000000</td>\n",
       "      <td>4.935610</td>\n",
       "    </tr>\n",
       "  </tbody>\n",
       "</table>\n",
       "</div>"
      ],
      "text/plain": [
       "           word_count  unique_word_count  sentence_count  avg_word_length\n",
       "generated                                                                \n",
       "0          556.768727         275.334545       30.063273         4.694868\n",
       "1          260.666667         146.333333       13.000000         4.935610"
      ]
     },
     "execution_count": 12,
     "metadata": {},
     "output_type": "execute_result"
    }
   ],
   "source": [
    "def calculate_text_metrics_simple(text):\n",
    "    words = text.split()\n",
    "    sentences = text.split('.')\n",
    "    word_count = len(words)\n",
    "    unique_word_count = len(set(words))\n",
    "    sentence_count = len(sentences)\n",
    "    avg_word_length = sum(len(word) for word in words) / word_count if word_count > 0 else 0\n",
    "    return word_count, unique_word_count, sentence_count, avg_word_length\n",
    "\n",
    "\n",
    "# Apply the function to the 'text' column\n",
    "train_essays['metrics'] = train_essays['text'].apply(calculate_text_metrics_simple)\n",
    "\n",
    "# Expand the 'metrics' column into separate columns\n",
    "train_essays[\n",
    "    ['word_count', 'unique_word_count', 'sentence_count', 'avg_word_length']\n",
    "] = pd.DataFrame(train_essays['metrics'].tolist(), index=train_essays.index)\n",
    "# Drop the 'metrics' column as it's no longer needed\n",
    "train_essays.drop('metrics', axis=1, inplace=True)\n",
    "\n",
    "# Group by 'generated' to compare these metrics between student-written and LLM-generated essays\n",
    "comparison_metrics = train_essays.groupby('generated')[\n",
    "    ['word_count', 'unique_word_count', 'sentence_count', 'avg_word_length']\n",
    "].mean()\n",
    "comparison_metrics"
   ]
  },
  {
   "cell_type": "code",
   "execution_count": 13,
   "id": "16125673",
   "metadata": {
    "execution": {
     "iopub.execute_input": "2023-12-07T14:56:00.224509Z",
     "iopub.status.busy": "2023-12-07T14:56:00.223947Z",
     "iopub.status.idle": "2023-12-07T14:56:01.672578Z",
     "shell.execute_reply": "2023-12-07T14:56:01.670910Z"
    },
    "papermill": {
     "duration": 1.46905,
     "end_time": "2023-12-07T14:56:01.676861",
     "exception": false,
     "start_time": "2023-12-07T14:56:00.207811",
     "status": "completed"
    },
    "tags": []
   },
   "outputs": [
    {
     "data": {
      "image/png": "[encoded data removed]",
      "text/plain": [
       "<Figure size 1500x600 with 1 Axes>"
      ]
     },
     "metadata": {},
     "output_type": "display_data"
    },
    {
     "data": {
      "image/png": "[encoded data removed]",
      "text/plain": [
       "<Figure size 1500x600 with 1 Axes>"
      ]
     },
     "metadata": {},
     "output_type": "display_data"
    }
   ],
   "source": [
    "def plot_most_common_words(text_series, num_words=30, title=\"Most Common Words\"):\n",
    "    all_text = ' '.join(text_series).lower()\n",
    "    words = all_text.split()\n",
    "    word_freq = Counter(words)\n",
    "    common_words = word_freq.most_common(num_words)\n",
    "\n",
    "    # Plot the most common words\n",
    "    plt.figure(figsize=(15, 6))\n",
    "    sns.barplot(x=[word for word, freq in common_words], y=[freq for word, freq in common_words])\n",
    "    plt.title(title)\n",
    "    plt.xticks(rotation=45)\n",
    "    plt.xlabel('Words')\n",
    "    plt.ylabel('Frequency')\n",
    "    plt.show()\n",
    "\n",
    "\n",
    "plot_most_common_words(train_essays[train_essays['generated'] == 0]['text'], title=\"Most Common Words in Student Essays\")\n",
    "plot_most_common_words(train_essays[train_essays['generated'] == 1]['text'], title=\"Most Common Words in LLM-generated Essays\")"
   ]
  },
  {
   "cell_type": "markdown",
   "id": "4ecf7faa",
   "metadata": {
    "papermill": {
     "duration": 0.022451,
     "end_time": "2023-12-07T14:56:01.719718",
     "exception": false,
     "start_time": "2023-12-07T14:56:01.697267",
     "status": "completed"
    },
    "tags": []
   },
   "source": [
    "# 建模过程\n",
    "\n",
    "## XGBoost人工特征\n",
    "\n",
    "https://www.kaggle.com/code/tivfrvqhs5/20-feature-xgboost\n",
    "\n",
    "```python\n",
    "def mean_diff_in_sentence_length_per_paragraph(text):\n",
    "    paragraphs = text.split('\\n\\n')\n",
    "    \n",
    "    mean_diffs = []\n",
    "    for paragraph in paragraphs:\n",
    "        sentences = re.split(r'[.?!]+', paragraph)\n",
    "        sentence_lengths = [len(sentence.split()) for sentence in sentences if sentence.strip()]\n",
    "        differences = [abs(sentence_lengths[i] - sentence_lengths[i+1]) for i in range(len(sentence_lengths) - 1)]\n",
    "        \n",
    "        if differences:\n",
    "            mean_diff = statistics.mean(differences)\n",
    "        else:\n",
    "            mean_diff = 0  # handle where no consecutive sentences or only empty sentences are present\n",
    "        mean_diffs.append(mean_diff)\n",
    "    \n",
    "    return mean_diffs\n",
    "\n",
    "def detect_word_alhough(text):\n",
    "    paragraphs = text.split('\\n\\n')\n",
    "    presence = [1 if 'although' in paragraph.lower() else 0 for paragraph in paragraphs]\n",
    "    return presence\n",
    "\n",
    "```\n",
    "\n",
    "## DeBERTa文本分类\n",
    "\n",
    "https://www.kaggle.com/code/alejopaullier/daigt-deberta-text-classification-train\n",
    "\n",
    "https://www.kaggle.com/code/alejopaullier/daigt-deberta-text-classification-inference\n",
    "\n",
    "```python\n",
    "class MeanPooling(nn.Module):\n",
    "    def __init__(self):\n",
    "        super(MeanPooling, self).__init__()\n",
    "        \n",
    "    def forward(self, last_hidden_state, attention_mask):\n",
    "        input_mask_expanded = attention_mask.unsqueeze(-1).expand(last_hidden_state.size()).float()\n",
    "        sum_embeddings = torch.sum(last_hidden_state * input_mask_expanded, 1)\n",
    "        sum_mask = input_mask_expanded.sum(1)\n",
    "        sum_mask = torch.clamp(sum_mask, min=1e-9)\n",
    "        mean_embeddings = sum_embeddings / sum_mask\n",
    "        return mean_embeddings\n",
    "    \n",
    "class CustomModel(nn.Module):\n",
    "    def __init__(self, cfg, config_path=None, pretrained=False):\n",
    "        super().__init__()\n",
    "        self.cfg = cfg\n",
    "        self.dropout = 0.2\n",
    "        # Load config by inferencing it from the model name.\n",
    "        if config_path is None: \n",
    "            self.config = AutoConfig.from_pretrained(cfg.MODEL, output_hidden_states=True)\n",
    "            self.config.hidden_dropout = 0.\n",
    "            self.config.hidden_dropout_prob = 0.\n",
    "            self.config.attention_dropout = 0.\n",
    "            self.config.attention_probs_dropout_prob = 0.\n",
    "        # Load config from a file.\n",
    "        else:\n",
    "            self.config = torch.load(config_path)\n",
    "        \n",
    "        if pretrained:\n",
    "            self.model = AutoModel.from_pretrained(cfg.MODEL, config=self.config)\n",
    "        else:\n",
    "            self.model = AutoModel(self.config)\n",
    "        \n",
    "        if self.cfg.GRADIENT_CHECKPOINTING:\n",
    "            self.model.gradient_checkpointing_enable()\n",
    "          \n",
    "        # Add MeanPooling and Linear head at the end to transform the Model into a RegressionModel\n",
    "        self.pool = MeanPooling()\n",
    "        self.head = nn.Sequential(\n",
    "            nn.Linear(self.config.hidden_size, 64),\n",
    "            nn.BatchNorm1d(64),\n",
    "            nn.ReLU(),\n",
    "            nn.Dropout(self.dropout),\n",
    "            nn.Linear(64, 16),\n",
    "            nn.BatchNorm1d(16),\n",
    "            nn.ReLU(),\n",
    "            nn.Dropout(self.dropout),\n",
    "            nn.Linear(16, 1)\n",
    "        )\n",
    "        self._init_weights(self.head)\n",
    "        \n",
    "    def feature(self, inputs):\n",
    "        \"\"\"\n",
    "        This method makes a forward pass through the model, get the last hidden state (embedding)\n",
    "        and pass it through the MeanPooling layer.\n",
    "        \"\"\"\n",
    "        outputs = self.model(**inputs)\n",
    "        last_hidden_states = outputs[0]\n",
    "        feature = self.pool(last_hidden_states, inputs['attention_mask'])\n",
    "        return feature\n",
    "\n",
    "    def forward(self, inputs):\n",
    "        \"\"\"\n",
    "        This method makes a forward pass through the model, the MeanPooling layer and finally\n",
    "        then through the Linear layer to get a regression value.\n",
    "        \"\"\"\n",
    "        feature = self.feature(inputs)\n",
    "        output = self.head(feature)\n",
    "        return output\n",
    "```\n",
    "\n",
    "## Tokenizer + TFIDF\n",
    "\n",
    "https://www.kaggle.com/code/verracodeguacas/sentencepiece-constructions\n",
    "\n",
    "https://www.kaggle.com/code/hubert101/0-960-phrases-are-keys/\n"
   ]
  },
  {
   "cell_type": "code",
   "execution_count": 14,
   "id": "1d0e5902",
   "metadata": {
    "execution": {
     "iopub.execute_input": "2023-12-07T14:56:01.755262Z",
     "iopub.status.busy": "2023-12-07T14:56:01.754259Z",
     "iopub.status.idle": "2023-12-07T14:56:10.926519Z",
     "shell.execute_reply": "2023-12-07T14:56:10.925051Z"
    },
    "papermill": {
     "duration": 9.193565,
     "end_time": "2023-12-07T14:56:10.929951",
     "exception": false,
     "start_time": "2023-12-07T14:56:01.736386",
     "status": "completed"
    },
    "tags": []
   },
   "outputs": [],
   "source": [
    "from sklearn.model_selection import StratifiedKFold\n",
    "from sklearn.metrics import roc_auc_score\n",
    "from sklearn.feature_extraction.text import TfidfVectorizer\n",
    "from sklearn.linear_model import SGDClassifier\n",
    "from sklearn.naive_bayes import MultinomialNB\n",
    "from sklearn.ensemble import VotingClassifier\n",
    "\n",
    "from lightgbm import LGBMClassifier\n",
    "from catboost import CatBoostClassifier\n",
    "\n",
    "from tokenizers import (\n",
    "    decoders,\n",
    "    models,\n",
    "    normalizers,\n",
    "    pre_tokenizers,\n",
    "    processors,\n",
    "    trainers,\n",
    "    Tokenizer,\n",
    ")\n",
    "from datasets import Dataset\n",
    "from transformers import PreTrainedTokenizerFast"
   ]
  },
  {
   "cell_type": "code",
   "execution_count": 15,
   "id": "88729629",
   "metadata": {
    "execution": {
     "iopub.execute_input": "2023-12-07T14:56:10.965214Z",
     "iopub.status.busy": "2023-12-07T14:56:10.964103Z",
     "iopub.status.idle": "2023-12-07T14:56:13.447645Z",
     "shell.execute_reply": "2023-12-07T14:56:13.446262Z"
    },
    "papermill": {
     "duration": 2.504706,
     "end_time": "2023-12-07T14:56:13.450925",
     "exception": false,
     "start_time": "2023-12-07T14:56:10.946219",
     "status": "completed"
    },
    "tags": []
   },
   "outputs": [],
   "source": [
    "train_v2_drcat_02_path = '/kaggle/input/daigt-v2-train-dataset/train_v2_drcat_02.csv'\n",
    "# train_v2_drcat_02_path = './train_v2_drcat_02.csv'\n",
    "train = pd.read_csv(train_v2_drcat_02_path, sep=',')"
   ]
  },
  {
   "cell_type": "code",
   "execution_count": 16,
   "id": "281f4796",
   "metadata": {
    "execution": {
     "iopub.execute_input": "2023-12-07T14:56:13.485335Z",
     "iopub.status.busy": "2023-12-07T14:56:13.484785Z",
     "iopub.status.idle": "2023-12-07T14:56:13.501389Z",
     "shell.execute_reply": "2023-12-07T14:56:13.500162Z"
    },
    "papermill": {
     "duration": 0.037301,
     "end_time": "2023-12-07T14:56:13.504407",
     "exception": false,
     "start_time": "2023-12-07T14:56:13.467106",
     "status": "completed"
    },
    "tags": []
   },
   "outputs": [
    {
     "data": {
      "text/html": [
       "<div>\n",
       "<style scoped>\n",
       "    .dataframe tbody tr th:only-of-type {\n",
       "        vertical-align: middle;\n",
       "    }\n",
       "\n",
       "    .dataframe tbody tr th {\n",
       "        vertical-align: top;\n",
       "    }\n",
       "\n",
       "    .dataframe thead th {\n",
       "        text-align: right;\n",
       "    }\n",
       "</style>\n",
       "<table border=\"1\" class=\"dataframe\">\n",
       "  <thead>\n",
       "    <tr style=\"text-align: right;\">\n",
       "      <th></th>\n",
       "      <th>text</th>\n",
       "      <th>label</th>\n",
       "      <th>prompt_name</th>\n",
       "      <th>source</th>\n",
       "      <th>RDizzl3_seven</th>\n",
       "    </tr>\n",
       "  </thead>\n",
       "  <tbody>\n",
       "    <tr>\n",
       "      <th>0</th>\n",
       "      <td>Phones\\n\\nModern humans today are always on th...</td>\n",
       "      <td>0</td>\n",
       "      <td>Phones and driving</td>\n",
       "      <td>persuade_corpus</td>\n",
       "      <td>False</td>\n",
       "    </tr>\n",
       "    <tr>\n",
       "      <th>1</th>\n",
       "      <td>This essay will explain if drivers should or s...</td>\n",
       "      <td>0</td>\n",
       "      <td>Phones and driving</td>\n",
       "      <td>persuade_corpus</td>\n",
       "      <td>False</td>\n",
       "    </tr>\n",
       "    <tr>\n",
       "      <th>2</th>\n",
       "      <td>Driving while the use of cellular devices\\n\\nT...</td>\n",
       "      <td>0</td>\n",
       "      <td>Phones and driving</td>\n",
       "      <td>persuade_corpus</td>\n",
       "      <td>False</td>\n",
       "    </tr>\n",
       "    <tr>\n",
       "      <th>3</th>\n",
       "      <td>Phones &amp; Driving\\n\\nDrivers should not be able...</td>\n",
       "      <td>0</td>\n",
       "      <td>Phones and driving</td>\n",
       "      <td>persuade_corpus</td>\n",
       "      <td>False</td>\n",
       "    </tr>\n",
       "    <tr>\n",
       "      <th>4</th>\n",
       "      <td>Cell Phone Operation While Driving\\n\\nThe abil...</td>\n",
       "      <td>0</td>\n",
       "      <td>Phones and driving</td>\n",
       "      <td>persuade_corpus</td>\n",
       "      <td>False</td>\n",
       "    </tr>\n",
       "  </tbody>\n",
       "</table>\n",
       "</div>"
      ],
      "text/plain": [
       "                                                text  label  \\\n",
       "0  Phones\\n\\nModern humans today are always on th...      0   \n",
       "1  This essay will explain if drivers should or s...      0   \n",
       "2  Driving while the use of cellular devices\\n\\nT...      0   \n",
       "3  Phones & Driving\\n\\nDrivers should not be able...      0   \n",
       "4  Cell Phone Operation While Driving\\n\\nThe abil...      0   \n",
       "\n",
       "          prompt_name           source  RDizzl3_seven  \n",
       "0  Phones and driving  persuade_corpus          False  \n",
       "1  Phones and driving  persuade_corpus          False  \n",
       "2  Phones and driving  persuade_corpus          False  \n",
       "3  Phones and driving  persuade_corpus          False  \n",
       "4  Phones and driving  persuade_corpus          False  "
      ]
     },
     "execution_count": 16,
     "metadata": {},
     "output_type": "execute_result"
    }
   ],
   "source": [
    "train.head()"
   ]
  },
  {
   "cell_type": "code",
   "execution_count": 17,
   "id": "99fe58b8",
   "metadata": {
    "execution": {
     "iopub.execute_input": "2023-12-07T14:56:13.540704Z",
     "iopub.status.busy": "2023-12-07T14:56:13.540161Z",
     "iopub.status.idle": "2023-12-07T14:56:13.628000Z",
     "shell.execute_reply": "2023-12-07T14:56:13.626702Z"
    },
    "papermill": {
     "duration": 0.110363,
     "end_time": "2023-12-07T14:56:13.630899",
     "exception": false,
     "start_time": "2023-12-07T14:56:13.520536",
     "status": "completed"
    },
    "tags": []
   },
   "outputs": [],
   "source": [
    "train = train.drop_duplicates(subset=['text'])\n",
    "train.reset_index(drop=True, inplace=True)"
   ]
  },
  {
   "cell_type": "code",
   "execution_count": 18,
   "id": "acb40bdb",
   "metadata": {
    "execution": {
     "iopub.execute_input": "2023-12-07T14:56:13.665593Z",
     "iopub.status.busy": "2023-12-07T14:56:13.665078Z",
     "iopub.status.idle": "2023-12-07T14:59:08.126173Z",
     "shell.execute_reply": "2023-12-07T14:59:08.124651Z"
    },
    "papermill": {
     "duration": 174.482761,
     "end_time": "2023-12-07T14:59:08.129850",
     "exception": false,
     "start_time": "2023-12-07T14:56:13.647089",
     "status": "completed"
    },
    "tags": []
   },
   "outputs": [
    {
     "name": "stdout",
     "output_type": "stream",
     "text": [
      "\n",
      "\n",
      "\n"
     ]
    }
   ],
   "source": [
    "LOWERCASE = False\n",
    "VOCAB_SIZE = 30522\n",
    "\n",
    "# Creating Byte-Pair Encoding tokenizer\n",
    "raw_tokenizer = Tokenizer(models.BPE(unk_token=\"[UNK]\"))\n",
    "\n",
    "# Adding normalization and pre_tokenizer\n",
    "raw_tokenizer.normalizer = normalizers.Sequence([normalizers.NFC()] + [normalizers.Lowercase()] if LOWERCASE else [])\n",
    "raw_tokenizer.pre_tokenizer = pre_tokenizers.ByteLevel()\n",
    "\n",
    "# Adding special tokens and creating trainer instance\n",
    "special_tokens = [\"[UNK]\", \"[PAD]\", \"[CLS]\", \"[SEP]\", \"[MASK]\"]\n",
    "trainer = trainers.BpeTrainer(vocab_size=VOCAB_SIZE, special_tokens=special_tokens)\n",
    "\n",
    "# Creating huggingface dataset object\n",
    "dataset = Dataset.from_pandas(test_essays[['text']])\n",
    "\n",
    "def train_corp_iter():\n",
    "    for i in range(0, len(dataset), 1000):\n",
    "        yield dataset[i: i + 1000][\"text\"]\n",
    "        \n",
    "raw_tokenizer.train_from_iterator(train_corp_iter(), trainer=trainer)\n",
    "tokenizer = PreTrainedTokenizerFast(\n",
    "    tokenizer_object=raw_tokenizer,\n",
    "    unk_token=\"[UNK]\",\n",
    "    pad_token=\"[PAD]\",\n",
    "    cls_token=\"[CLS]\",\n",
    "    sep_token=\"[SEP]\",\n",
    "    mask_token=\"[MASK]\",\n",
    ")\n",
    "tokenized_texts_test = []\n",
    "\n",
    "for text in test_essays['text'].tolist():\n",
    "    tokenized_texts_test.append(tokenizer.tokenize(text))\n",
    "\n",
    "tokenized_texts_train = []\n",
    "\n",
    "for text in train['text'].tolist():\n",
    "    tokenized_texts_train.append(tokenizer.tokenize(text))"
   ]
  },
  {
   "cell_type": "code",
   "execution_count": 19,
   "id": "89e1fdfc",
   "metadata": {
    "execution": {
     "iopub.execute_input": "2023-12-07T14:59:08.275241Z",
     "iopub.status.busy": "2023-12-07T14:59:08.274717Z",
     "iopub.status.idle": "2023-12-07T15:04:10.266365Z",
     "shell.execute_reply": "2023-12-07T15:04:10.264866Z"
    },
    "papermill": {
     "duration": 302.015802,
     "end_time": "2023-12-07T15:04:10.270090",
     "exception": false,
     "start_time": "2023-12-07T14:59:08.254288",
     "status": "completed"
    },
    "tags": []
   },
   "outputs": [],
   "source": [
    "vectorizer = TfidfVectorizer(\n",
    "    ngram_range=(3, 5),\n",
    "    lowercase=False,\n",
    "    sublinear_tf=True,\n",
    "    analyzer='word',\n",
    "    tokenizer=lambda x: x,\n",
    "    preprocessor=lambda x: x,\n",
    "    token_pattern=None,\n",
    "    strip_accents='unicode'\n",
    ")\n",
    "vectorizer.fit(tokenized_texts_test)\n",
    "vocab = vectorizer.vocabulary_\n",
    "\n",
    "vectorizer = TfidfVectorizer(\n",
    "    ngram_range=(3, 5), \n",
    "    lowercase=False, \n",
    "    sublinear_tf=True, \n",
    "    vocabulary=vocab,\n",
    "    analyzer='word',\n",
    "    tokenizer=lambda x: x,\n",
    "    preprocessor=lambda x: x,\n",
    "    token_pattern=None, \n",
    "    strip_accents='unicode'\n",
    ")\n",
    "\n",
    "tf_train = vectorizer.fit_transform(tokenized_texts_train)\n",
    "tf_test = vectorizer.transform(tokenized_texts_test)\n",
    "\n",
    "del vectorizer"
   ]
  },
  {
   "cell_type": "code",
   "execution_count": 20,
   "id": "cc20ba84",
   "metadata": {
    "execution": {
     "iopub.execute_input": "2023-12-07T15:04:10.305573Z",
     "iopub.status.busy": "2023-12-07T15:04:10.305078Z",
     "iopub.status.idle": "2023-12-07T15:04:10.347933Z",
     "shell.execute_reply": "2023-12-07T15:04:10.346553Z"
    },
    "papermill": {
     "duration": 0.064322,
     "end_time": "2023-12-07T15:04:10.351249",
     "exception": false,
     "start_time": "2023-12-07T15:04:10.286927",
     "status": "completed"
    },
    "tags": []
   },
   "outputs": [
    {
     "name": "stdout",
     "output_type": "stream",
     "text": [
      "VotingClassifier(estimators=[('mnb', MultinomialNB(alpha=0.02)),\n",
      "                             ('sgd',\n",
      "                              SGDClassifier(loss='modified_huber',\n",
      "                                            max_iter=8000, tol=0.0001)),\n",
      "                             ('lgb',\n",
      "                              LGBMClassifier(colsample_bynode=0.5803681307354022,\n",
      "                                             colsample_bytree=0.726023996436955,\n",
      "                                             lambda_l1=8.562963348932286,\n",
      "                                             lambda_l2=4.893256185259296,\n",
      "                                             learning_rate=0.05073909898961407,\n",
      "                                             max_bin=898, max_depth=23,\n",
      "                                             metric='auc', min_data_in_leaf=115,\n",
      "                                             n_iter=1500, objective='binary',\n",
      "                                             verbose=-1)),\n",
      "                             ('cat',\n",
      "                              <catboost.core.CatBoostClassifier object at 0x7bfd4d3479d0>)],\n",
      "                 n_jobs=-1, voting='soft', weights=[0.07, 0.41, 0.41, 0.41])\n",
      "         id  generated\n",
      "0  0000aaaa        0.1\n",
      "1  1111bbbb        0.9\n",
      "2  2222cccc        0.4\n"
     ]
    }
   ],
   "source": [
    "y_train = train['label'].values\n",
    "\n",
    "def get_model():\n",
    "    from catboost import CatBoostClassifier\n",
    "    clf = MultinomialNB(alpha=0.02)\n",
    "    sgd_model = SGDClassifier(max_iter=8000, tol=1e-4, loss=\"modified_huber\") \n",
    "    p6 = {\n",
    "        'n_iter': 1500,\n",
    "        'verbose': -1,\n",
    "        'objective': 'binary',\n",
    "        'metric': 'auc',\n",
    "        'learning_rate': 0.05073909898961407,\n",
    "        'colsample_bytree': 0.726023996436955,\n",
    "        'colsample_bynode': 0.5803681307354022,\n",
    "        'lambda_l1': 8.562963348932286,\n",
    "        'lambda_l2': 4.893256185259296,\n",
    "        'min_data_in_leaf': 115,\n",
    "        'max_depth': 23,\n",
    "        'max_bin': 898\n",
    "    }\n",
    "    lgb = LGBMClassifier(**p6)\n",
    "    cat = CatBoostClassifier(\n",
    "        iterations=1000,\n",
    "        verbose=0,\n",
    "        l2_leaf_reg=6.6591278779517808,\n",
    "        learning_rate=0.005689066836106983/2,\n",
    "        allow_const_label=True,\n",
    "        loss_function = 'CrossEntropy',\n",
    "        random_seed=1234\n",
    "    )\n",
    "    weights = [0.07,0.41,0.41,0.41]\n",
    " \n",
    "    ensemble = VotingClassifier(\n",
    "        estimators=[\n",
    "            ('mnb',clf),\n",
    "            ('sgd', sgd_model),\n",
    "            ('lgb',lgb), \n",
    "            ('cat', cat)\n",
    "        ],\n",
    "        weights=weights, voting='soft', n_jobs=-1\n",
    "    )\n",
    "    return ensemble\n",
    "\n",
    "model = get_model()\n",
    "print(model)\n",
    "\n",
    "if len(test_essays.text.values) <= 5:\n",
    "    sample_submit.to_csv('submission.csv', index=False)\n",
    "else:\n",
    "    model.fit(tf_train, y_train)\n",
    "    final_preds = model.predict_proba(tf_test)[:,1]\n",
    "    sample_submit['generated'] = final_preds\n",
    "    sample_submit.to_csv('submission.csv', index=False)\n",
    "    \n",
    "print(sample_submit)"
   ]
  },
  {
   "cell_type": "code",
   "execution_count": null,
   "id": "4490c63f",
   "metadata": {
    "papermill": {
     "duration": 0.01632,
     "end_time": "2023-12-07T15:04:10.384725",
     "exception": false,
     "start_time": "2023-12-07T15:04:10.368405",
     "status": "completed"
    },
    "tags": []
   },
   "outputs": [],
   "source": []
  }
 ],
 "metadata": {
  "kaggle": {
   "accelerator": "none",
   "dataSources": [
    {
     "databundleVersionId": 6888007,
     "sourceId": 61542,
     "sourceType": "competition"
    },
    {
     "datasetId": 4005256,
     "sourceId": 6977472,
     "sourceType": "datasetVersion"
    }
   ],
   "dockerImageVersionId": 30587,
   "isGpuEnabled": false,
   "isInternetEnabled": false,
   "language": "python",
   "sourceType": "notebook"
  },
  "kernelspec": {
   "display_name": "Python 3 (ipykernel)",
   "language": "python",
   "name": "python3"
  },
  "language_info": {
   "codemirror_mode": {
    "name": "ipython",
    "version": 3
   },
   "file_extension": ".py",
   "mimetype": "text/x-python",
   "name": "python",
   "nbconvert_exporter": "python",
   "pygments_lexer": "ipython3",
   "version": "3.11.5"
  },
  "papermill": {
   "default_parameters": {},
   "duration": 501.303328,
   "end_time": "2023-12-07T15:04:13.428367",
   "environment_variables": {},
   "exception": null,
   "input_path": "__notebook__.ipynb",
   "output_path": "__notebook__.ipynb",
   "parameters": {},
   "start_time": "2023-12-07T14:55:52.125039",
   "version": "2.4.0"
  },
  "widgets": {
   "application/vnd.jupyter.widget-state+json": {
    "state": {},
    "version_major": 2,
    "version_minor": 0
   }
  }
 },
 "nbformat": 4,
 "nbformat_minor": 5
}
