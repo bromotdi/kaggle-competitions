{
 "cells": [
  {
   "cell_type": "code",
   "execution_count": 1,
   "id": "abcef8b8",
   "metadata": {
    "_cell_guid": "b1076dfc-b9ad-4769-8c92-a6c4dae69d19",
    "_uuid": "8f2839f25d086af736a60e9eeb907d3b93b6e0e5",
    "execution": {
     "iopub.execute_input": "2024-04-01T00:40:31.356232Z",
     "iopub.status.busy": "2024-04-01T00:40:31.355881Z",
     "iopub.status.idle": "2024-04-01T00:40:48.426483Z",
     "shell.execute_reply": "2024-04-01T00:40:48.425699Z"
    },
    "papermill": {
     "duration": 17.086648,
     "end_time": "2024-04-01T00:40:48.428953",
     "exception": false,
     "start_time": "2024-04-01T00:40:31.342305",
     "status": "completed"
    },
    "tags": []
   },
   "outputs": [
    {
     "name": "stderr",
     "output_type": "stream",
     "text": [
      "/opt/conda/lib/python3.10/site-packages/dask/dataframe/_pyarrow_compat.py:23: UserWarning: You are using pyarrow version 11.0.0 which is known to be insecure. See https://www.cve.org/CVERecord?id=CVE-2023-47248 for further details. Please upgrade to pyarrow>=14.0.1 or install pyarrow-hotfix to patch your current version.\n",
      "  warnings.warn(\n",
      "2024-04-01 00:40:38.888030: E external/local_xla/xla/stream_executor/cuda/cuda_dnn.cc:9261] Unable to register cuDNN factory: Attempting to register factory for plugin cuDNN when one has already been registered\n",
      "2024-04-01 00:40:38.888131: E external/local_xla/xla/stream_executor/cuda/cuda_fft.cc:607] Unable to register cuFFT factory: Attempting to register factory for plugin cuFFT when one has already been registered\n",
      "2024-04-01 00:40:39.025382: E external/local_xla/xla/stream_executor/cuda/cuda_blas.cc:1515] Unable to register cuBLAS factory: Attempting to register factory for plugin cuBLAS when one has already been registered\n"
     ]
    }
   ],
   "source": [
    "import numpy as np\n",
    "import pandas as pd\n",
    "import matplotlib.pyplot as plt\n",
    "import scipy.stats as stats\n",
    "import seaborn as sns\n",
    "from sklearn.preprocessing import MinMaxScaler, RobustScaler\n",
    "from sklearn.ensemble import RandomForestClassifier, VotingClassifier, HistGradientBoostingClassifier\n",
    "from sklearn.metrics import roc_auc_score, accuracy_score\n",
    "from sklearn.model_selection import train_test_split, StratifiedKFold\n",
    "import lightgbm as lgb\n",
    "from lightgbm import LGBMClassifier, plot_importance\n",
    "from xgboost import XGBClassifier\n",
    "from catboost import CatBoostClassifier\n",
    "import tensorflow as tf\n",
    "from tensorflow.keras.models import Sequential\n",
    "from tensorflow.keras.layers import Dense, BatchNormalization, Dropout, Input\n",
    "from tensorflow.keras.optimizers import Adam\n",
    "from tensorflow.keras.callbacks import EarlyStopping\n",
    "from tensorflow.keras.utils import to_categorical\n",
    "import optuna\n",
    "from optuna.pruners import HyperbandPruner\n",
    "import random as python_random\n",
    "import gc\n",
    "from tensorflow.keras import backend as K\n",
    "\n",
    "tf.random.set_seed(42)\n",
    "np.random.seed(42)\n",
    "python_random.seed(42)\n"
   ]
  },
  {
   "cell_type": "code",
   "execution_count": 2,
   "id": "3d89b7fb",
   "metadata": {
    "execution": {
     "iopub.execute_input": "2024-04-01T00:40:48.455682Z",
     "iopub.status.busy": "2024-04-01T00:40:48.454713Z",
     "iopub.status.idle": "2024-04-01T00:40:48.664737Z",
     "shell.execute_reply": "2024-04-01T00:40:48.663686Z"
    },
    "papermill": {
     "duration": 0.225231,
     "end_time": "2024-04-01T00:40:48.667438",
     "exception": false,
     "start_time": "2024-04-01T00:40:48.442207",
     "status": "completed"
    },
    "tags": []
   },
   "outputs": [],
   "source": [
    "train_data = pd.read_csv('/kaggle/input/playground-series-s4e3/train.csv')\n",
    "original_data = pd.read_csv('/kaggle/input/faulty-steel-plates/faults.csv')\n",
    "test_data = pd.read_csv('/kaggle/input/playground-series-s4e3/test.csv')\n",
    "TARGET_FEATURES = ['Pastry', 'Z_Scratch', 'K_Scatch', 'Stains','Dirtiness', 'Bumps', 'Other_Faults']"
   ]
  },
  {
   "cell_type": "code",
   "execution_count": 3,
   "id": "f4110eaa",
   "metadata": {
    "execution": {
     "iopub.execute_input": "2024-04-01T00:40:48.693209Z",
     "iopub.status.busy": "2024-04-01T00:40:48.692873Z",
     "iopub.status.idle": "2024-04-01T00:40:48.736722Z",
     "shell.execute_reply": "2024-04-01T00:40:48.735912Z"
    },
    "papermill": {
     "duration": 0.058841,
     "end_time": "2024-04-01T00:40:48.739221",
     "exception": false,
     "start_time": "2024-04-01T00:40:48.680380",
     "status": "completed"
    },
    "tags": []
   },
   "outputs": [],
   "source": [
    "train_data = pd.concat([train_data,original_data],axis = 0).drop_duplicates()\n",
    "train_data.reset_index(drop=True, inplace=True)"
   ]
  },
  {
   "cell_type": "markdown",
   "id": "f6ecbdea",
   "metadata": {
    "papermill": {
     "duration": 0.011563,
     "end_time": "2024-04-01T00:40:48.765195",
     "exception": false,
     "start_time": "2024-04-01T00:40:48.753632",
     "status": "completed"
    },
    "tags": []
   },
   "source": [
    "# Feature Engineering"
   ]
  },
  {
   "cell_type": "markdown",
   "id": "67b2a7f5",
   "metadata": {
    "papermill": {
     "duration": 0.011318,
     "end_time": "2024-04-01T00:40:48.788000",
     "exception": false,
     "start_time": "2024-04-01T00:40:48.776682",
     "status": "completed"
    },
    "tags": []
   },
   "source": [
    "### 1. Data Cleaning\n",
    "- remove multi-label rows as they occur rarely and including them doesnt affect final score\n",
    "- Outside global index contains 3 unique value in original dataset and 4 unique value in synthetic dataset. The extra 4th unique value occur only once in the entire dataset. So i mapped it to closed Outside_Global_Index value"
   ]
  },
  {
   "cell_type": "code",
   "execution_count": 4,
   "id": "5b3448b6",
   "metadata": {
    "execution": {
     "iopub.execute_input": "2024-04-01T00:40:48.812518Z",
     "iopub.status.busy": "2024-04-01T00:40:48.812218Z",
     "iopub.status.idle": "2024-04-01T00:40:48.826095Z",
     "shell.execute_reply": "2024-04-01T00:40:48.825366Z"
    },
    "papermill": {
     "duration": 0.028413,
     "end_time": "2024-04-01T00:40:48.828006",
     "exception": false,
     "start_time": "2024-04-01T00:40:48.799593",
     "status": "completed"
    },
    "tags": []
   },
   "outputs": [],
   "source": [
    "train_data = train_data[train_data[TARGET_FEATURES].sum(axis=1) <= 1]\n",
    "train_data['Outside_Global_Index'] = np.where(train_data['Outside_Global_Index']==0.7, 0.5, train_data['Outside_Global_Index'])"
   ]
  },
  {
   "cell_type": "markdown",
   "id": "bae5447f",
   "metadata": {
    "papermill": {
     "duration": 0.011399,
     "end_time": "2024-04-01T00:40:48.850747",
     "exception": false,
     "start_time": "2024-04-01T00:40:48.839348",
     "status": "completed"
    },
    "tags": []
   },
   "source": [
    "### 2. Add more expressive features"
   ]
  },
  {
   "cell_type": "code",
   "execution_count": 5,
   "id": "6f349850",
   "metadata": {
    "execution": {
     "iopub.execute_input": "2024-04-01T00:40:48.874698Z",
     "iopub.status.busy": "2024-04-01T00:40:48.874426Z",
     "iopub.status.idle": "2024-04-01T00:40:48.882239Z",
     "shell.execute_reply": "2024-04-01T00:40:48.881557Z"
    },
    "papermill": {
     "duration": 0.021971,
     "end_time": "2024-04-01T00:40:48.884202",
     "exception": false,
     "start_time": "2024-04-01T00:40:48.862231",
     "status": "completed"
    },
    "tags": []
   },
   "outputs": [],
   "source": [
    "def log_transformation(data, columns):\n",
    "    for column in columns:\n",
    "        positive_values = data[column] - data[column].min() + 1\n",
    "        data[f'{column}_log'] = np.log(positive_values)\n",
    "    return data\n",
    "\n",
    "# train_data = square_transformation(train_data, )\n",
    "train_data = log_transformation(train_data, ['Pixels_Areas'])\n",
    "test_data = log_transformation(test_data, ['Pixels_Areas'])"
   ]
  },
  {
   "cell_type": "markdown",
   "id": "4e5774be",
   "metadata": {
    "papermill": {
     "duration": 0.011176,
     "end_time": "2024-04-01T00:40:48.906823",
     "exception": false,
     "start_time": "2024-04-01T00:40:48.895647",
     "status": "completed"
    },
    "tags": []
   },
   "source": [
    "### 3. Add label encoded target column \n",
    "\n",
    "- It will have one extra class to account for no defect labels"
   ]
  },
  {
   "cell_type": "code",
   "execution_count": 6,
   "id": "54692dc4",
   "metadata": {
    "execution": {
     "iopub.execute_input": "2024-04-01T00:40:48.931065Z",
     "iopub.status.busy": "2024-04-01T00:40:48.930728Z",
     "iopub.status.idle": "2024-04-01T00:40:48.935609Z",
     "shell.execute_reply": "2024-04-01T00:40:48.934826Z"
    },
    "papermill": {
     "duration": 0.019092,
     "end_time": "2024-04-01T00:40:48.937417",
     "exception": false,
     "start_time": "2024-04-01T00:40:48.918325",
     "status": "completed"
    },
    "tags": []
   },
   "outputs": [],
   "source": [
    "targets_bin = train_data[TARGET_FEATURES]"
   ]
  },
  {
   "cell_type": "code",
   "execution_count": 7,
   "id": "89dabd61",
   "metadata": {
    "execution": {
     "iopub.execute_input": "2024-04-01T00:40:48.961982Z",
     "iopub.status.busy": "2024-04-01T00:40:48.961264Z",
     "iopub.status.idle": "2024-04-01T00:40:48.973882Z",
     "shell.execute_reply": "2024-04-01T00:40:48.972965Z"
    },
    "papermill": {
     "duration": 0.027189,
     "end_time": "2024-04-01T00:40:48.975889",
     "exception": false,
     "start_time": "2024-04-01T00:40:48.948700",
     "status": "completed"
    },
    "tags": []
   },
   "outputs": [],
   "source": [
    "train_data['Target'] = np.argmax(train_data[TARGET_FEATURES].values, axis=1)+1\n",
    "train_data.loc[train_data[TARGET_FEATURES].sum(axis=1) == 0, 'Target'] = 0"
   ]
  },
  {
   "cell_type": "markdown",
   "id": "24ccfb5c",
   "metadata": {
    "papermill": {
     "duration": 0.01112,
     "end_time": "2024-04-01T00:40:48.998648",
     "exception": false,
     "start_time": "2024-04-01T00:40:48.987528",
     "status": "completed"
    },
    "tags": []
   },
   "source": [
    "### 4. Drop unimportant columns"
   ]
  },
  {
   "cell_type": "code",
   "execution_count": 8,
   "id": "6739a2f1",
   "metadata": {
    "execution": {
     "iopub.execute_input": "2024-04-01T00:40:49.022628Z",
     "iopub.status.busy": "2024-04-01T00:40:49.022360Z",
     "iopub.status.idle": "2024-04-01T00:40:49.030461Z",
     "shell.execute_reply": "2024-04-01T00:40:49.029717Z"
    },
    "papermill": {
     "duration": 0.022474,
     "end_time": "2024-04-01T00:40:49.032458",
     "exception": false,
     "start_time": "2024-04-01T00:40:49.009984",
     "status": "completed"
    },
    "tags": []
   },
   "outputs": [],
   "source": [
    "col_to_drop = ['id','Square_Index','Sum_of_Luminosity','X_Minimum', 'X_Perimeter', 'SigmoidOfAreas', 'Edges_X_Index', 'Y_Minimum', 'Y_Maximum','TypeOfSteel_A400']\n",
    "train_data = train_data.drop(col_to_drop + TARGET_FEATURES,axis = 1)\n",
    "test_data = test_data.drop(col_to_drop,axis = 1)"
   ]
  },
  {
   "cell_type": "markdown",
   "id": "04e4335d",
   "metadata": {
    "papermill": {
     "duration": 0.011246,
     "end_time": "2024-04-01T00:40:49.055132",
     "exception": false,
     "start_time": "2024-04-01T00:40:49.043886",
     "status": "completed"
    },
    "tags": []
   },
   "source": [
    "### 5. Scaling features"
   ]
  },
  {
   "cell_type": "code",
   "execution_count": 9,
   "id": "87c36a9d",
   "metadata": {
    "execution": {
     "iopub.execute_input": "2024-04-01T00:40:49.079470Z",
     "iopub.status.busy": "2024-04-01T00:40:49.079216Z",
     "iopub.status.idle": "2024-04-01T00:40:49.101184Z",
     "shell.execute_reply": "2024-04-01T00:40:49.100413Z"
    },
    "papermill": {
     "duration": 0.03626,
     "end_time": "2024-04-01T00:40:49.103217",
     "exception": false,
     "start_time": "2024-04-01T00:40:49.066957",
     "status": "completed"
    },
    "tags": []
   },
   "outputs": [],
   "source": [
    "col_to_robust_scale = ['Steel_Plate_Thickness', 'Empty_Index']\n",
    "col_to_min_max_scale = ['Pixels_Areas','Outside_X_Index']\n",
    "\n",
    "robustscaler = RobustScaler()\n",
    "minmaxscaler = MinMaxScaler()\n",
    "\n",
    "\n",
    "train_data[col_to_robust_scale] = robustscaler.fit_transform(train_data[col_to_robust_scale])\n",
    "test_data[col_to_robust_scale] = robustscaler.transform(test_data[col_to_robust_scale])\n",
    "\n",
    "train_data[col_to_min_max_scale] = minmaxscaler.fit_transform(train_data[col_to_min_max_scale])\n",
    "test_data[col_to_min_max_scale] = minmaxscaler.transform(test_data[col_to_min_max_scale])"
   ]
  },
  {
   "cell_type": "markdown",
   "id": "6d44d052",
   "metadata": {
    "papermill": {
     "duration": 0.011357,
     "end_time": "2024-04-01T00:40:49.126161",
     "exception": false,
     "start_time": "2024-04-01T00:40:49.114804",
     "status": "completed"
    },
    "tags": []
   },
   "source": [
    "# Model Training"
   ]
  },
  {
   "cell_type": "code",
   "execution_count": 10,
   "id": "3ed90a49",
   "metadata": {
    "execution": {
     "iopub.execute_input": "2024-04-01T00:40:49.149893Z",
     "iopub.status.busy": "2024-04-01T00:40:49.149638Z",
     "iopub.status.idle": "2024-04-01T00:40:49.155860Z",
     "shell.execute_reply": "2024-04-01T00:40:49.155092Z"
    },
    "papermill": {
     "duration": 0.020358,
     "end_time": "2024-04-01T00:40:49.157799",
     "exception": false,
     "start_time": "2024-04-01T00:40:49.137441",
     "status": "completed"
    },
    "tags": []
   },
   "outputs": [],
   "source": [
    "X = train_data.drop(['Target'], axis=1)  \n",
    "y = train_data['Target']  "
   ]
  },
  {
   "cell_type": "markdown",
   "id": "86174ed5",
   "metadata": {
    "papermill": {
     "duration": 0.011299,
     "end_time": "2024-04-01T00:40:49.180622",
     "exception": false,
     "start_time": "2024-04-01T00:40:49.169323",
     "status": "completed"
    },
    "tags": []
   },
   "source": [
    "## Random Forest Model"
   ]
  },
  {
   "cell_type": "code",
   "execution_count": 11,
   "id": "6e679891",
   "metadata": {
    "execution": {
     "iopub.execute_input": "2024-04-01T00:40:49.204488Z",
     "iopub.status.busy": "2024-04-01T00:40:49.204235Z",
     "iopub.status.idle": "2024-04-01T00:40:49.215173Z",
     "shell.execute_reply": "2024-04-01T00:40:49.214238Z"
    },
    "papermill": {
     "duration": 0.025189,
     "end_time": "2024-04-01T00:40:49.217097",
     "exception": false,
     "start_time": "2024-04-01T00:40:49.191908",
     "status": "completed"
    },
    "tags": []
   },
   "outputs": [
    {
     "name": "stderr",
     "output_type": "stream",
     "text": [
      "[I 2024-04-01 00:40:49,211] A new study created in memory with name: rf_model_training\n"
     ]
    }
   ],
   "source": [
    "RETRAIN_RF_MODEL = False \n",
    "\n",
    "def objective(trial):\n",
    "    \n",
    "    param = {\n",
    "        'n_estimators': trial.suggest_int('n_estimators', 1100, 5500),\n",
    "        'max_depth': trial.suggest_int('max_depth', 12, 40),\n",
    "        'min_samples_split': trial.suggest_int('min_samples_split', 2, 40),\n",
    "        'min_samples_leaf': trial.suggest_int('min_samples_leaf', 1, 40),\n",
    "        'max_samples': trial.suggest_float('max_samples', 0.1, 1.0),\n",
    "        'random_state': 42,\n",
    "        'n_jobs':-1\n",
    "      }\n",
    "\n",
    "    cv = StratifiedKFold(n_splits=5, shuffle=True, random_state=42)\n",
    "    auc_scores = []\n",
    "\n",
    "    for train_idx, valid_idx in cv.split(X, y):\n",
    "        X_train_fold, X_valid_fold = X.iloc[train_idx], X.iloc[valid_idx]\n",
    "        y_train_fold, y_valid_fold = y.iloc[train_idx], y.iloc[valid_idx]\n",
    "        model = RandomForestClassifier(**param)\n",
    "        model.fit(X_train_fold, y_train_fold)\n",
    "        y_prob = model.predict_proba(X_valid_fold)\n",
    "        average_auc = roc_auc_score(targets_bin.iloc[valid_idx], y_prob[:, 1:], multi_class=\"ovr\", average=\"macro\")\n",
    "        auc_scores.append(average_auc)\n",
    "\n",
    "    return np.mean(auc_scores)\n",
    "\n",
    "\n",
    "study = optuna.create_study(direction='maximize', study_name=\"rf_model_training\")\n",
    "if RETRAIN_RF_MODEL:\n",
    "    study.optimize(objective, n_trials=200) \n",
    "    print(f\"Best trial average AUC: {study.best_value:.4f}\")\n",
    "    for key, value in study.best_params.items():\n",
    "        print(f\"{key}: {value}\")\n"
   ]
  },
  {
   "cell_type": "markdown",
   "id": "689728be",
   "metadata": {
    "papermill": {
     "duration": 0.011229,
     "end_time": "2024-04-01T00:40:49.239642",
     "exception": false,
     "start_time": "2024-04-01T00:40:49.228413",
     "status": "completed"
    },
    "tags": []
   },
   "source": [
    "## HGBC Model"
   ]
  },
  {
   "cell_type": "code",
   "execution_count": 12,
   "id": "9aef1228",
   "metadata": {
    "execution": {
     "iopub.execute_input": "2024-04-01T00:40:49.263920Z",
     "iopub.status.busy": "2024-04-01T00:40:49.263285Z",
     "iopub.status.idle": "2024-04-01T00:40:49.273653Z",
     "shell.execute_reply": "2024-04-01T00:40:49.272884Z"
    },
    "papermill": {
     "duration": 0.024777,
     "end_time": "2024-04-01T00:40:49.275717",
     "exception": false,
     "start_time": "2024-04-01T00:40:49.250940",
     "status": "completed"
    },
    "tags": []
   },
   "outputs": [
    {
     "name": "stderr",
     "output_type": "stream",
     "text": [
      "[I 2024-04-01 00:40:49,270] A new study created in memory with name: HistGradientBoostingClassifier_model_training\n"
     ]
    }
   ],
   "source": [
    "RETRAIN_HGBC_MODEL = False\n",
    "\n",
    "def objective(trial):\n",
    "    param = {\n",
    "        'learning_rate': trial.suggest_float('learning_rate', 0.005, 0.1),\n",
    "        'max_iter': trial.suggest_int('max_iter', 100, 2500), \n",
    "        'max_depth': trial.suggest_int('max_depth', 3, 20),\n",
    "        'l2_regularization': trial.suggest_float('l2_regularization', 1e-8, 10.0, log=True),\n",
    "        'min_samples_leaf': trial.suggest_int('min_samples_leaf', 20, 300),\n",
    "        'max_bins': trial.suggest_int('max_bins', 25, 255),\n",
    "        'random_state' : 42\n",
    "    }\n",
    "    \n",
    "    cv = StratifiedKFold(n_splits=5, shuffle=True, random_state=42)\n",
    "    auc_scores = []\n",
    "\n",
    "    for train_idx, valid_idx in cv.split(X, y):\n",
    "        X_train_fold, X_valid_fold = X.iloc[train_idx], X.iloc[valid_idx]\n",
    "        y_train_fold, y_valid_fold = y.iloc[train_idx], y.iloc[valid_idx]\n",
    "        model = HistGradientBoostingClassifier(**param)\n",
    "        model.fit(X_train_fold, y_train_fold)\n",
    "        y_prob = model.predict_proba(X_valid_fold)\n",
    "        average_auc = roc_auc_score(targets_bin.iloc[valid_idx], y_prob[:, 1:], multi_class=\"ovr\", average=\"macro\")\n",
    "        auc_scores.append(average_auc)\n",
    "\n",
    "    return np.mean(auc_scores)\n",
    "\n",
    "study = optuna.create_study(direction='maximize', study_name=\"HistGradientBoostingClassifier_model_training\")\n",
    "if RETRAIN_HGBC_MODEL:\n",
    "    study.optimize(objective, n_trials=200)\n",
    "    print(f\"Best trial average AUC: {study.best_value:.4f}\")\n",
    "    for key, value in study.best_params.items():\n",
    "        print(f\"{key}: {value}\")\n"
   ]
  },
  {
   "cell_type": "markdown",
   "id": "59683e3c",
   "metadata": {
    "papermill": {
     "duration": 0.011441,
     "end_time": "2024-04-01T00:40:49.298554",
     "exception": false,
     "start_time": "2024-04-01T00:40:49.287113",
     "status": "completed"
    },
    "tags": []
   },
   "source": [
    "## CAT Boost Model"
   ]
  },
  {
   "cell_type": "code",
   "execution_count": 13,
   "id": "155e5684",
   "metadata": {
    "execution": {
     "iopub.execute_input": "2024-04-01T00:40:49.323480Z",
     "iopub.status.busy": "2024-04-01T00:40:49.323245Z",
     "iopub.status.idle": "2024-04-01T00:40:49.334723Z",
     "shell.execute_reply": "2024-04-01T00:40:49.333795Z"
    },
    "papermill": {
     "duration": 0.026084,
     "end_time": "2024-04-01T00:40:49.336571",
     "exception": false,
     "start_time": "2024-04-01T00:40:49.310487",
     "status": "completed"
    },
    "tags": []
   },
   "outputs": [
    {
     "name": "stderr",
     "output_type": "stream",
     "text": [
      "[I 2024-04-01 00:40:49,330] A new study created in memory with name: catboost_model_training\n"
     ]
    }
   ],
   "source": [
    "RETRAIN_CATBOOST_MODEL = False\n",
    "\n",
    "def objective(trial):\n",
    "    \n",
    "    param = {\n",
    "        \"loss_function\": \"MultiClass\",\n",
    "        \"eval_metric\": \"MultiClass\",\n",
    "        \"learning_rate\": trial.suggest_float(\"learning_rate\", 0.01, 0.1),\n",
    "        \"n_estimators\": trial.suggest_int(\"n_estimators\", 300, 1000),\n",
    "        \"l2_leaf_reg\": trial.suggest_float(\"l2_leaf_reg\", 0.0, 10.0),\n",
    "        \"depth\": trial.suggest_int(\"depth\", 3, 10),\n",
    "        \"colsample_bylevel\": trial.suggest_float(\"colsample_bylevel\", 0.1, 1.0),\n",
    "        \"bootstrap_type\": \"Bernoulli\",\n",
    "        \"subsample\": trial.suggest_float(\"subsample\", 0.1, 1.0),\n",
    "        \"random_state\": 42,\n",
    "        \"verbose\": False\n",
    "    }\n",
    "\n",
    "    cv = StratifiedKFold(n_splits=10, shuffle=True, random_state=42)\n",
    "    auc_scores = []\n",
    "\n",
    "    for train_idx, valid_idx in cv.split(X, y):\n",
    "        X_train_fold, X_valid_fold = X.iloc[train_idx], X.iloc[valid_idx]\n",
    "        y_train_fold, y_valid_fold = y.iloc[train_idx], y.iloc[valid_idx]\n",
    "        model = CatBoostClassifier(**param)\n",
    "        model.fit(X_train_fold, y_train_fold, eval_set=(X_valid_fold, y_valid_fold), verbose=False, early_stopping_rounds=100)\n",
    "        y_prob = model.predict_proba(X_valid_fold)\n",
    "        average_auc = roc_auc_score(y_valid_fold, y_prob, multi_class=\"ovr\", average=\"macro\")\n",
    "        auc_scores.append(average_auc)\n",
    "\n",
    "    return np.mean(auc_scores)\n",
    "\n",
    "\n",
    "study = optuna.create_study(direction='maximize', study_name=\"catboost_model_training\")\n",
    "\n",
    "if RETRAIN_CATBOOST_MODEL:\n",
    "    study.optimize(objective, n_trials=100)\n",
    "    print(f\"Best trial average AUC: {study.best_value:.4f}\")\n",
    "    for key, value in study.best_params.items():\n",
    "        print(f\"{key}: {value}\")\n"
   ]
  },
  {
   "cell_type": "markdown",
   "id": "f83f084f",
   "metadata": {
    "papermill": {
     "duration": 0.012216,
     "end_time": "2024-04-01T00:40:49.361193",
     "exception": false,
     "start_time": "2024-04-01T00:40:49.348977",
     "status": "completed"
    },
    "tags": []
   },
   "source": [
    "## LGBM Model"
   ]
  },
  {
   "cell_type": "code",
   "execution_count": 14,
   "id": "27c73f74",
   "metadata": {
    "execution": {
     "iopub.execute_input": "2024-04-01T00:40:49.386695Z",
     "iopub.status.busy": "2024-04-01T00:40:49.386436Z",
     "iopub.status.idle": "2024-04-01T00:40:49.398348Z",
     "shell.execute_reply": "2024-04-01T00:40:49.397349Z"
    },
    "papermill": {
     "duration": 0.026916,
     "end_time": "2024-04-01T00:40:49.400271",
     "exception": false,
     "start_time": "2024-04-01T00:40:49.373355",
     "status": "completed"
    },
    "tags": []
   },
   "outputs": [
    {
     "name": "stderr",
     "output_type": "stream",
     "text": [
      "[I 2024-04-01 00:40:49,394] A new study created in memory with name: lgbm_model_training\n"
     ]
    }
   ],
   "source": [
    "RETRAIN_LGBM_MODEL = False\n",
    "\n",
    "def objective(trial):\n",
    "    param = {\n",
    "    'objective': 'multiclass', \n",
    "    'num_class': 8,\n",
    "    'learning_rate': trial.suggest_float('learning_rate', 0.005, 0.1),\n",
    "    'n_estimators': trial.suggest_int('n_estimators', 300, 1200),\n",
    "    'lambda_l1': trial.suggest_float('lambda_l1', 1e-8, 10.0, log=True),\n",
    "    'lambda_l2': trial.suggest_float('lambda_l2', 1e-8, 10.0, log=True),\n",
    "    'max_depth': trial.suggest_int('max_depth', 3, 10),\n",
    "    'colsample_bytree': trial.suggest_float('colsample_bytree', 0.3, 1.0),\n",
    "    'subsample': trial.suggest_float('subsample', 0.5, 1.0),\n",
    "    'min_child_weight': trial.suggest_int('min_child_weight', 1, 8),\n",
    "    'device_type': 'gpu',\n",
    "    'num_leaves': trial.suggest_int('num_leaves', 4, 2048),\n",
    "    \"verbosity\": -1\n",
    "    }\n",
    "\n",
    "    cv = StratifiedKFold(n_splits=10, shuffle=True, random_state=42)\n",
    "    auc_scores = []\n",
    "\n",
    "    for train_idx, valid_idx in cv.split(X, y):\n",
    "\n",
    "        X_train_fold, X_valid_fold = X.iloc[train_idx], X.iloc[valid_idx]\n",
    "        y_train_fold, y_valid_fold = y.iloc[train_idx], y.iloc[valid_idx]\n",
    "        model = LGBMClassifier(**param)\n",
    "        model.fit(X_train_fold, y_train_fold)\n",
    "        y_prob = model.predict_proba(X_valid_fold)\n",
    "        average_auc = roc_auc_score(targets_bin.iloc[valid_idx], y_prob[:, 1:], multi_class=\"ovr\", average=\"macro\")\n",
    "        auc_scores.append(average_auc)\n",
    "\n",
    "    return np.mean(auc_scores)\n",
    "\n",
    "study = optuna.create_study(direction='maximize',study_name = \"lgbm_model_training\")\n",
    "if RETRAIN_LGBM_MODEL:\n",
    "    study.optimize(objective, n_trials=180) \n",
    "    print(f\"Best trial average AUC: {study.best_value:.4f}\")\n",
    "    for key, value in study.best_params.items():\n",
    "        print(f\"{key}: {value}\")\n"
   ]
  },
  {
   "cell_type": "markdown",
   "id": "c84dbf34",
   "metadata": {
    "papermill": {
     "duration": 0.011882,
     "end_time": "2024-04-01T00:40:49.423742",
     "exception": false,
     "start_time": "2024-04-01T00:40:49.411860",
     "status": "completed"
    },
    "tags": []
   },
   "source": [
    "## XGB MODEL"
   ]
  },
  {
   "cell_type": "code",
   "execution_count": 15,
   "id": "9e21ebdf",
   "metadata": {
    "execution": {
     "iopub.execute_input": "2024-04-01T00:40:49.449193Z",
     "iopub.status.busy": "2024-04-01T00:40:49.448929Z",
     "iopub.status.idle": "2024-04-01T00:40:49.460413Z",
     "shell.execute_reply": "2024-04-01T00:40:49.459520Z"
    },
    "papermill": {
     "duration": 0.02697,
     "end_time": "2024-04-01T00:40:49.462492",
     "exception": false,
     "start_time": "2024-04-01T00:40:49.435522",
     "status": "completed"
    },
    "tags": []
   },
   "outputs": [
    {
     "name": "stderr",
     "output_type": "stream",
     "text": [
      "[I 2024-04-01 00:40:49,456] A new study created in memory with name: xgb_model_training\n"
     ]
    }
   ],
   "source": [
    "RETRAIN_XGB_MODEL = False\n",
    "def objective(trial):\n",
    "\n",
    "    param = {\n",
    "        'objective':'multi:softmax',\n",
    "        'learning_rate': trial.suggest_float('learning_rate', 0.005, 0.1),\n",
    "        'n_estimators': trial.suggest_int('n_estimators',250,1000),\n",
    "        'reg_alpha': trial.suggest_float('reg_alpha', 1e-8, 10.0,log=True),\n",
    "        'reg_lambda': trial.suggest_float('reg_lambda', 1e-8, 10.0,log=True),\n",
    "        'max_depth': trial.suggest_int('max_depth', 3, 20),\n",
    "        'colsample_bytree': trial.suggest_float('colsample_bytree', 0.3, 1.0),\n",
    "        'subsample': trial.suggest_float('subsample', 0.5, 1.0),\n",
    "        'min_child_weight': trial.suggest_int('min_child_weight', 1, 8),\n",
    "        'device' : \"cuda\",\n",
    "        'tree_method':\"hist\"\n",
    "    }\n",
    "    cv = StratifiedKFold(n_splits=10, shuffle=True, random_state=42)\n",
    "    auc_scores = []\n",
    "\n",
    "    for train_idx, valid_idx in cv.split(X, y):\n",
    "\n",
    "        X_train_fold, X_valid_fold = X.iloc[train_idx], X.iloc[valid_idx]\n",
    "        y_train_fold, y_valid_fold = y.iloc[train_idx], y.iloc[valid_idx]\n",
    "        model = XGBClassifier(**param)\n",
    "        model.fit(X_train_fold, y_train_fold)\n",
    "        y_prob = model.predict_proba(X_valid_fold)\n",
    "        average_auc = roc_auc_score(targets_bin.iloc[valid_idx], y_prob[:, 1:], multi_class=\"ovr\", average=\"macro\")\n",
    "        auc_scores.append(average_auc)\n",
    "\n",
    "    return np.mean(auc_scores)\n",
    "\n",
    "\n",
    "study = optuna.create_study(direction='maximize',study_name = \"xgb_model_training\")\n",
    "if RETRAIN_XGB_MODEL:\n",
    "    study.optimize(objective, n_trials=200)\n",
    "    print(f\"Best trial average AUC: {study.best_value:.4f}\")\n",
    "    for key, value in study.best_params.items():\n",
    "        print(f\"{key}: {value}\")\n"
   ]
  },
  {
   "cell_type": "markdown",
   "id": "8a36389f",
   "metadata": {
    "papermill": {
     "duration": 0.014107,
     "end_time": "2024-04-01T00:40:49.489513",
     "exception": false,
     "start_time": "2024-04-01T00:40:49.475406",
     "status": "completed"
    },
    "tags": []
   },
   "source": [
    "## Best Model Params:"
   ]
  },
  {
   "cell_type": "code",
   "execution_count": 16,
   "id": "acc41911",
   "metadata": {
    "execution": {
     "iopub.execute_input": "2024-04-01T00:40:49.524084Z",
     "iopub.status.busy": "2024-04-01T00:40:49.523727Z",
     "iopub.status.idle": "2024-04-01T00:40:49.533844Z",
     "shell.execute_reply": "2024-04-01T00:40:49.532999Z"
    },
    "papermill": {
     "duration": 0.033924,
     "end_time": "2024-04-01T00:40:49.537929",
     "exception": false,
     "start_time": "2024-04-01T00:40:49.504005",
     "status": "completed"
    },
    "tags": []
   },
   "outputs": [],
   "source": [
    "lgbm_params = {\n",
    "    \"objective\": \"multiclass\",\n",
    "    \"verbosity\": -1,\n",
    "    \"random_state\": 42,\n",
    "    \"num_class\": 8,\n",
    "    'learning_rate': 0.014752843955666523,\n",
    "    'n_estimators': 618,\n",
    "    'lambda_l1': 1.4050330996128146,\n",
    "    'lambda_l2': 8.85983526709923e-08,\n",
    "    'max_depth': 4,\n",
    "    'colsample_bytree': 0.3787120691002838,\n",
    "    'subsample': 0.5858336045495702,\n",
    "    'min_child_weight': 2,\n",
    "    'num_leaves': 1840,\n",
    "    'device' : 'gpu',\n",
    "}\n",
    "\n",
    "\n",
    "cat_params = {\n",
    "    'loss_function': 'MultiClass',\n",
    "    'learning_rate': 0.06497097587405798,\n",
    "    'iterations': 1392,\n",
    "    'l2_leaf_reg': 6.242622838509466,\n",
    "    'depth': 4,\n",
    "    'task_type':'GPU',\n",
    "    'devices':'0',\n",
    "    'verbose': False,\n",
    "    \"random_state\": 42\n",
    "\n",
    "}\n",
    "\n",
    "xgb_params = {\n",
    "        'objective':'multi:softmax',\n",
    "        'learning_rate': 0.014525601125449565,\n",
    "        'n_estimators': 981,\n",
    "        'reg_alpha': 1.4566882667398338,\n",
    "        'reg_lambda': 5.86255409028864e-08,\n",
    "        'max_depth': 5,\n",
    "        'colsample_bytree': 0.3032477181611612,\n",
    "        'subsample': 0.8720613168628836,\n",
    "        'min_child_weight': 4,\n",
    "        'device' : \"cuda\",\n",
    "        'tree_method':\"hist\",\n",
    "    }\n",
    "\n",
    "\n",
    "\n",
    "histGradient_params = {\n",
    "    'random_state' : 42,\n",
    "    'learning_rate': 0.019944410547905925,\n",
    "    'max_iter': 2309,\n",
    "    'max_depth': 6,\n",
    "    'l2_regularization': 5.611274355555922e-08,\n",
    "    'min_samples_leaf': 299,\n",
    "    'max_bins': 101,\n",
    "}\n",
    "\n",
    "\n",
    "\n",
    "\n",
    "rf_params = {\n",
    "    'random_state': 42,\n",
    "    'n_estimators': 3996,\n",
    "    'max_depth': 18,\n",
    "    'min_samples_split': 13,\n",
    "    'min_samples_leaf': 3,\n",
    "    'max_samples': 0.8220916127612791,\n",
    "    'n_jobs':-1\n",
    "}"
   ]
  },
  {
   "cell_type": "code",
   "execution_count": 17,
   "id": "4c894fef",
   "metadata": {
    "execution": {
     "iopub.execute_input": "2024-04-01T00:40:49.566903Z",
     "iopub.status.busy": "2024-04-01T00:40:49.566562Z",
     "iopub.status.idle": "2024-04-01T00:40:49.574984Z",
     "shell.execute_reply": "2024-04-01T00:40:49.574175Z"
    },
    "papermill": {
     "duration": 0.023716,
     "end_time": "2024-04-01T00:40:49.576958",
     "exception": false,
     "start_time": "2024-04-01T00:40:49.553242",
     "status": "completed"
    },
    "tags": []
   },
   "outputs": [],
   "source": [
    "cv_estimators = [\n",
    "    ('XGB', XGBClassifier(**xgb_params)),\n",
    "    ('LGBM', LGBMClassifier(**lgbm_params)),\n",
    "    ('CAT', CatBoostClassifier(**cat_params)),\n",
    "#     ('RF', RandomForestClassifier(**rf_params)),\n",
    "    ('HGBC', HistGradientBoostingClassifier(**histGradient_params))\n",
    "]"
   ]
  },
  {
   "cell_type": "markdown",
   "id": "8207f8e4",
   "metadata": {
    "papermill": {
     "duration": 0.013811,
     "end_time": "2024-04-01T00:40:49.602637",
     "exception": false,
     "start_time": "2024-04-01T00:40:49.588826",
     "status": "completed"
    },
    "tags": []
   },
   "source": [
    "## Finding best weights for voting classifier"
   ]
  },
  {
   "cell_type": "code",
   "execution_count": 18,
   "id": "38928012",
   "metadata": {
    "execution": {
     "iopub.execute_input": "2024-04-01T00:40:49.629674Z",
     "iopub.status.busy": "2024-04-01T00:40:49.628849Z",
     "iopub.status.idle": "2024-04-01T00:40:49.643075Z",
     "shell.execute_reply": "2024-04-01T00:40:49.642114Z"
    },
    "papermill": {
     "duration": 0.029168,
     "end_time": "2024-04-01T00:40:49.645107",
     "exception": false,
     "start_time": "2024-04-01T00:40:49.615939",
     "status": "completed"
    },
    "tags": []
   },
   "outputs": [
    {
     "name": "stderr",
     "output_type": "stream",
     "text": [
      "[I 2024-04-01 00:40:49,639] A new study created in memory with name: voting_classifier_training\n"
     ]
    }
   ],
   "source": [
    "WEIGHT_TUNE = False\n",
    "\n",
    "def objective(trial):\n",
    "    \n",
    "    params = {\n",
    "        'XGB_Weight': trial.suggest_float('XGB_Weight', 0.0, 5.0),\n",
    "        'LGBM_Weight': trial.suggest_float('LGBM_Weight', 0.0, 5.0),\n",
    "        'CAT_Weight': trial.suggest_float('CAT_Weight', 0.0, 5.0),\n",
    "        'RF_Weight': trial.suggest_float('RF_Weight', 0.0, 5.0),\n",
    "        'HGBC_Weight': trial.suggest_float('HGBC_Weight', 0.0, 5.0),    \n",
    "    }\n",
    "\n",
    "    cv = StratifiedKFold(n_splits=5, shuffle=True, random_state=42)\n",
    "    auc_scores = []\n",
    "\n",
    "    for train_idx, valid_idx in cv.split(X, y):\n",
    "        X_train_fold, X_valid_fold = X.iloc[train_idx], X.iloc[valid_idx]\n",
    "        y_train_fold, y_valid_fold = y.iloc[train_idx], y.iloc[valid_idx]\n",
    "        voting_classifier = VotingClassifier(\n",
    "            estimators=cv_estimators,\n",
    "            voting='soft',\n",
    "            weights=[params['XGB_Weight'], params['LGBM_Weight'], params['CAT_Weight'],params['RF_Weight'],params['HGBC_Weight']]\n",
    "        )\n",
    "        voting_classifier.fit(X_train_fold, y_train_fold)\n",
    "        y_prob = voting_classifier.predict_proba(X_valid_fold)\n",
    "        average_auc = roc_auc_score(targets_bin.iloc[valid_idx], y_prob[:, 1:], multi_class=\"ovr\", average=\"macro\")\n",
    "        auc_scores.append(average_auc)\n",
    "\n",
    "    return np.mean(auc_scores)\n",
    "\n",
    "\n",
    "weight_study = optuna.create_study(direction='maximize', study_name=\"voting_classifier_training\")\n",
    "if WEIGHT_TUNE:\n",
    "    weight_study.optimize(objective, n_trials=200)\n",
    "    print(f\"Best trial average AUC: {weight_study.best_value:.4f}\")\n",
    "    for key, value in weight_study.best_params.items():\n",
    "        print(f\"{key}: {value}\")\n"
   ]
  },
  {
   "cell_type": "markdown",
   "id": "c6bd8bdd",
   "metadata": {
    "papermill": {
     "duration": 0.011761,
     "end_time": "2024-04-01T00:40:49.668754",
     "exception": false,
     "start_time": "2024-04-01T00:40:49.656993",
     "status": "completed"
    },
    "tags": []
   },
   "source": [
    "## Final Voting classifier training based on best params"
   ]
  },
  {
   "cell_type": "code",
   "execution_count": 19,
   "id": "e2ecf9ff",
   "metadata": {
    "execution": {
     "iopub.execute_input": "2024-04-01T00:40:49.694245Z",
     "iopub.status.busy": "2024-04-01T00:40:49.693656Z",
     "iopub.status.idle": "2024-04-01T00:40:49.698657Z",
     "shell.execute_reply": "2024-04-01T00:40:49.697810Z"
    },
    "papermill": {
     "duration": 0.020005,
     "end_time": "2024-04-01T00:40:49.700687",
     "exception": false,
     "start_time": "2024-04-01T00:40:49.680682",
     "status": "completed"
    },
    "tags": []
   },
   "outputs": [],
   "source": [
    "# weight_best_params\n",
    "weight_best_params = {'XGB_Weight': 4.588446199271165, 'LGBM_Weight': 1.0464853862618422, 'CAT_Weight': 2.305591559147083, \"RF_Weight\": 1.575194973453438,'HGBC_Weight': 1.096656838999795}"
   ]
  },
  {
   "cell_type": "code",
   "execution_count": 20,
   "id": "7d202035",
   "metadata": {
    "execution": {
     "iopub.execute_input": "2024-04-01T00:40:49.729639Z",
     "iopub.status.busy": "2024-04-01T00:40:49.729376Z",
     "iopub.status.idle": "2024-04-01T00:40:49.734050Z",
     "shell.execute_reply": "2024-04-01T00:40:49.733098Z"
    },
    "papermill": {
     "duration": 0.022721,
     "end_time": "2024-04-01T00:40:49.735970",
     "exception": false,
     "start_time": "2024-04-01T00:40:49.713249",
     "status": "completed"
    },
    "tags": []
   },
   "outputs": [],
   "source": [
    "voting_classifier = VotingClassifier(\n",
    "estimators=cv_estimators,\n",
    "voting='soft',\n",
    "weights=[weight_best_params['XGB_Weight'], weight_best_params['LGBM_Weight'], weight_best_params['CAT_Weight'],weight_best_params['HGBC_Weight']],\n",
    ")\n",
    "# weight_best_params['RF_Weight']"
   ]
  },
  {
   "cell_type": "code",
   "execution_count": 21,
   "id": "ad8cfeb3",
   "metadata": {
    "execution": {
     "iopub.execute_input": "2024-04-01T00:40:49.761939Z",
     "iopub.status.busy": "2024-04-01T00:40:49.761685Z",
     "iopub.status.idle": "2024-04-01T00:47:42.782135Z",
     "shell.execute_reply": "2024-04-01T00:47:42.781171Z"
    },
    "papermill": {
     "duration": 413.050462,
     "end_time": "2024-04-01T00:47:42.798484",
     "exception": false,
     "start_time": "2024-04-01T00:40:49.748022",
     "status": "completed"
    },
    "tags": []
   },
   "outputs": [
    {
     "name": "stdout",
     "output_type": "stream",
     "text": [
      "-------------------------\n",
      "FOLD 1 STARTED\n"
     ]
    },
    {
     "name": "stderr",
     "output_type": "stream",
     "text": [
      "1 warning generated.\n",
      "1 warning generated.\n",
      "1 warning generated.\n",
      "1 warning generated.\n",
      "1 warning generated.\n",
      "1 warning generated.\n",
      "1 warning generated.\n",
      "1 warning generated.\n",
      "1 warning generated.\n",
      "1 warning generated.\n",
      "1 warning generated.\n",
      "1 warning generated.\n",
      "1 warning generated.\n",
      "1 warning generated.\n",
      "1 warning generated.\n",
      "1 warning generated.\n",
      "1 warning generated.\n",
      "1 warning generated.\n",
      "1 warning generated.\n",
      "1 warning generated.\n",
      "1 warning generated.\n",
      "1 warning generated.\n",
      "1 warning generated.\n",
      "1 warning generated.\n",
      "1 warning generated.\n",
      "1 warning generated.\n",
      "1 warning generated.\n",
      "1 warning generated.\n",
      "1 warning generated.\n",
      "1 warning generated.\n",
      "1 warning generated.\n",
      "1 warning generated.\n",
      "1 warning generated.\n",
      "/opt/conda/lib/python3.10/site-packages/xgboost/core.py:160: UserWarning: [00:41:48] WARNING: /workspace/src/common/error_msg.cc:58: Falling back to prediction using DMatrix due to mismatched devices. This might lead to higher memory usage and slower performance. XGBoost is running on: cuda:0, while the input data is on: cpu.\n",
      "Potential solutions:\n",
      "- Use a data structure that matches the device ordinal in the booster.\n",
      "- Set the device for booster before call to inplace_predict.\n",
      "\n",
      "This warning will only be shown once.\n",
      "\n",
      "  warnings.warn(smsg, UserWarning)\n"
     ]
    },
    {
     "name": "stdout",
     "output_type": "stream",
     "text": [
      "FOLD 1 - AUC computed: 0.9015\n",
      "-------------------------\n",
      "FOLD 2 STARTED\n",
      "FOLD 2 - AUC computed: 0.8989\n",
      "-------------------------\n",
      "FOLD 3 STARTED\n",
      "FOLD 3 - AUC computed: 0.8985\n",
      "-------------------------\n",
      "FOLD 4 STARTED\n",
      "FOLD 4 - AUC computed: 0.9064\n",
      "-------------------------\n",
      "FOLD 5 STARTED\n",
      "FOLD 5 - AUC computed: 0.8975\n",
      "-------------------------\n",
      "FOLD 6 STARTED\n",
      "FOLD 6 - AUC computed: 0.9054\n",
      "-------------------------\n",
      "FOLD 7 STARTED\n",
      "FOLD 7 - AUC computed: 0.8930\n",
      "-------------------------\n",
      "FOLD 8 STARTED\n",
      "FOLD 8 - AUC computed: 0.8999\n",
      "-------------------------\n",
      "FOLD 9 STARTED\n",
      "FOLD 9 - AUC computed: 0.9002\n",
      "-------------------------\n",
      "FOLD 10 STARTED\n",
      "FOLD 10 - AUC computed: 0.9039\n",
      "Average AUC score across all folds: 0.9005\n"
     ]
    }
   ],
   "source": [
    "# if final_training false, i am using my presaved pred file\n",
    "DO_FINAL_TRAINING = True\n",
    "\n",
    "if DO_FINAL_TRAINING:\n",
    "    USE_REPEATED_FOLDS = False  # Change this to False if you want to use StratifiedKFold\n",
    "    if USE_REPEATED_FOLDS:\n",
    "        cv = RepeatedStratifiedKFold(n_splits=10, n_repeats=5, random_state=42)\n",
    "    else:\n",
    "        cv = StratifiedKFold(n_splits=10, shuffle=True, random_state=42)\n",
    "\n",
    "    auc_scores = []\n",
    "    y_prob_test = []\n",
    "\n",
    "    for i, (train_idx, valid_idx) in enumerate(cv.split(X, y)):\n",
    "        print('-' * 25)\n",
    "        print(f'FOLD {i + 1} STARTED')\n",
    "        X_train_fold, X_valid_fold = X.iloc[train_idx], X.iloc[valid_idx]\n",
    "        y_train_fold, y_valid_fold = y.iloc[train_idx], y.iloc[valid_idx]\n",
    "        voting_classifier.fit(X_train_fold, y_train_fold)\n",
    "        y_prob = voting_classifier.predict_proba(X_valid_fold)\n",
    "        y_prob_test.append(voting_classifier.predict_proba(test_data))\n",
    "        average_auc = roc_auc_score(targets_bin.iloc[valid_idx], y_prob[:, 1:], multi_class=\"ovr\", average=\"macro\")\n",
    "        auc_scores.append(average_auc)\n",
    "        print(f'FOLD {i + 1} - AUC computed: {average_auc:.4f}')\n",
    "\n",
    "    average_auc_score = np.mean(auc_scores)\n",
    "    print(f'Average AUC score across all folds: {average_auc_score:.4f}')\n",
    "    y_prob_test_array = np.mean(y_prob_test, axis=0)\n",
    "    pred = y_prob_test_array"
   ]
  },
  {
   "cell_type": "code",
   "execution_count": 22,
   "id": "dfd14ee2",
   "metadata": {
    "execution": {
     "iopub.execute_input": "2024-04-01T00:47:42.828089Z",
     "iopub.status.busy": "2024-04-01T00:47:42.827757Z",
     "iopub.status.idle": "2024-04-01T00:47:42.977512Z",
     "shell.execute_reply": "2024-04-01T00:47:42.976568Z"
    },
    "papermill": {
     "duration": 0.167254,
     "end_time": "2024-04-01T00:47:42.979816",
     "exception": false,
     "start_time": "2024-04-01T00:47:42.812562",
     "status": "completed"
    },
    "tags": []
   },
   "outputs": [],
   "source": [
    "# pred_without_trees_final = np.loadtxt('/kaggle/input/pred-new-feature/pred_new_feature.txt')\n",
    "# pred_with_trees_final = np.loadtxt('/kaggle/input/pred-with-trees/pred_with_trees_final.txt')\n",
    "\n",
    "\n",
    "voting_probs2 = pd.read_csv('/kaggle/input/publicly-available-submissions/add_sub.csv',index_col='id')\n",
    "voting_probs3 = pd.read_csv('/kaggle/input/publicly-available-submissions/sub1.csv',index_col='id')\n",
    "voting_probs4 = pd.read_csv('/kaggle/input/publicly-available-submissions/sub2.csv',index_col='id')\n",
    "voting_probs5 = pd.read_csv('/kaggle/input/publicly-available-submissions/submission_pure.csv',index_col='id')"
   ]
  },
  {
   "cell_type": "code",
   "execution_count": 23,
   "id": "1e927a68",
   "metadata": {
    "execution": {
     "iopub.execute_input": "2024-04-01T00:47:43.011171Z",
     "iopub.status.busy": "2024-04-01T00:47:43.010811Z",
     "iopub.status.idle": "2024-04-01T00:47:43.018874Z",
     "shell.execute_reply": "2024-04-01T00:47:43.018088Z"
    },
    "papermill": {
     "duration": 0.026207,
     "end_time": "2024-04-01T00:47:43.020871",
     "exception": false,
     "start_time": "2024-04-01T00:47:42.994664",
     "status": "completed"
    },
    "tags": []
   },
   "outputs": [],
   "source": [
    "voting_probs2.drop(['Unnamed: 0'],axis = 1,inplace = True)\n",
    "voting_probs3.drop(['Unnamed: 0'],axis = 1,inplace = True)\n",
    "voting_probs4.drop(['Unnamed: 0'],axis = 1,inplace = True)\n",
    "\n",
    "voting_probs1 = pred[:, 1:]\n",
    "voting_probs2 = voting_probs2.to_numpy()\n",
    "voting_probs3 = voting_probs3.to_numpy()\n",
    "voting_probs4 = voting_probs4.to_numpy()\n",
    "voting_probs5 = voting_probs5.to_numpy()"
   ]
  },
  {
   "cell_type": "code",
   "execution_count": 24,
   "id": "0a035e21",
   "metadata": {
    "execution": {
     "iopub.execute_input": "2024-04-01T00:47:43.051128Z",
     "iopub.status.busy": "2024-04-01T00:47:43.050854Z",
     "iopub.status.idle": "2024-04-01T00:47:43.057478Z",
     "shell.execute_reply": "2024-04-01T00:47:43.056772Z"
    },
    "papermill": {
     "duration": 0.023717,
     "end_time": "2024-04-01T00:47:43.059371",
     "exception": false,
     "start_time": "2024-04-01T00:47:43.035654",
     "status": "completed"
    },
    "tags": []
   },
   "outputs": [],
   "source": [
    "prob_weighted_mean =0.25*voting_probs1 + 0.12*voting_probs2 + 0.17*voting_probs3 + 0.26*voting_probs4 + 0.2*voting_probs5"
   ]
  },
  {
   "cell_type": "code",
   "execution_count": 25,
   "id": "89d11193",
   "metadata": {
    "execution": {
     "iopub.execute_input": "2024-04-01T00:47:43.089265Z",
     "iopub.status.busy": "2024-04-01T00:47:43.088747Z",
     "iopub.status.idle": "2024-04-01T00:47:43.108505Z",
     "shell.execute_reply": "2024-04-01T00:47:43.107729Z"
    },
    "papermill": {
     "duration": 0.03703,
     "end_time": "2024-04-01T00:47:43.110355",
     "exception": false,
     "start_time": "2024-04-01T00:47:43.073325",
     "status": "completed"
    },
    "tags": []
   },
   "outputs": [],
   "source": [
    "sample_data = pd.read_csv('/kaggle/input/playground-series-s4e3/sample_submission.csv')"
   ]
  },
  {
   "cell_type": "code",
   "execution_count": 26,
   "id": "e9f16bf1",
   "metadata": {
    "execution": {
     "iopub.execute_input": "2024-04-01T00:47:43.140981Z",
     "iopub.status.busy": "2024-04-01T00:47:43.140349Z",
     "iopub.status.idle": "2024-04-01T00:47:43.346912Z",
     "shell.execute_reply": "2024-04-01T00:47:43.346190Z"
    },
    "papermill": {
     "duration": 0.224129,
     "end_time": "2024-04-01T00:47:43.349274",
     "exception": false,
     "start_time": "2024-04-01T00:47:43.125145",
     "status": "completed"
    },
    "tags": []
   },
   "outputs": [],
   "source": [
    "predictions = pd.DataFrame(prob_weighted_mean, columns=[TARGET_FEATURES])\n",
    "predictions['id'] = sample_data['id']\n",
    "predictions.to_csv('my_submission.csv', index=False)"
   ]
  },
  {
   "cell_type": "markdown",
   "id": "e24d2549",
   "metadata": {
    "papermill": {
     "duration": 0.014468,
     "end_time": "2024-04-01T00:47:43.378415",
     "exception": false,
     "start_time": "2024-04-01T00:47:43.363947",
     "status": "completed"
    },
    "tags": []
   },
   "source": [
    "# EXTRAS"
   ]
  },
  {
   "cell_type": "markdown",
   "id": "1800e7ec",
   "metadata": {
    "papermill": {
     "duration": 0.014046,
     "end_time": "2024-04-01T00:47:43.406701",
     "exception": false,
     "start_time": "2024-04-01T00:47:43.392655",
     "status": "completed"
    },
    "tags": []
   },
   "source": [
    "## Models that didnt perform well/didnt work"
   ]
  },
  {
   "cell_type": "markdown",
   "id": "4aa510fd",
   "metadata": {
    "papermill": {
     "duration": 0.014114,
     "end_time": "2024-04-01T00:47:43.435026",
     "exception": false,
     "start_time": "2024-04-01T00:47:43.420912",
     "status": "completed"
    },
    "tags": []
   },
   "source": [
    "### 1. Neural Networks"
   ]
  },
  {
   "cell_type": "code",
   "execution_count": 27,
   "id": "081c8093",
   "metadata": {
    "execution": {
     "iopub.execute_input": "2024-04-01T00:47:43.465275Z",
     "iopub.status.busy": "2024-04-01T00:47:43.464881Z",
     "iopub.status.idle": "2024-04-01T00:47:43.471140Z",
     "shell.execute_reply": "2024-04-01T00:47:43.470321Z"
    },
    "papermill": {
     "duration": 0.023779,
     "end_time": "2024-04-01T00:47:43.473058",
     "exception": false,
     "start_time": "2024-04-01T00:47:43.449279",
     "status": "completed"
    },
    "tags": []
   },
   "outputs": [],
   "source": [
    "# num_classes = 7\n",
    "# y_categorical = to_categorical(y, num_classes=num_classes)\n",
    "\n",
    "# def make_dataset(X, y, batch_size=512, mode='train'):\n",
    "#     dataset = tf.data.Dataset.from_tensor_slices((X, y))\n",
    "#     if mode == 'train':\n",
    "#         dataset = dataset.shuffle(buffer_size=len(X)).cache()\n",
    "#     dataset = dataset.batch(batch_size)\n",
    "#     dataset = dataset.prefetch(buffer_size=tf.data.experimental.AUTOTUNE)\n",
    "#     return dataset\n",
    "\n",
    "\n",
    "\n",
    "# def create_model(trial, input_shape, num_classes):\n",
    "#     model = Sequential()\n",
    "#     model.add(Input(shape=input_shape))\n",
    "    \n",
    "#     n_layers = trial.suggest_int('n_layers', 2, 4)\n",
    "#     for i in range(n_layers):\n",
    "#         num_units = trial.suggest_int(f'n_units_l{i}', 16, 128)\n",
    "#         activation = trial.suggest_categorical(f'activation_l{i}', ['relu', 'elu', 'selu'])\n",
    "#         dropout_rate = trial.suggest_float(f'dropout_l{i}', 0.2, 0.5)\n",
    "#         model.add(Dense(num_units, activation=activation))\n",
    "#         model.add(BatchNormalization())\n",
    "#         model.add(Dropout(dropout_rate))\n",
    "    \n",
    "#     model.add(Dense(num_classes, activation='softmax'))\n",
    "    \n",
    "#     lr = trial.suggest_float(\"lr\", 1e-5, 1e-2, log=True)\n",
    "#     model.compile(optimizer=Adam(learning_rate=lr),\n",
    "#                   loss='categorical_crossentropy',\n",
    "#                   metrics=[tf.keras.metrics.AUC(name='auc', multi_label=True)])\n",
    "#     return model\n",
    "\n",
    "# def objective(trial):\n",
    "#     auc_scores = []\n",
    "#     skf = StratifiedKFold(n_splits=5, shuffle=True, random_state=42)\n",
    "    \n",
    "#     batch_size = trial.suggest_categorical('batch_size', [64, 128, 256, 512])\n",
    "    \n",
    "#     for train_idx, valid_idx in skf.split(X, y):\n",
    "#         X_train, X_valid = X.iloc[train_idx], X.iloc[valid_idx]\n",
    "#         y_train, y_valid = to_categorical(y.iloc[train_idx], num_classes=num_classes), to_categorical(y.iloc[valid_idx], num_classes=num_classes)\n",
    "        \n",
    "#         train_dataset = make_dataset(X_train, y_train, batch_size=batch_size, mode='train')\n",
    "#         valid_dataset = make_dataset(X_valid, y_valid, batch_size=batch_size, mode='eval')\n",
    "        \n",
    "#         model = create_model(trial, input_shape=(X_train.shape[1],), num_classes=num_classes)\n",
    "        \n",
    "#         early_stopping = EarlyStopping(monitor='val_auc', patience=25, mode='max', restore_best_weights=True)\n",
    "        \n",
    "#         steps_per_epoch = len(X_train) // batch_size\n",
    "        \n",
    "#         model.fit(train_dataset.repeat(), epochs=2500, steps_per_epoch=steps_per_epoch, validation_data=valid_dataset, callbacks=[early_stopping], verbose=0)\n",
    "\n",
    "#         results = model.evaluate(valid_dataset, verbose=0, return_dict=True)\n",
    "#         auc_score = results['auc']\n",
    "#         auc_scores.append(auc_score)\n",
    "#         # Clear the Keras session after each trial\n",
    "#         K.clear_session()\n",
    "#         gc.collect()\n",
    "#     return np.mean(auc_scores)\n",
    "\n",
    "# study = optuna.create_study(direction='maximize',pruner = HyperbandPruner())\n",
    "# study.optimize(objective, n_trials=250) \n",
    "\n",
    "# print('Number of finished trials:', len(study.trials))\n",
    "# print('Best trial parameters:', study.best_trial.params)"
   ]
  },
  {
   "cell_type": "code",
   "execution_count": 28,
   "id": "a86dae8b",
   "metadata": {
    "execution": {
     "iopub.execute_input": "2024-04-01T00:47:43.503298Z",
     "iopub.status.busy": "2024-04-01T00:47:43.503000Z",
     "iopub.status.idle": "2024-04-01T00:47:43.509607Z",
     "shell.execute_reply": "2024-04-01T00:47:43.508900Z"
    },
    "papermill": {
     "duration": 0.024006,
     "end_time": "2024-04-01T00:47:43.511473",
     "exception": false,
     "start_time": "2024-04-01T00:47:43.487467",
     "status": "completed"
    },
    "tags": []
   },
   "outputs": [],
   "source": [
    "# import numpy as np\n",
    "# import tensorflow as tf\n",
    "# from tensorflow.keras.models import Sequential\n",
    "# from tensorflow.keras.layers import Dense, BatchNormalization, Dropout, Input\n",
    "# from tensorflow.keras.optimizers import Adam\n",
    "# from tensorflow.keras.callbacks import EarlyStopping\n",
    "# from sklearn.model_selection import StratifiedKFold\n",
    "# from tensorflow.keras.utils import to_categorical\n",
    "# import random as python_random\n",
    "\n",
    "# # Set seeds for reproducibility\n",
    "# tf.random.set_seed(42)\n",
    "# np.random.seed(42)\n",
    "# python_random.seed(42)\n",
    "\n",
    "# # Assuming X and y are your features and labels respectively\n",
    "# num_classes = 7\n",
    "# y_categorical = to_categorical(y, num_classes=num_classes)\n",
    "\n",
    "# # Define the model creation function with the best hyperparameters\n",
    "# def create_model(input_shape, num_classes, n_units, activation, dropout_rate, lr):\n",
    "#     model = Sequential()\n",
    "#     model.add(Input(shape=input_shape))\n",
    "    \n",
    "#     for units, act, drop in zip(n_units, activation, dropout_rate):\n",
    "#         model.add(Dense(units, activation=act))\n",
    "#         model.add(BatchNormalization())\n",
    "#         model.add(Dropout(drop))\n",
    "    \n",
    "#     model.add(Dense(num_classes, activation='softmax'))\n",
    "    \n",
    "#     optimizer = Adam(learning_rate=lr)\n",
    "#     model.compile(optimizer=optimizer,\n",
    "#                   loss='categorical_crossentropy',\n",
    "#                   metrics=[tf.keras.metrics.AUC(name='auc', multi_label=True)])\n",
    "#     return model\n",
    "\n",
    "# # Best hyperparameters\n",
    "# best_params = {\n",
    "#     'batch_size': 128,\n",
    "#     'n_units': [107, 115, 94],\n",
    "#     'activation': ['selu', 'relu', 'selu'],\n",
    "#     'dropout_rate': [0.23171122368292765, 0.21511239568756282, 0.41684411583006736],\n",
    "#     'lr': 0.0002473770028925611\n",
    "# }\n",
    "\n",
    "# # Prepare for Stratified Cross-Validation\n",
    "# skf = StratifiedKFold(n_splits=10, shuffle=True, random_state=42)\n",
    "# auc_scores = []\n",
    "# y_prob_test = []\n",
    "# for fold, (train_idx, valid_idx) in enumerate(skf.split(X, y)):\n",
    "#     print(f\"Training on fold {fold+1}/10...\")\n",
    "#     X_train, X_valid = X.iloc[train_idx], X.iloc[valid_idx]\n",
    "#     y_train, y_valid = y_categorical[train_idx], y_categorical[valid_idx]\n",
    "\n",
    "#     model = create_model(input_shape=(X.shape[1],), num_classes=num_classes, \n",
    "#                          n_units=best_params['n_units'],\n",
    "#                          activation=best_params['activation'], \n",
    "#                          dropout_rate=best_params['dropout_rate'], lr=best_params['lr'])\n",
    "    \n",
    "#     early_stopping = EarlyStopping(monitor='val_auc', patience=40, mode='max', restore_best_weights=True)\n",
    "\n",
    "#     model.fit(X_train, y_train, batch_size=best_params['batch_size'], epochs=200, \n",
    "#               validation_data=(X_valid, y_valid), callbacks=[early_stopping], verbose=0)\n",
    "#     y_prob_test.append(model.predict(test_data))\n",
    "\n",
    "#     results = model.evaluate(X_valid, y_valid, verbose=0, return_dict=True)\n",
    "#     auc_score = results['auc']\n",
    "#     auc_scores.append(auc_score)\n",
    "#     print(f\"Fold {fold+1} AUC: {auc_score:.4f}\\n\")\n",
    "\n",
    "# # Display average AUC across all folds\n",
    "# print(f\"Average AUC across all folds: {np.mean(auc_scores):.4f}\")\n",
    "\n",
    "# # Average the predictions on the test set across all folds\n",
    "# y_prob_test_array = np.mean(y_prob_test, axis=0)\n",
    "\n",
    "# # Output the final prediction\n",
    "# pred = y_prob_test_array\n"
   ]
  },
  {
   "cell_type": "markdown",
   "id": "b07a39b9",
   "metadata": {
    "papermill": {
     "duration": 0.0148,
     "end_time": "2024-04-01T00:47:43.540796",
     "exception": false,
     "start_time": "2024-04-01T00:47:43.525996",
     "status": "completed"
    },
    "tags": []
   },
   "source": [
    "### 2. SVM\n",
    "- Kaggle interface was getting stuck maybe due to high computation requirement of a kernel based SVM"
   ]
  },
  {
   "cell_type": "markdown",
   "id": "2bb71a7d",
   "metadata": {
    "papermill": {
     "duration": 0.014446,
     "end_time": "2024-04-01T00:47:43.569930",
     "exception": false,
     "start_time": "2024-04-01T00:47:43.555484",
     "status": "completed"
    },
    "tags": []
   },
   "source": [
    "# Credits:"
   ]
  },
  {
   "cell_type": "markdown",
   "id": "a1c38036",
   "metadata": {
    "papermill": {
     "duration": 0.014269,
     "end_time": "2024-04-01T00:47:43.598847",
     "exception": false,
     "start_time": "2024-04-01T00:47:43.584578",
     "status": "completed"
    },
    "tags": []
   },
   "source": [
    "### Discussions:\n",
    "- Discussion here was gold : https://www.kaggle.com/competitions/playground-series-s4e3/discussion/482401\n",
    "- https://www.kaggle.com/competitions/playground-series-s4e3/discussion/483320\n",
    "\n",
    "### Notebooks:\n",
    "- https://www.kaggle.com/code/arunklenin/ps4e3-steel-plate-fault-prediction-multilabel\n",
    "- https://www.kaggle.com/code/ravi20076/playgrounds4e03-eda-binaryclassifier\n",
    "- https://www.kaggle.com/code/noepinefrin/0-89484-weighted-ensemble-xgb-lgbm-cat\n",
    "- https://www.kaggle.com/code/lucamassaron/steel-plate-eda-xgboost-is-all-you-need"
   ]
  },
  {
   "cell_type": "code",
   "execution_count": null,
   "id": "bf7d0d7a",
   "metadata": {
    "papermill": {
     "duration": 0.014134,
     "end_time": "2024-04-01T00:47:43.627518",
     "exception": false,
     "start_time": "2024-04-01T00:47:43.613384",
     "status": "completed"
    },
    "tags": []
   },
   "outputs": [],
   "source": []
  }
 ],
 "metadata": {
  "kaggle": {
   "accelerator": "gpu",
   "dataSources": [
    {
     "databundleVersionId": 7659021,
     "sourceId": 68699,
     "sourceType": "competition"
    },
    {
     "datasetId": 2363,
     "sourceId": 3972,
     "sourceType": "datasetVersion"
    },
    {
     "datasetId": 4705995,
     "sourceId": 7993486,
     "sourceType": "datasetVersion"
    }
   ],
   "dockerImageVersionId": 30674,
   "isGpuEnabled": true,
   "isInternetEnabled": true,
   "language": "python",
   "sourceType": "notebook"
  },
  "kernelspec": {
   "display_name": "Python 3",
   "language": "python",
   "name": "python3"
  },
  "language_info": {
   "codemirror_mode": {
    "name": "ipython",
    "version": 3
   },
   "file_extension": ".py",
   "mimetype": "text/x-python",
   "name": "python",
   "nbconvert_exporter": "python",
   "pygments_lexer": "ipython3",
   "version": "3.10.13"
  },
  "papermill": {
   "default_parameters": {},
   "duration": 437.388082,
   "end_time": "2024-04-01T00:47:45.960469",
   "environment_variables": {},
   "exception": null,
   "input_path": "__notebook__.ipynb",
   "output_path": "__notebook__.ipynb",
   "parameters": {},
   "start_time": "2024-04-01T00:40:28.572387",
   "version": "2.5.0"
  }
 },
 "nbformat": 4,
 "nbformat_minor": 5
}
