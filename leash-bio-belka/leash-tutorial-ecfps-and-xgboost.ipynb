{
 "cells": [
  {
   "cell_type": "code",
   "execution_count": 1,
   "id": "f22aa643",
   "metadata": {
    "_cell_guid": "24b7ae79-0947-45a6-ae57-beb1ddef2ac3",
    "_uuid": "7cbe54e2-9655-443e-bb2f-2d0132033012",
    "collapsed": false,
    "execution": {
     "iopub.execute_input": "2024-04-06T16:27:10.161729Z",
     "iopub.status.busy": "2024-04-06T16:27:10.161289Z",
     "iopub.status.idle": "2024-04-06T16:27:46.660931Z",
     "shell.execute_reply": "2024-04-06T16:27:46.659414Z"
    },
    "jupyter": {
     "outputs_hidden": false
    },
    "papermill": {
     "duration": 36.509663,
     "end_time": "2024-04-06T16:27:46.663919",
     "exception": false,
     "start_time": "2024-04-06T16:27:10.154256",
     "status": "completed"
    },
    "tags": []
   },
   "outputs": [
    {
     "name": "stdout",
     "output_type": "stream",
     "text": [
      "Collecting rdkit\r\n",
      "  Downloading rdkit-2023.9.5-cp310-cp310-manylinux_2_17_x86_64.manylinux2014_x86_64.whl.metadata (3.9 kB)\r\n",
      "Requirement already satisfied: numpy in /opt/conda/lib/python3.10/site-packages (from rdkit) (1.26.4)\r\n",
      "Requirement already satisfied: Pillow in /opt/conda/lib/python3.10/site-packages (from rdkit) (9.5.0)\r\n",
      "Downloading rdkit-2023.9.5-cp310-cp310-manylinux_2_17_x86_64.manylinux2014_x86_64.whl (34.4 MB)\r\n",
      "\u001b[2K   \u001b[90m━━━━━━━━━━━━━━━━━━━━━━━━━━━━━━━━━━━━━━━━\u001b[0m \u001b[32m34.4/34.4 MB\u001b[0m \u001b[31m37.6 MB/s\u001b[0m eta \u001b[36m0:00:00\u001b[0m\r\n",
      "\u001b[?25hInstalling collected packages: rdkit\r\n",
      "Successfully installed rdkit-2023.9.5\r\n",
      "Collecting duckdb\r\n",
      "  Downloading duckdb-0.10.1-cp310-cp310-manylinux_2_17_x86_64.manylinux2014_x86_64.whl.metadata (763 bytes)\r\n",
      "Downloading duckdb-0.10.1-cp310-cp310-manylinux_2_17_x86_64.manylinux2014_x86_64.whl (18.1 MB)\r\n",
      "\u001b[2K   \u001b[90m━━━━━━━━━━━━━━━━━━━━━━━━━━━━━━━━━━━━━━━━\u001b[0m \u001b[32m18.1/18.1 MB\u001b[0m \u001b[31m48.0 MB/s\u001b[0m eta \u001b[36m0:00:00\u001b[0m\r\n",
      "\u001b[?25hInstalling collected packages: duckdb\r\n",
      "Successfully installed duckdb-0.10.1\r\n"
     ]
    }
   ],
   "source": [
    "!pip install rdkit\n",
    "!pip install duckdb"
   ]
  },
  {
   "cell_type": "code",
   "execution_count": 2,
   "id": "3fdaeb58",
   "metadata": {
    "_cell_guid": "3561cf9e-3957-4370-9658-8818058b8345",
    "_uuid": "afcb1325-2e05-4c62-974c-c0d49f12760f",
    "collapsed": false,
    "execution": {
     "iopub.execute_input": "2024-04-06T16:27:46.682812Z",
     "iopub.status.busy": "2024-04-06T16:27:46.681706Z",
     "iopub.status.idle": "2024-04-06T16:28:39.950655Z",
     "shell.execute_reply": "2024-04-06T16:28:39.949428Z"
    },
    "jupyter": {
     "outputs_hidden": false
    },
    "papermill": {
     "duration": 53.281371,
     "end_time": "2024-04-06T16:28:39.953582",
     "exception": false,
     "start_time": "2024-04-06T16:27:46.672211",
     "status": "completed"
    },
    "tags": []
   },
   "outputs": [
    {
     "data": {
      "application/vnd.jupyter.widget-view+json": {
       "model_id": "5178cc74a99a4bc086edc33aaa1399de",
       "version_major": 2,
       "version_minor": 0
      },
      "text/plain": [
       "FloatProgress(value=0.0, layout=Layout(width='auto'), style=ProgressStyle(bar_color='black'))"
      ]
     },
     "metadata": {},
     "output_type": "display_data"
    }
   ],
   "source": [
    "import duckdb\n",
    "import pandas as pd\n",
    "\n",
    "train_path = '/kaggle/input/leash-predict-chemical-bindings/train.parquet'\n",
    "test_path = '/kaggle/input/leash-predict-chemical-bindings/test.parquet'\n",
    "\n",
    "con = duckdb.connect()\n",
    "\n",
    "df = con.query(f\"\"\"(SELECT *\n",
    "                        FROM parquet_scan('{train_path}')\n",
    "                        WHERE binds = 0\n",
    "                        ORDER BY random()\n",
    "                        LIMIT 30000)\n",
    "                        UNION ALL\n",
    "                        (SELECT *\n",
    "                        FROM parquet_scan('{train_path}')\n",
    "                        WHERE binds = 1\n",
    "                        ORDER BY random()\n",
    "                        LIMIT 30000)\"\"\").df()\n",
    "\n",
    "con.close()"
   ]
  },
  {
   "cell_type": "code",
   "execution_count": 3,
   "id": "3b91f696",
   "metadata": {
    "_cell_guid": "71cd2efa-bb95-46a2-93a9-4dc12e3263f0",
    "_uuid": "9458b0cc-e19a-479a-af2f-6cc82bf248b6",
    "collapsed": false,
    "execution": {
     "iopub.execute_input": "2024-04-06T16:28:39.974150Z",
     "iopub.status.busy": "2024-04-06T16:28:39.971534Z",
     "iopub.status.idle": "2024-04-06T16:28:40.000814Z",
     "shell.execute_reply": "2024-04-06T16:28:39.999453Z"
    },
    "jupyter": {
     "outputs_hidden": false
    },
    "papermill": {
     "duration": 0.042631,
     "end_time": "2024-04-06T16:28:40.004617",
     "exception": false,
     "start_time": "2024-04-06T16:28:39.961986",
     "status": "completed"
    },
    "tags": []
   },
   "outputs": [
    {
     "data": {
      "text/html": [
       "<div>\n",
       "<style scoped>\n",
       "    .dataframe tbody tr th:only-of-type {\n",
       "        vertical-align: middle;\n",
       "    }\n",
       "\n",
       "    .dataframe tbody tr th {\n",
       "        vertical-align: top;\n",
       "    }\n",
       "\n",
       "    .dataframe thead th {\n",
       "        text-align: right;\n",
       "    }\n",
       "</style>\n",
       "<table border=\"1\" class=\"dataframe\">\n",
       "  <thead>\n",
       "    <tr style=\"text-align: right;\">\n",
       "      <th></th>\n",
       "      <th>id</th>\n",
       "      <th>buildingblock1_smiles</th>\n",
       "      <th>buildingblock2_smiles</th>\n",
       "      <th>buildingblock3_smiles</th>\n",
       "      <th>molecule_smiles</th>\n",
       "      <th>protein_name</th>\n",
       "      <th>binds</th>\n",
       "    </tr>\n",
       "  </thead>\n",
       "  <tbody>\n",
       "    <tr>\n",
       "      <th>0</th>\n",
       "      <td>11912184</td>\n",
       "      <td>CC(=O)c1ccc(C[C@H](NC(=O)OCC2c3ccccc3-c3ccccc3...</td>\n",
       "      <td>Nc1cnc(Cl)c(Cl)c1</td>\n",
       "      <td>Cc1conc1CN</td>\n",
       "      <td>CC(=O)c1ccc(C[C@H](Nc2nc(NCc3nocc3C)nc(Nc3cnc(...</td>\n",
       "      <td>BRD4</td>\n",
       "      <td>0</td>\n",
       "    </tr>\n",
       "    <tr>\n",
       "      <th>1</th>\n",
       "      <td>180617226</td>\n",
       "      <td>O=C(Nc1ccc(Br)c(C(=O)O)c1)OCC1c2ccccc2-c2ccccc21</td>\n",
       "      <td>Nc1cc(Cl)c([N+](=O)[O-])cn1</td>\n",
       "      <td>COC(=O)Cc1nc(N)sc1C</td>\n",
       "      <td>COC(=O)Cc1nc(Nc2nc(Nc3ccc(Br)c(C(=O)N[Dy])c3)n...</td>\n",
       "      <td>BRD4</td>\n",
       "      <td>0</td>\n",
       "    </tr>\n",
       "    <tr>\n",
       "      <th>2</th>\n",
       "      <td>237656684</td>\n",
       "      <td>O=C(O)CC1(CNC(=O)OCC2c3ccccc3-c3ccccc32)CCCCC1</td>\n",
       "      <td>CN1CCN(C(=O)CN)CC1</td>\n",
       "      <td>Cc1cc(N)nnc1Cl</td>\n",
       "      <td>Cc1cc(Nc2nc(NCC(=O)N3CCN(C)CC3)nc(NCC3(CC(=O)N...</td>\n",
       "      <td>sEH</td>\n",
       "      <td>0</td>\n",
       "    </tr>\n",
       "    <tr>\n",
       "      <th>3</th>\n",
       "      <td>186410088</td>\n",
       "      <td>O=C(Nc1ccc(C(=O)O)c([N+](=O)[O-])c1)OCC1c2cccc...</td>\n",
       "      <td>CCOC(=O)c1cnc(SC)nc1N</td>\n",
       "      <td>Cl.NCCNC(=O)c1ccccc1F</td>\n",
       "      <td>CCOC(=O)c1cnc(SC)nc1Nc1nc(NCCNC(=O)c2ccccc2F)n...</td>\n",
       "      <td>BRD4</td>\n",
       "      <td>0</td>\n",
       "    </tr>\n",
       "    <tr>\n",
       "      <th>4</th>\n",
       "      <td>68945155</td>\n",
       "      <td>N#Cc1ccc([C@H](CC(=O)O)NC(=O)OCC2c3ccccc3-c3cc...</td>\n",
       "      <td>CS(=O)(=O)NC(=O)CCN.Cl</td>\n",
       "      <td>NCc1cnn(Cc2ccccc2)c1</td>\n",
       "      <td>CS(=O)(=O)NC(=O)CCNc1nc(NCc2cnn(Cc3ccccc3)c2)n...</td>\n",
       "      <td>HSA</td>\n",
       "      <td>0</td>\n",
       "    </tr>\n",
       "  </tbody>\n",
       "</table>\n",
       "</div>"
      ],
      "text/plain": [
       "          id                              buildingblock1_smiles  \\\n",
       "0   11912184  CC(=O)c1ccc(C[C@H](NC(=O)OCC2c3ccccc3-c3ccccc3...   \n",
       "1  180617226   O=C(Nc1ccc(Br)c(C(=O)O)c1)OCC1c2ccccc2-c2ccccc21   \n",
       "2  237656684     O=C(O)CC1(CNC(=O)OCC2c3ccccc3-c3ccccc32)CCCCC1   \n",
       "3  186410088  O=C(Nc1ccc(C(=O)O)c([N+](=O)[O-])c1)OCC1c2cccc...   \n",
       "4   68945155  N#Cc1ccc([C@H](CC(=O)O)NC(=O)OCC2c3ccccc3-c3cc...   \n",
       "\n",
       "         buildingblock2_smiles  buildingblock3_smiles  \\\n",
       "0            Nc1cnc(Cl)c(Cl)c1             Cc1conc1CN   \n",
       "1  Nc1cc(Cl)c([N+](=O)[O-])cn1    COC(=O)Cc1nc(N)sc1C   \n",
       "2           CN1CCN(C(=O)CN)CC1         Cc1cc(N)nnc1Cl   \n",
       "3        CCOC(=O)c1cnc(SC)nc1N  Cl.NCCNC(=O)c1ccccc1F   \n",
       "4       CS(=O)(=O)NC(=O)CCN.Cl   NCc1cnn(Cc2ccccc2)c1   \n",
       "\n",
       "                                     molecule_smiles protein_name  binds  \n",
       "0  CC(=O)c1ccc(C[C@H](Nc2nc(NCc3nocc3C)nc(Nc3cnc(...         BRD4      0  \n",
       "1  COC(=O)Cc1nc(Nc2nc(Nc3ccc(Br)c(C(=O)N[Dy])c3)n...         BRD4      0  \n",
       "2  Cc1cc(Nc2nc(NCC(=O)N3CCN(C)CC3)nc(NCC3(CC(=O)N...          sEH      0  \n",
       "3  CCOC(=O)c1cnc(SC)nc1Nc1nc(NCCNC(=O)c2ccccc2F)n...         BRD4      0  \n",
       "4  CS(=O)(=O)NC(=O)CCNc1nc(NCc2cnn(Cc3ccccc3)c2)n...          HSA      0  "
      ]
     },
     "execution_count": 3,
     "metadata": {},
     "output_type": "execute_result"
    }
   ],
   "source": [
    "df.head()"
   ]
  },
  {
   "cell_type": "code",
   "execution_count": 4,
   "id": "b90ef1fb",
   "metadata": {
    "execution": {
     "iopub.execute_input": "2024-04-06T16:28:40.024199Z",
     "iopub.status.busy": "2024-04-06T16:28:40.023737Z",
     "iopub.status.idle": "2024-04-06T16:28:40.031460Z",
     "shell.execute_reply": "2024-04-06T16:28:40.030250Z"
    },
    "papermill": {
     "duration": 0.020813,
     "end_time": "2024-04-06T16:28:40.034086",
     "exception": false,
     "start_time": "2024-04-06T16:28:40.013273",
     "status": "completed"
    },
    "tags": []
   },
   "outputs": [
    {
     "data": {
      "text/plain": [
       "(60000, 7)"
      ]
     },
     "execution_count": 4,
     "metadata": {},
     "output_type": "execute_result"
    }
   ],
   "source": [
    "df.shape"
   ]
  },
  {
   "cell_type": "markdown",
   "id": "a0496fe3",
   "metadata": {
    "_cell_guid": "7af88eb4-517f-4fe1-94c6-1ec67f737565",
    "_uuid": "815cd2d3-317b-4962-8dc2-379d35ff2605",
    "papermill": {
     "duration": 0.008471,
     "end_time": "2024-04-06T16:28:40.051455",
     "exception": false,
     "start_time": "2024-04-06T16:28:40.042984",
     "status": "completed"
    },
    "tags": []
   },
   "source": [
    "## Feature Preprocessing\n",
    "\n",
    "Lets grab the smiles for the fully assembled molecule `molecule_smiles` and generate ecfps for it. We could choose different radiuses or bits, but 2 and 1024 is pretty standard."
   ]
  },
  {
   "cell_type": "code",
   "execution_count": 5,
   "id": "4ba723bc",
   "metadata": {
    "_cell_guid": "9b72a690-6f02-4055-ad71-9071b2c577a3",
    "_uuid": "167d1164-f066-44e2-8a2e-6e1a07f8f0d7",
    "collapsed": false,
    "execution": {
     "iopub.execute_input": "2024-04-06T16:28:40.072190Z",
     "iopub.status.busy": "2024-04-06T16:28:40.071211Z",
     "iopub.status.idle": "2024-04-06T16:31:04.506502Z",
     "shell.execute_reply": "2024-04-06T16:31:04.505110Z"
    },
    "jupyter": {
     "outputs_hidden": false
    },
    "papermill": {
     "duration": 144.449394,
     "end_time": "2024-04-06T16:31:04.509766",
     "exception": false,
     "start_time": "2024-04-06T16:28:40.060372",
     "status": "completed"
    },
    "tags": []
   },
   "outputs": [],
   "source": [
    "from rdkit import Chem\n",
    "from rdkit.Chem import AllChem\n",
    "from sklearn.ensemble import RandomForestClassifier\n",
    "from sklearn.model_selection import train_test_split\n",
    "from sklearn.metrics import average_precision_score\n",
    "from sklearn.preprocessing import OneHotEncoder\n",
    "\n",
    "# Convert SMILES to RDKit molecules\n",
    "df['molecule'] = df['molecule_smiles'].apply(Chem.MolFromSmiles)\n",
    "\n",
    "# Generate ECFPs\n",
    "def generate_ecfp(molecule, radius=2, bits=2048):\n",
    "    if molecule is None:\n",
    "        return None\n",
    "    return list(AllChem.GetMorganFingerprintAsBitVect(molecule, radius, nBits=bits))\n",
    "\n",
    "df['ecfp'] = df['molecule'].apply(generate_ecfp)"
   ]
  },
  {
   "cell_type": "markdown",
   "id": "3a69e7b8",
   "metadata": {
    "_cell_guid": "ad95e54b-7964-4bb1-8acd-5a4eb0d5d8c5",
    "_uuid": "7ddf0349-0f6f-4671-9ad6-fe63c4c1bcab",
    "papermill": {
     "duration": 0.008907,
     "end_time": "2024-04-06T16:31:04.527844",
     "exception": false,
     "start_time": "2024-04-06T16:31:04.518937",
     "status": "completed"
    },
    "tags": []
   },
   "source": [
    "## Train Model"
   ]
  },
  {
   "cell_type": "code",
   "execution_count": 6,
   "id": "47842f7f",
   "metadata": {
    "_cell_guid": "e80deeaf-ef13-4f59-bd66-100a014782b1",
    "_uuid": "085d9c3b-b8cc-4f89-b6db-8b14d0625cbf",
    "collapsed": false,
    "execution": {
     "iopub.execute_input": "2024-04-06T16:31:04.547828Z",
     "iopub.status.busy": "2024-04-06T16:31:04.547367Z",
     "iopub.status.idle": "2024-04-06T16:32:30.476253Z",
     "shell.execute_reply": "2024-04-06T16:32:30.474960Z"
    },
    "jupyter": {
     "outputs_hidden": false
    },
    "papermill": {
     "duration": 85.95022,
     "end_time": "2024-04-06T16:32:30.487200",
     "exception": false,
     "start_time": "2024-04-06T16:31:04.536980",
     "status": "completed"
    },
    "tags": []
   },
   "outputs": [
    {
     "name": "stdout",
     "output_type": "stream",
     "text": [
      "Mean Average Precision (mAP): 0.97\n"
     ]
    }
   ],
   "source": [
    "from xgboost import XGBClassifier\n",
    "\n",
    "# One-hot encode the protein_name\n",
    "onehot_encoder = OneHotEncoder(sparse_output=False)\n",
    "protein_onehot = onehot_encoder.fit_transform(df['protein_name'].values.reshape(-1, 1))\n",
    "\n",
    "# Combine ECFPs and one-hot encoded protein_name\n",
    "X = [ecfp + protein for ecfp, protein in zip(df['ecfp'].tolist(), protein_onehot.tolist())]\n",
    "y = df['binds'].tolist()\n",
    "\n",
    "# Split the data into train and test sets\n",
    "X_train, X_test, y_train, y_test = train_test_split(X, y, test_size=0.2, random_state=42)\n",
    "\n",
    "# Create and train the random forest model\n",
    "xgb_model = XGBClassifier(use_label_encoder=False, n_estimators=100, random_state=42)\n",
    "xgb_model.fit(X_train, y_train)\n",
    "\n",
    "# Make predictions on the test set\n",
    "y_pred_proba = xgb_model.predict_proba(X_test)[:, 1]  # Probability of the positive class\n",
    "\n",
    "# Calculate the mean average precision\n",
    "map_score = average_precision_score(y_test, y_pred_proba)\n",
    "print(f\"Mean Average Precision (mAP): {map_score:.2f}\")"
   ]
  },
  {
   "cell_type": "markdown",
   "id": "f18309fa",
   "metadata": {
    "_cell_guid": "268ae9d9-530d-4c81-8011-0fd21735457c",
    "_uuid": "952c2936-8867-4c5a-8539-3e18928a4631",
    "papermill": {
     "duration": 0.008741,
     "end_time": "2024-04-06T16:32:30.504827",
     "exception": false,
     "start_time": "2024-04-06T16:32:30.496086",
     "status": "completed"
    },
    "tags": []
   },
   "source": [
    "Look at that Average Precision score. We did amazing! \n",
    "\n",
    "Actually no, we just overfit. This is likely recurring theme for this competition. It is easy to predict molecules that come from the same corner of chemical space, but generalizing to new molecules is extremely difficult."
   ]
  },
  {
   "cell_type": "markdown",
   "id": "0824d241",
   "metadata": {
    "_cell_guid": "b069a642-573f-4b7f-8ebd-61fccfce852d",
    "_uuid": "005a0b72-efc6-4b93-860c-412dccd4e6e2",
    "papermill": {
     "duration": 0.009521,
     "end_time": "2024-04-06T16:32:30.523318",
     "exception": false,
     "start_time": "2024-04-06T16:32:30.513797",
     "status": "completed"
    },
    "tags": []
   },
   "source": [
    "## Test Prediction\n",
    "\n",
    " The trained Random Forest model is then used to predict the binding probabilities. These predictions are saved to a CSV file, which serves as the submission file for the Kaggle competition."
   ]
  },
  {
   "cell_type": "code",
   "execution_count": 7,
   "id": "abe4387a",
   "metadata": {
    "_cell_guid": "00d315ef-b073-4c59-849e-217923503356",
    "_uuid": "0af1ed6a-3608-444d-bf34-f238e297723d",
    "collapsed": false,
    "execution": {
     "iopub.execute_input": "2024-04-06T16:32:30.544484Z",
     "iopub.status.busy": "2024-04-06T16:32:30.543388Z",
     "iopub.status.idle": "2024-04-06T17:48:46.473755Z",
     "shell.execute_reply": "2024-04-06T17:48:46.472475Z"
    },
    "jupyter": {
     "outputs_hidden": false
    },
    "papermill": {
     "duration": 4575.944228,
     "end_time": "2024-04-06T17:48:46.477049",
     "exception": false,
     "start_time": "2024-04-06T16:32:30.532821",
     "status": "completed"
    },
    "tags": []
   },
   "outputs": [],
   "source": [
    "import os\n",
    "\n",
    "# Process the test.parquet file chunk by chunk\n",
    "test_file = '/kaggle/input/leash-predict-chemical-bindings/test.csv'\n",
    "output_file = 'submission.csv'  # Specify the path and filename for the output file\n",
    "\n",
    "# Read the test.parquet file into a pandas DataFrame\n",
    "for df_test in pd.read_csv(test_file, chunksize=100000):\n",
    "\n",
    "    # Generate ECFPs for the molecule_smiles\n",
    "    df_test['molecule'] = df_test['molecule_smiles'].apply(Chem.MolFromSmiles)\n",
    "    df_test['ecfp'] = df_test['molecule'].apply(generate_ecfp)\n",
    "\n",
    "    # One-hot encode the protein_name\n",
    "    protein_onehot = onehot_encoder.transform(df_test['protein_name'].values.reshape(-1, 1))\n",
    "\n",
    "    # Combine ECFPs and one-hot encoded protein_name\n",
    "    X_test = [ecfp + protein for ecfp, protein in zip(df_test['ecfp'].tolist(), protein_onehot.tolist())]\n",
    "\n",
    "    # Predict the probabilities\n",
    "    probabilities = xgb_model.predict_proba(X_test)[:, 1]\n",
    "\n",
    "    # Create a DataFrame with 'id' and 'probability' columns\n",
    "    output_df = pd.DataFrame({'id': df_test['id'], 'binds': probabilities})\n",
    "\n",
    "    # Save the output DataFrame to a CSV file\n",
    "    output_df.to_csv(output_file, index=False, mode='a', header=not os.path.exists(output_file))"
   ]
  }
 ],
 "metadata": {
  "kaggle": {
   "accelerator": "none",
   "dataSources": [
    {
     "databundleVersionId": 8006601,
     "sourceId": 67356,
     "sourceType": "competition"
    }
   ],
   "dockerImageVersionId": 30673,
   "isGpuEnabled": false,
   "isInternetEnabled": true,
   "language": "python",
   "sourceType": "notebook"
  },
  "kernelspec": {
   "display_name": "Python 3",
   "language": "python",
   "name": "python3"
  },
  "language_info": {
   "codemirror_mode": {
    "name": "ipython",
    "version": 3
   },
   "file_extension": ".py",
   "mimetype": "text/x-python",
   "name": "python",
   "nbconvert_exporter": "python",
   "pygments_lexer": "ipython3",
   "version": "3.10.13"
  },
  "papermill": {
   "default_parameters": {},
   "duration": 4903.847075,
   "end_time": "2024-04-06T17:48:50.332142",
   "environment_variables": {},
   "exception": null,
   "input_path": "__notebook__.ipynb",
   "output_path": "__notebook__.ipynb",
   "parameters": {},
   "start_time": "2024-04-06T16:27:06.485067",
   "version": "2.5.0"
  },
  "widgets": {
   "application/vnd.jupyter.widget-state+json": {
    "state": {
     "1c03cde5899f49d9b64ebd8380ad8f66": {
      "model_module": "@jupyter-widgets/base",
      "model_module_version": "1.2.0",
      "model_name": "LayoutModel",
      "state": {
       "_model_module": "@jupyter-widgets/base",
       "_model_module_version": "1.2.0",
       "_model_name": "LayoutModel",
       "_view_count": null,
       "_view_module": "@jupyter-widgets/base",
       "_view_module_version": "1.2.0",
       "_view_name": "LayoutView",
       "align_content": null,
       "align_items": null,
       "align_self": null,
       "border": null,
       "bottom": null,
       "display": null,
       "flex": null,
       "flex_flow": null,
       "grid_area": null,
       "grid_auto_columns": null,
       "grid_auto_flow": null,
       "grid_auto_rows": null,
       "grid_column": null,
       "grid_gap": null,
       "grid_row": null,
       "grid_template_areas": null,
       "grid_template_columns": null,
       "grid_template_rows": null,
       "height": null,
       "justify_content": null,
       "justify_items": null,
       "left": null,
       "margin": null,
       "max_height": null,
       "max_width": null,
       "min_height": null,
       "min_width": null,
       "object_fit": null,
       "object_position": null,
       "order": null,
       "overflow": null,
       "overflow_x": null,
       "overflow_y": null,
       "padding": null,
       "right": null,
       "top": null,
       "visibility": null,
       "width": "auto"
      }
     },
     "5178cc74a99a4bc086edc33aaa1399de": {
      "model_module": "@jupyter-widgets/controls",
      "model_module_version": "1.5.0",
      "model_name": "FloatProgressModel",
      "state": {
       "_dom_classes": [],
       "_model_module": "@jupyter-widgets/controls",
       "_model_module_version": "1.5.0",
       "_model_name": "FloatProgressModel",
       "_view_count": null,
       "_view_module": "@jupyter-widgets/controls",
       "_view_module_version": "1.5.0",
       "_view_name": "ProgressView",
       "bar_style": "",
       "description": "",
       "description_tooltip": null,
       "layout": "IPY_MODEL_1c03cde5899f49d9b64ebd8380ad8f66",
       "max": 100.0,
       "min": 0.0,
       "orientation": "horizontal",
       "style": "IPY_MODEL_83ac2ab8749740ddaf79033db15830ac",
       "value": 100.0
      }
     },
     "83ac2ab8749740ddaf79033db15830ac": {
      "model_module": "@jupyter-widgets/controls",
      "model_module_version": "1.5.0",
      "model_name": "ProgressStyleModel",
      "state": {
       "_model_module": "@jupyter-widgets/controls",
       "_model_module_version": "1.5.0",
       "_model_name": "ProgressStyleModel",
       "_view_count": null,
       "_view_module": "@jupyter-widgets/base",
       "_view_module_version": "1.2.0",
       "_view_name": "StyleView",
       "bar_color": "black",
       "description_width": ""
      }
     }
    },
    "version_major": 2,
    "version_minor": 0
   }
  }
 },
 "nbformat": 4,
 "nbformat_minor": 5
}
