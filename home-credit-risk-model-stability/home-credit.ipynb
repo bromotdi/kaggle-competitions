{
 "cells": [
  {
   "cell_type": "code",
   "execution_count": 1,
   "id": "4e6ec939",
   "metadata": {
    "_cell_guid": "b1076dfc-b9ad-4769-8c92-a6c4dae69d19",
    "_uuid": "8f2839f25d086af736a60e9eeb907d3b93b6e0e5",
    "execution": {
     "iopub.execute_input": "2024-03-25T22:43:51.517190Z",
     "iopub.status.busy": "2024-03-25T22:43:51.516391Z",
     "iopub.status.idle": "2024-03-25T22:43:58.714778Z",
     "shell.execute_reply": "2024-03-25T22:43:58.713775Z"
    },
    "papermill": {
     "duration": 7.21064,
     "end_time": "2024-03-25T22:43:58.717204",
     "exception": false,
     "start_time": "2024-03-25T22:43:51.506564",
     "status": "completed"
    },
    "tags": []
   },
   "outputs": [
    {
     "name": "stderr",
     "output_type": "stream",
     "text": [
      "/opt/conda/lib/python3.10/site-packages/dask/dataframe/_pyarrow_compat.py:23: UserWarning: You are using pyarrow version 11.0.0 which is known to be insecure. See https://www.cve.org/CVERecord?id=CVE-2023-47248 for further details. Please upgrade to pyarrow>=14.0.1 or install pyarrow-hotfix to patch your current version.\n",
      "  warnings.warn(\n"
     ]
    }
   ],
   "source": [
    "import os\n",
    "import gc\n",
    "from glob import glob\n",
    "from pathlib import Path\n",
    "from datetime import datetime\n",
    "\n",
    "import numpy as np\n",
    "import pandas as pd\n",
    "import polars as pl\n",
    "\n",
    "import matplotlib.pyplot as plt\n",
    "import seaborn as sns\n",
    "\n",
    "from sklearn.model_selection import TimeSeriesSplit, GroupKFold, StratifiedGroupKFold\n",
    "from sklearn.base import BaseEstimator, RegressorMixin\n",
    "\n",
    "import joblib\n",
    "\n",
    "import lightgbm as lgb\n",
    "\n",
    "import warnings\n",
    "warnings.simplefilter(action='ignore', category=FutureWarning)"
   ]
  },
  {
   "cell_type": "code",
   "execution_count": 2,
   "id": "b07ddebe",
   "metadata": {
    "execution": {
     "iopub.execute_input": "2024-03-25T22:43:58.734208Z",
     "iopub.status.busy": "2024-03-25T22:43:58.733901Z",
     "iopub.status.idle": "2024-03-25T22:43:58.746036Z",
     "shell.execute_reply": "2024-03-25T22:43:58.745219Z"
    },
    "papermill": {
     "duration": 0.022434,
     "end_time": "2024-03-25T22:43:58.747887",
     "exception": false,
     "start_time": "2024-03-25T22:43:58.725453",
     "status": "completed"
    },
    "tags": []
   },
   "outputs": [],
   "source": [
    "class Pipeline:\n",
    "    @staticmethod\n",
    "    def set_table_dtypes(df):\n",
    "        for col in df.columns:\n",
    "            if col in [\"case_id\", \"WEEK_NUM\", \"num_group1\", \"num_group2\"]:\n",
    "                df = df.with_columns(pl.col(col).cast(pl.Int64))\n",
    "            elif col in [\"date_decision\"]:\n",
    "                df = df.with_columns(pl.col(col).cast(pl.Date))\n",
    "            elif col[-1] in (\"P\", \"A\"):\n",
    "                df = df.with_columns(pl.col(col).cast(pl.Float64))\n",
    "            elif col[-1] in (\"M\",):\n",
    "                df = df.with_columns(pl.col(col).cast(pl.String))\n",
    "            elif col[-1] in (\"D\",):\n",
    "                df = df.with_columns(pl.col(col).cast(pl.Date))            \n",
    "\n",
    "        return df\n",
    "    \n",
    "    @staticmethod\n",
    "    def handle_dates(df):\n",
    "        for col in df.columns:\n",
    "            if col[-1] in (\"D\",):\n",
    "                df = df.with_columns(pl.col(col) - pl.col(\"date_decision\"))\n",
    "                df = df.with_columns(pl.col(col).dt.total_days())\n",
    "                \n",
    "        df = df.drop(\"date_decision\", \"MONTH\")\n",
    "\n",
    "        return df\n",
    "    \n",
    "    @staticmethod\n",
    "    def filter_cols(df):\n",
    "        for col in df.columns:\n",
    "            if col not in [\"target\", \"case_id\", \"WEEK_NUM\"]:\n",
    "                isnull = df[col].is_null().mean()\n",
    "\n",
    "                if isnull > 0.95:\n",
    "                    df = df.drop(col)\n",
    "\n",
    "        for col in df.columns:\n",
    "            if (col not in [\"target\", \"case_id\", \"WEEK_NUM\"]) & (df[col].dtype == pl.String):\n",
    "                freq = df[col].n_unique()\n",
    "\n",
    "                if (freq == 1) | (freq > 200):\n",
    "                    df = df.drop(col)\n",
    "\n",
    "        return df"
   ]
  },
  {
   "cell_type": "code",
   "execution_count": 3,
   "id": "eb274008",
   "metadata": {
    "execution": {
     "iopub.execute_input": "2024-03-25T22:43:58.764161Z",
     "iopub.status.busy": "2024-03-25T22:43:58.763879Z",
     "iopub.status.idle": "2024-03-25T22:43:58.774440Z",
     "shell.execute_reply": "2024-03-25T22:43:58.773663Z"
    },
    "papermill": {
     "duration": 0.021162,
     "end_time": "2024-03-25T22:43:58.776397",
     "exception": false,
     "start_time": "2024-03-25T22:43:58.755235",
     "status": "completed"
    },
    "tags": []
   },
   "outputs": [],
   "source": [
    "class Aggregator:\n",
    "    @staticmethod\n",
    "    def num_expr(df):\n",
    "        cols = [col for col in df.columns if col[-1] in (\"P\", \"A\")]\n",
    "\n",
    "        expr_max = [pl.max(col).alias(f\"max_{col}\") for col in cols]\n",
    "\n",
    "        return expr_max\n",
    "\n",
    "    @staticmethod\n",
    "    def date_expr(df):\n",
    "        cols = [col for col in df.columns if col[-1] in (\"D\",)]\n",
    "\n",
    "        expr_max = [pl.max(col).alias(f\"max_{col}\") for col in cols]\n",
    "\n",
    "        return expr_max\n",
    "\n",
    "    @staticmethod\n",
    "    def str_expr(df):\n",
    "        cols = [col for col in df.columns if col[-1] in (\"M\",)]\n",
    "        \n",
    "        expr_max = [pl.max(col).alias(f\"max_{col}\") for col in cols]\n",
    "\n",
    "        return expr_max\n",
    "\n",
    "    @staticmethod\n",
    "    def other_expr(df):\n",
    "        cols = [col for col in df.columns if col[-1] in (\"T\", \"L\")]\n",
    "        \n",
    "        expr_max = [pl.max(col).alias(f\"max_{col}\") for col in cols]\n",
    "\n",
    "        return expr_max\n",
    "    \n",
    "    @staticmethod\n",
    "    def count_expr(df):\n",
    "        cols = [col for col in df.columns if \"num_group\" in col]\n",
    "\n",
    "        expr_max = [pl.max(col).alias(f\"max_{col}\") for col in cols]\n",
    "\n",
    "        return expr_max\n",
    "\n",
    "    @staticmethod\n",
    "    def get_exprs(df):\n",
    "        exprs = Aggregator.num_expr(df) + \\\n",
    "                Aggregator.date_expr(df) + \\\n",
    "                Aggregator.str_expr(df) + \\\n",
    "                Aggregator.other_expr(df) + \\\n",
    "                Aggregator.count_expr(df)\n",
    "\n",
    "        return exprs\n"
   ]
  },
  {
   "cell_type": "code",
   "execution_count": 4,
   "id": "9032ccaa",
   "metadata": {
    "execution": {
     "iopub.execute_input": "2024-03-25T22:43:58.793458Z",
     "iopub.status.busy": "2024-03-25T22:43:58.793182Z",
     "iopub.status.idle": "2024-03-25T22:43:58.800133Z",
     "shell.execute_reply": "2024-03-25T22:43:58.799252Z"
    },
    "papermill": {
     "duration": 0.017877,
     "end_time": "2024-03-25T22:43:58.802277",
     "exception": false,
     "start_time": "2024-03-25T22:43:58.784400",
     "status": "completed"
    },
    "tags": []
   },
   "outputs": [],
   "source": [
    "def read_file(path, depth=None):\n",
    "    df = pl.read_parquet(path)\n",
    "    df = df.pipe(Pipeline.set_table_dtypes)\n",
    "    \n",
    "    if depth in [1, 2]:\n",
    "        df = df.group_by(\"case_id\").agg(Aggregator.get_exprs(df))\n",
    "    \n",
    "    return df\n",
    "\n",
    "def read_files(regex_path, depth=None):\n",
    "    chunks = []\n",
    "    for path in glob(str(regex_path)):\n",
    "        chunks.append(pl.read_parquet(path).pipe(Pipeline.set_table_dtypes))\n",
    "        \n",
    "    df = pl.concat(chunks, how=\"vertical_relaxed\")\n",
    "    if depth in [1, 2]:\n",
    "        df = df.group_by(\"case_id\").agg(Aggregator.get_exprs(df))\n",
    "    \n",
    "    return df\n"
   ]
  },
  {
   "cell_type": "code",
   "execution_count": 5,
   "id": "6bba9551",
   "metadata": {
    "execution": {
     "iopub.execute_input": "2024-03-25T22:43:58.818474Z",
     "iopub.status.busy": "2024-03-25T22:43:58.818233Z",
     "iopub.status.idle": "2024-03-25T22:43:58.823791Z",
     "shell.execute_reply": "2024-03-25T22:43:58.822987Z"
    },
    "papermill": {
     "duration": 0.016043,
     "end_time": "2024-03-25T22:43:58.825708",
     "exception": false,
     "start_time": "2024-03-25T22:43:58.809665",
     "status": "completed"
    },
    "tags": []
   },
   "outputs": [],
   "source": [
    "def feature_eng(df_base, depth_0, depth_1, depth_2):\n",
    "    df_base = (\n",
    "        df_base\n",
    "        .with_columns(\n",
    "            month_decision = pl.col(\"date_decision\").dt.month(),\n",
    "            weekday_decision = pl.col(\"date_decision\").dt.weekday(),\n",
    "        )\n",
    "    )\n",
    "        \n",
    "    for i, df in enumerate(depth_0 + depth_1 + depth_2):\n",
    "        df_base = df_base.join(df, how=\"left\", on=\"case_id\", suffix=f\"_{i}\")\n",
    "        \n",
    "    df_base = df_base.pipe(Pipeline.handle_dates)\n",
    "    \n",
    "    return df_base"
   ]
  },
  {
   "cell_type": "code",
   "execution_count": 6,
   "id": "0dfa806d",
   "metadata": {
    "execution": {
     "iopub.execute_input": "2024-03-25T22:43:58.841424Z",
     "iopub.status.busy": "2024-03-25T22:43:58.841157Z",
     "iopub.status.idle": "2024-03-25T22:43:58.845773Z",
     "shell.execute_reply": "2024-03-25T22:43:58.845007Z"
    },
    "papermill": {
     "duration": 0.014445,
     "end_time": "2024-03-25T22:43:58.847636",
     "exception": false,
     "start_time": "2024-03-25T22:43:58.833191",
     "status": "completed"
    },
    "tags": []
   },
   "outputs": [],
   "source": [
    "def to_pandas(df_data, cat_cols=None):\n",
    "    df_data = df_data.to_pandas()\n",
    "    \n",
    "    if cat_cols is None:\n",
    "        cat_cols = list(df_data.select_dtypes(\"object\").columns)\n",
    "    \n",
    "    df_data[cat_cols] = df_data[cat_cols].astype(\"category\")\n",
    "    \n",
    "    return df_data, cat_cols"
   ]
  },
  {
   "cell_type": "markdown",
   "id": "41e8af0e",
   "metadata": {
    "papermill": {
     "duration": 0.00752,
     "end_time": "2024-03-25T22:43:58.862377",
     "exception": false,
     "start_time": "2024-03-25T22:43:58.854857",
     "status": "completed"
    },
    "tags": []
   },
   "source": [
    "#### Configuration"
   ]
  },
  {
   "cell_type": "code",
   "execution_count": 7,
   "id": "95fab53a",
   "metadata": {
    "execution": {
     "iopub.execute_input": "2024-03-25T22:43:58.878549Z",
     "iopub.status.busy": "2024-03-25T22:43:58.878275Z",
     "iopub.status.idle": "2024-03-25T22:43:58.882228Z",
     "shell.execute_reply": "2024-03-25T22:43:58.881405Z"
    },
    "papermill": {
     "duration": 0.014313,
     "end_time": "2024-03-25T22:43:58.884068",
     "exception": false,
     "start_time": "2024-03-25T22:43:58.869755",
     "status": "completed"
    },
    "tags": []
   },
   "outputs": [],
   "source": [
    "ROOT            = Path(\"/kaggle/input/home-credit-credit-risk-model-stability\")\n",
    "TRAIN_DIR       = ROOT / \"parquet_files\" / \"train\"\n",
    "TEST_DIR        = ROOT / \"parquet_files\" / \"test\""
   ]
  },
  {
   "cell_type": "markdown",
   "id": "60f99a8a",
   "metadata": {
    "papermill": {
     "duration": 0.008523,
     "end_time": "2024-03-25T22:43:58.900415",
     "exception": false,
     "start_time": "2024-03-25T22:43:58.891892",
     "status": "completed"
    },
    "tags": []
   },
   "source": [
    "#### Train Files Read & Feature Engineering"
   ]
  },
  {
   "cell_type": "code",
   "execution_count": 8,
   "id": "80d7c0a9",
   "metadata": {
    "execution": {
     "iopub.execute_input": "2024-03-25T22:43:58.917263Z",
     "iopub.status.busy": "2024-03-25T22:43:58.916502Z",
     "iopub.status.idle": "2024-03-25T22:44:31.034177Z",
     "shell.execute_reply": "2024-03-25T22:44:31.033299Z"
    },
    "papermill": {
     "duration": 32.128774,
     "end_time": "2024-03-25T22:44:31.036801",
     "exception": false,
     "start_time": "2024-03-25T22:43:58.908027",
     "status": "completed"
    },
    "tags": []
   },
   "outputs": [],
   "source": [
    "data_store = {\n",
    "    \"df_base\": read_file(TRAIN_DIR / \"train_base.parquet\"),\n",
    "    \"depth_0\": [\n",
    "        read_file(TRAIN_DIR / \"train_static_cb_0.parquet\"),\n",
    "        read_files(TRAIN_DIR / \"train_static_0_*.parquet\"),\n",
    "    ],\n",
    "    \"depth_1\": [\n",
    "        read_files(TRAIN_DIR / \"train_applprev_1_*.parquet\", 1),\n",
    "        read_file(TRAIN_DIR / \"train_tax_registry_a_1.parquet\", 1),\n",
    "        read_file(TRAIN_DIR / \"train_tax_registry_b_1.parquet\", 1),\n",
    "        read_file(TRAIN_DIR / \"train_tax_registry_c_1.parquet\", 1),\n",
    "        read_file(TRAIN_DIR / \"train_credit_bureau_b_1.parquet\", 1),\n",
    "        read_file(TRAIN_DIR / \"train_other_1.parquet\", 1),\n",
    "        read_file(TRAIN_DIR / \"train_person_1.parquet\", 1),\n",
    "        read_file(TRAIN_DIR / \"train_deposit_1.parquet\", 1),\n",
    "        read_file(TRAIN_DIR / \"train_debitcard_1.parquet\", 1),\n",
    "    ],\n",
    "    \"depth_2\": [\n",
    "        read_file(TRAIN_DIR / \"train_credit_bureau_b_2.parquet\", 2),\n",
    "    ]\n",
    "}"
   ]
  },
  {
   "cell_type": "code",
   "execution_count": 9,
   "id": "9fc3e0e7",
   "metadata": {
    "execution": {
     "iopub.execute_input": "2024-03-25T22:44:31.055935Z",
     "iopub.status.busy": "2024-03-25T22:44:31.055605Z",
     "iopub.status.idle": "2024-03-25T22:44:38.206120Z",
     "shell.execute_reply": "2024-03-25T22:44:38.205011Z"
    },
    "papermill": {
     "duration": 7.162757,
     "end_time": "2024-03-25T22:44:38.208627",
     "exception": false,
     "start_time": "2024-03-25T22:44:31.045870",
     "status": "completed"
    },
    "tags": []
   },
   "outputs": [
    {
     "name": "stdout",
     "output_type": "stream",
     "text": [
      "train data shape:\t (1526659, 376)\n"
     ]
    }
   ],
   "source": [
    "df_train = feature_eng(**data_store)\n",
    "\n",
    "print(\"train data shape:\\t\", df_train.shape)"
   ]
  },
  {
   "cell_type": "markdown",
   "id": "457e407a",
   "metadata": {
    "papermill": {
     "duration": 0.008247,
     "end_time": "2024-03-25T22:44:38.225637",
     "exception": false,
     "start_time": "2024-03-25T22:44:38.217390",
     "status": "completed"
    },
    "tags": []
   },
   "source": [
    "#### Test Files Read & Feature Engineering"
   ]
  },
  {
   "cell_type": "code",
   "execution_count": 10,
   "id": "d776b9ff",
   "metadata": {
    "execution": {
     "iopub.execute_input": "2024-03-25T22:44:38.243876Z",
     "iopub.status.busy": "2024-03-25T22:44:38.243551Z",
     "iopub.status.idle": "2024-03-25T22:44:38.716319Z",
     "shell.execute_reply": "2024-03-25T22:44:38.715269Z"
    },
    "papermill": {
     "duration": 0.484577,
     "end_time": "2024-03-25T22:44:38.718783",
     "exception": false,
     "start_time": "2024-03-25T22:44:38.234206",
     "status": "completed"
    },
    "tags": []
   },
   "outputs": [],
   "source": [
    "data_store = {\n",
    "    \"df_base\": read_file(TEST_DIR / \"test_base.parquet\"),\n",
    "    \"depth_0\": [\n",
    "        read_file(TEST_DIR / \"test_static_cb_0.parquet\"),\n",
    "        read_files(TEST_DIR / \"test_static_0_*.parquet\"),\n",
    "    ],\n",
    "    \"depth_1\": [\n",
    "        read_files(TEST_DIR / \"test_applprev_1_*.parquet\", 1),\n",
    "        read_file(TEST_DIR / \"test_tax_registry_a_1.parquet\", 1),\n",
    "        read_file(TEST_DIR / \"test_tax_registry_b_1.parquet\", 1),\n",
    "        read_file(TEST_DIR / \"test_tax_registry_c_1.parquet\", 1),\n",
    "        read_file(TEST_DIR / \"test_credit_bureau_b_1.parquet\", 1),\n",
    "        read_file(TEST_DIR / \"test_other_1.parquet\", 1),\n",
    "        read_file(TEST_DIR / \"test_person_1.parquet\", 1),\n",
    "        read_file(TEST_DIR / \"test_deposit_1.parquet\", 1),\n",
    "        read_file(TEST_DIR / \"test_debitcard_1.parquet\", 1),\n",
    "    ],\n",
    "    \"depth_2\": [\n",
    "        read_file(TEST_DIR / \"test_credit_bureau_b_2.parquet\", 2),\n",
    "    ]\n",
    "}"
   ]
  },
  {
   "cell_type": "code",
   "execution_count": 11,
   "id": "66bb15c7",
   "metadata": {
    "execution": {
     "iopub.execute_input": "2024-03-25T22:44:38.735980Z",
     "iopub.status.busy": "2024-03-25T22:44:38.735650Z",
     "iopub.status.idle": "2024-03-25T22:44:38.762392Z",
     "shell.execute_reply": "2024-03-25T22:44:38.761429Z"
    },
    "papermill": {
     "duration": 0.037632,
     "end_time": "2024-03-25T22:44:38.764491",
     "exception": false,
     "start_time": "2024-03-25T22:44:38.726859",
     "status": "completed"
    },
    "tags": []
   },
   "outputs": [
    {
     "name": "stdout",
     "output_type": "stream",
     "text": [
      "test data shape:\t (10, 375)\n"
     ]
    }
   ],
   "source": [
    "df_test = feature_eng(**data_store)\n",
    "\n",
    "print(\"test data shape:\\t\", df_test.shape)"
   ]
  },
  {
   "cell_type": "code",
   "execution_count": 12,
   "id": "98aa31f6",
   "metadata": {
    "execution": {
     "iopub.execute_input": "2024-03-25T22:44:38.781449Z",
     "iopub.status.busy": "2024-03-25T22:44:38.781193Z",
     "iopub.status.idle": "2024-03-25T22:44:41.007050Z",
     "shell.execute_reply": "2024-03-25T22:44:41.006051Z"
    },
    "papermill": {
     "duration": 2.236868,
     "end_time": "2024-03-25T22:44:41.009369",
     "exception": false,
     "start_time": "2024-03-25T22:44:38.772501",
     "status": "completed"
    },
    "tags": []
   },
   "outputs": [
    {
     "name": "stdout",
     "output_type": "stream",
     "text": [
      "train data shape:\t (1526659, 267)\n",
      "test data shape:\t (10, 266)\n"
     ]
    }
   ],
   "source": [
    "df_train = df_train.pipe(Pipeline.filter_cols)\n",
    "df_test = df_test.select([col for col in df_train.columns if col != \"target\"])\n",
    "\n",
    "print(\"train data shape:\\t\", df_train.shape)\n",
    "print(\"test data shape:\\t\", df_test.shape)"
   ]
  },
  {
   "cell_type": "code",
   "execution_count": 13,
   "id": "b0ded0ff",
   "metadata": {
    "execution": {
     "iopub.execute_input": "2024-03-25T22:44:41.027605Z",
     "iopub.status.busy": "2024-03-25T22:44:41.027297Z",
     "iopub.status.idle": "2024-03-25T22:44:55.371667Z",
     "shell.execute_reply": "2024-03-25T22:44:55.370862Z"
    },
    "papermill": {
     "duration": 14.35618,
     "end_time": "2024-03-25T22:44:55.374332",
     "exception": false,
     "start_time": "2024-03-25T22:44:41.018152",
     "status": "completed"
    },
    "tags": []
   },
   "outputs": [],
   "source": [
    "df_train, cat_cols = to_pandas(df_train)\n",
    "df_test, cat_cols = to_pandas(df_test, cat_cols)"
   ]
  },
  {
   "cell_type": "code",
   "execution_count": 14,
   "id": "30bef143",
   "metadata": {
    "execution": {
     "iopub.execute_input": "2024-03-25T22:44:55.392479Z",
     "iopub.status.busy": "2024-03-25T22:44:55.392185Z",
     "iopub.status.idle": "2024-03-25T22:44:55.507950Z",
     "shell.execute_reply": "2024-03-25T22:44:55.507077Z"
    },
    "papermill": {
     "duration": 0.12655,
     "end_time": "2024-03-25T22:44:55.509776",
     "exception": false,
     "start_time": "2024-03-25T22:44:55.383226",
     "status": "completed"
    },
    "tags": []
   },
   "outputs": [
    {
     "data": {
      "text/plain": [
       "0"
      ]
     },
     "execution_count": 14,
     "metadata": {},
     "output_type": "execute_result"
    }
   ],
   "source": [
    "del data_store\n",
    "\n",
    "gc.collect()"
   ]
  },
  {
   "cell_type": "markdown",
   "id": "77fa0881",
   "metadata": {
    "papermill": {
     "duration": 0.007426,
     "end_time": "2024-03-25T22:44:55.525066",
     "exception": false,
     "start_time": "2024-03-25T22:44:55.517640",
     "status": "completed"
    },
    "tags": []
   },
   "source": [
    "#### EDA"
   ]
  },
  {
   "cell_type": "code",
   "execution_count": 15,
   "id": "28c98751",
   "metadata": {
    "execution": {
     "iopub.execute_input": "2024-03-25T22:44:55.541296Z",
     "iopub.status.busy": "2024-03-25T22:44:55.541015Z",
     "iopub.status.idle": "2024-03-25T22:44:55.577587Z",
     "shell.execute_reply": "2024-03-25T22:44:55.576439Z"
    },
    "papermill": {
     "duration": 0.046946,
     "end_time": "2024-03-25T22:44:55.579622",
     "exception": false,
     "start_time": "2024-03-25T22:44:55.532676",
     "status": "completed"
    },
    "tags": []
   },
   "outputs": [
    {
     "name": "stdout",
     "output_type": "stream",
     "text": [
      "Train is duplicated:\t False\n",
      "Train Week Range:\t (0, 91)\n",
      "\n",
      "Test is duplicated:\t False\n",
      "Test Week Range:\t (100, 100)\n"
     ]
    }
   ],
   "source": [
    "print(\"Train is duplicated:\\t\", df_train[\"case_id\"].duplicated().any())\n",
    "print(\"Train Week Range:\\t\", (df_train[\"WEEK_NUM\"].min(), df_train[\"WEEK_NUM\"].max()))\n",
    "\n",
    "print()\n",
    "\n",
    "print(\"Test is duplicated:\\t\", df_test[\"case_id\"].duplicated().any())\n",
    "print(\"Test Week Range:\\t\", (df_test[\"WEEK_NUM\"].min(), df_test[\"WEEK_NUM\"].max()))"
   ]
  },
  {
   "cell_type": "code",
   "execution_count": 16,
   "id": "6823f85d",
   "metadata": {
    "execution": {
     "iopub.execute_input": "2024-03-25T22:44:55.597280Z",
     "iopub.status.busy": "2024-03-25T22:44:55.597014Z",
     "iopub.status.idle": "2024-03-25T22:45:13.673836Z",
     "shell.execute_reply": "2024-03-25T22:45:13.672989Z"
    },
    "papermill": {
     "duration": 18.088009,
     "end_time": "2024-03-25T22:45:13.675934",
     "exception": false,
     "start_time": "2024-03-25T22:44:55.587925",
     "status": "completed"
    },
    "tags": []
   },
   "outputs": [
    {
     "data": {
      "image/png": "[encoded data removed]",
      "text/plain": [
       "<Figure size 640x480 with 1 Axes>"
      ]
     },
     "metadata": {},
     "output_type": "display_data"
    }
   ],
   "source": [
    "sns.lineplot(\n",
    "    data=df_train,\n",
    "    x=\"WEEK_NUM\",\n",
    "    y=\"target\",\n",
    ")\n",
    "plt.show()"
   ]
  },
  {
   "cell_type": "markdown",
   "id": "6fc5765f",
   "metadata": {
    "papermill": {
     "duration": 0.008642,
     "end_time": "2024-03-25T22:45:13.693728",
     "exception": false,
     "start_time": "2024-03-25T22:45:13.685086",
     "status": "completed"
    },
    "tags": []
   },
   "source": [
    "#### Training"
   ]
  },
  {
   "cell_type": "code",
   "execution_count": 17,
   "id": "0bc31a29",
   "metadata": {
    "execution": {
     "iopub.execute_input": "2024-03-25T22:45:13.713445Z",
     "iopub.status.busy": "2024-03-25T22:45:13.712586Z",
     "iopub.status.idle": "2024-03-25T22:45:13.719541Z",
     "shell.execute_reply": "2024-03-25T22:45:13.718465Z"
    },
    "papermill": {
     "duration": 0.019411,
     "end_time": "2024-03-25T22:45:13.722139",
     "exception": false,
     "start_time": "2024-03-25T22:45:13.702728",
     "status": "completed"
    },
    "tags": []
   },
   "outputs": [],
   "source": [
    "class VotingModel(BaseEstimator, RegressorMixin):\n",
    "    def __init__(self, estimators):\n",
    "        super().__init__()\n",
    "        self.estimators = estimators\n",
    "        \n",
    "    def fit(self, X, y=None):\n",
    "        return self\n",
    "    \n",
    "    def predict(self, X):\n",
    "        y_preds = [estimator.predict(X) for estimator in self.estimators]\n",
    "        return np.mean(y_preds, axis=0)\n",
    "    \n",
    "    def predict_proba(self, X):\n",
    "        y_preds = [estimator.predict_proba(X) for estimator in self.estimators]\n",
    "        return np.mean(y_preds, axis=0)"
   ]
  },
  {
   "cell_type": "code",
   "execution_count": 18,
   "id": "31e7d547",
   "metadata": {
    "execution": {
     "iopub.execute_input": "2024-03-25T22:45:13.742004Z",
     "iopub.status.busy": "2024-03-25T22:45:13.741477Z",
     "iopub.status.idle": "2024-03-26T00:09:10.182298Z",
     "shell.execute_reply": "2024-03-26T00:09:10.181134Z"
    },
    "papermill": {
     "duration": 5036.47373,
     "end_time": "2024-03-26T00:09:10.205148",
     "exception": false,
     "start_time": "2024-03-25T22:45:13.731418",
     "status": "completed"
    },
    "tags": []
   },
   "outputs": [
    {
     "name": "stdout",
     "output_type": "stream",
     "text": [
      "Valid week range:  (3, 90)\n",
      "Training until validation scores don't improve for 50 rounds\n",
      "[50]\tvalid_0's auc: 0.804065\n",
      "[100]\tvalid_0's auc: 0.816697\n",
      "[150]\tvalid_0's auc: 0.822178\n",
      "[200]\tvalid_0's auc: 0.825269\n",
      "[250]\tvalid_0's auc: 0.827257\n",
      "[300]\tvalid_0's auc: 0.828692\n",
      "[350]\tvalid_0's auc: 0.829701\n",
      "[400]\tvalid_0's auc: 0.830416\n",
      "[450]\tvalid_0's auc: 0.830885\n",
      "[500]\tvalid_0's auc: 0.831268\n",
      "[550]\tvalid_0's auc: 0.831529\n",
      "[600]\tvalid_0's auc: 0.831759\n",
      "[650]\tvalid_0's auc: 0.831972\n",
      "[700]\tvalid_0's auc: 0.832105\n",
      "[750]\tvalid_0's auc: 0.832253\n",
      "[800]\tvalid_0's auc: 0.832407\n",
      "[850]\tvalid_0's auc: 0.832492\n",
      "[900]\tvalid_0's auc: 0.832526\n",
      "Early stopping, best iteration is:\n",
      "[887]\tvalid_0's auc: 0.832558\n",
      "Valid week range:  (0, 89)\n",
      "Training until validation scores don't improve for 50 rounds\n",
      "[50]\tvalid_0's auc: 0.803278\n",
      "[100]\tvalid_0's auc: 0.816244\n",
      "[150]\tvalid_0's auc: 0.822159\n",
      "[200]\tvalid_0's auc: 0.82565\n",
      "[250]\tvalid_0's auc: 0.827659\n",
      "[300]\tvalid_0's auc: 0.828975\n",
      "[350]\tvalid_0's auc: 0.830021\n",
      "[400]\tvalid_0's auc: 0.830835\n",
      "[450]\tvalid_0's auc: 0.831538\n",
      "[500]\tvalid_0's auc: 0.831955\n",
      "[550]\tvalid_0's auc: 0.832393\n",
      "[600]\tvalid_0's auc: 0.832713\n",
      "[650]\tvalid_0's auc: 0.832927\n",
      "[700]\tvalid_0's auc: 0.833241\n",
      "[750]\tvalid_0's auc: 0.833361\n",
      "[800]\tvalid_0's auc: 0.833438\n",
      "[850]\tvalid_0's auc: 0.833519\n",
      "[900]\tvalid_0's auc: 0.833694\n",
      "[950]\tvalid_0's auc: 0.83384\n",
      "[1000]\tvalid_0's auc: 0.833931\n",
      "[1050]\tvalid_0's auc: 0.834009\n",
      "[1100]\tvalid_0's auc: 0.834028\n",
      "[1150]\tvalid_0's auc: 0.834035\n",
      "Early stopping, best iteration is:\n",
      "[1129]\tvalid_0's auc: 0.834056\n",
      "Valid week range:  (2, 91)\n",
      "Training until validation scores don't improve for 50 rounds\n",
      "[50]\tvalid_0's auc: 0.80736\n",
      "[100]\tvalid_0's auc: 0.821433\n",
      "[150]\tvalid_0's auc: 0.827535\n",
      "[200]\tvalid_0's auc: 0.831061\n",
      "[250]\tvalid_0's auc: 0.833315\n",
      "[300]\tvalid_0's auc: 0.834885\n",
      "[350]\tvalid_0's auc: 0.835929\n",
      "[400]\tvalid_0's auc: 0.836625\n",
      "[450]\tvalid_0's auc: 0.837164\n",
      "[500]\tvalid_0's auc: 0.837521\n",
      "[550]\tvalid_0's auc: 0.83785\n",
      "[600]\tvalid_0's auc: 0.838111\n",
      "[650]\tvalid_0's auc: 0.838223\n",
      "[700]\tvalid_0's auc: 0.838345\n",
      "[750]\tvalid_0's auc: 0.838444\n",
      "[800]\tvalid_0's auc: 0.838589\n",
      "[850]\tvalid_0's auc: 0.838605\n",
      "[900]\tvalid_0's auc: 0.838628\n",
      "[950]\tvalid_0's auc: 0.838709\n",
      "[1000]\tvalid_0's auc: 0.838715\n",
      "[1050]\tvalid_0's auc: 0.838776\n",
      "[1100]\tvalid_0's auc: 0.838725\n",
      "Early stopping, best iteration is:\n",
      "[1054]\tvalid_0's auc: 0.838791\n",
      "Valid week range:  (1, 85)\n",
      "Training until validation scores don't improve for 50 rounds\n",
      "[50]\tvalid_0's auc: 0.809464\n",
      "[100]\tvalid_0's auc: 0.822834\n",
      "[150]\tvalid_0's auc: 0.828641\n",
      "[200]\tvalid_0's auc: 0.831855\n",
      "[250]\tvalid_0's auc: 0.833891\n",
      "[300]\tvalid_0's auc: 0.835234\n",
      "[350]\tvalid_0's auc: 0.836217\n",
      "[400]\tvalid_0's auc: 0.837098\n",
      "[450]\tvalid_0's auc: 0.837601\n",
      "[500]\tvalid_0's auc: 0.838014\n",
      "[550]\tvalid_0's auc: 0.838322\n",
      "[600]\tvalid_0's auc: 0.838551\n",
      "[650]\tvalid_0's auc: 0.838691\n",
      "[700]\tvalid_0's auc: 0.838881\n",
      "[750]\tvalid_0's auc: 0.839038\n",
      "[800]\tvalid_0's auc: 0.839182\n",
      "[850]\tvalid_0's auc: 0.839351\n",
      "[900]\tvalid_0's auc: 0.839507\n",
      "[950]\tvalid_0's auc: 0.839618\n",
      "[1000]\tvalid_0's auc: 0.839681\n",
      "[1050]\tvalid_0's auc: 0.839712\n",
      "[1100]\tvalid_0's auc: 0.839726\n",
      "[1150]\tvalid_0's auc: 0.839823\n",
      "[1200]\tvalid_0's auc: 0.839869\n",
      "Did not meet early stopping. Best iteration is:\n",
      "[1200]\tvalid_0's auc: 0.839869\n",
      "Valid week range:  (5, 88)\n",
      "Training until validation scores don't improve for 50 rounds\n",
      "[50]\tvalid_0's auc: 0.804634\n",
      "[100]\tvalid_0's auc: 0.817339\n",
      "[150]\tvalid_0's auc: 0.823215\n",
      "[200]\tvalid_0's auc: 0.826507\n",
      "[250]\tvalid_0's auc: 0.828536\n",
      "[300]\tvalid_0's auc: 0.829967\n",
      "[350]\tvalid_0's auc: 0.830971\n",
      "[400]\tvalid_0's auc: 0.831808\n",
      "[450]\tvalid_0's auc: 0.832262\n",
      "[500]\tvalid_0's auc: 0.832695\n",
      "[550]\tvalid_0's auc: 0.833082\n",
      "[600]\tvalid_0's auc: 0.833255\n",
      "[650]\tvalid_0's auc: 0.833369\n",
      "[700]\tvalid_0's auc: 0.833539\n",
      "[750]\tvalid_0's auc: 0.833696\n",
      "[800]\tvalid_0's auc: 0.833842\n",
      "[850]\tvalid_0's auc: 0.833968\n",
      "[900]\tvalid_0's auc: 0.83404\n",
      "[950]\tvalid_0's auc: 0.834102\n",
      "[1000]\tvalid_0's auc: 0.834145\n",
      "Early stopping, best iteration is:\n",
      "[981]\tvalid_0's auc: 0.834165\n",
      "CV AUC scores:  [0.8325576772318495, 0.8340560571467099, 0.838790902102999, 0.8398690025134399, 0.8341650282206589]\n",
      "Average CV AUC score:  0.8358877334431314\n"
     ]
    }
   ],
   "source": [
    "from sklearn.metrics import roc_auc_score\n",
    "\n",
    "X = df_train.drop(columns=[\"target\", \"case_id\",\"WEEK_NUM\"])\n",
    "y = df_train[\"target\"]\n",
    "weeks = df_train[\"WEEK_NUM\"]\n",
    "\n",
    "cv = StratifiedGroupKFold(n_splits=5, shuffle=False)\n",
    "\n",
    "params = {\n",
    "    \"boosting_type\": \"gbdt\",\n",
    "    \"objective\": \"binary\",\n",
    "    \"metric\": \"auc\",\n",
    "    \"max_depth\": 10,\n",
    "    \"learning_rate\": 0.05,\n",
    "    \"max_bin\": 255,\n",
    "    \"n_estimators\": 1200,\n",
    "    \"colsample_bytree\": 0.8, \n",
    "    \"colsample_bynode\": 0.8,\n",
    "    \"verbose\": -1,\n",
    "    \"random_state\": 42,\n",
    "    \"reg_alpha\": 0.1, \n",
    "    \"reg_lambda\": 10, \n",
    "    \"extra_trees\":True,\n",
    "    'num_leaves':64\n",
    "    #\"device\": \"gpu\",  # Uncomment if you want to use GPU for training\n",
    "}\n",
    "\n",
    "fitted_models = []\n",
    "cv_scores = []  \n",
    "\n",
    "for idx_train, idx_valid in cv.split(X, y, groups=weeks):\n",
    "    X_train, y_train = X.iloc[idx_train], y.iloc[idx_train]\n",
    "    X_valid, y_valid = X.iloc[idx_valid], y.iloc[idx_valid]\n",
    "\n",
    "    print(\"Valid week range: \", (weeks.iloc[idx_valid].min(), weeks.iloc[idx_valid].max()))\n",
    "\n",
    "    model = lgb.LGBMClassifier(**params)\n",
    "    model.fit(\n",
    "        X_train, y_train,\n",
    "        eval_set=[(X_valid, y_valid)],\n",
    "        callbacks=[lgb.log_evaluation(50), lgb.early_stopping(50)]\n",
    "    )\n",
    "\n",
    "    fitted_models.append(model)\n",
    "\n",
    "    y_pred_valid = model.predict_proba(X_valid)[:, 1]\n",
    "    auc_score = roc_auc_score(y_valid, y_pred_valid)\n",
    "    cv_scores.append(auc_score)\n",
    "\n",
    "model = VotingModel(fitted_models)\n",
    "print(\"CV AUC scores: \", cv_scores)\n",
    "print(\"Average CV AUC score: \", sum(cv_scores) / len(cv_scores))"
   ]
  },
  {
   "cell_type": "code",
   "execution_count": 19,
   "id": "105ee060",
   "metadata": {
    "execution": {
     "iopub.execute_input": "2024-03-26T00:09:10.247153Z",
     "iopub.status.busy": "2024-03-26T00:09:10.246764Z",
     "iopub.status.idle": "2024-03-26T00:09:10.481244Z",
     "shell.execute_reply": "2024-03-26T00:09:10.480231Z"
    },
    "papermill": {
     "duration": 0.25903,
     "end_time": "2024-03-26T00:09:10.483738",
     "exception": false,
     "start_time": "2024-03-26T00:09:10.224708",
     "status": "completed"
    },
    "tags": []
   },
   "outputs": [],
   "source": [
    "X_test = df_test.drop(columns=[\"WEEK_NUM\"])\n",
    "X_test = X_test.set_index(\"case_id\")\n",
    "\n",
    "lgb_pred = pd.Series(model.predict_proba(X_test)[:, 1], index=X_test.index)"
   ]
  },
  {
   "cell_type": "markdown",
   "id": "4293865c",
   "metadata": {
    "papermill": {
     "duration": 0.0177,
     "end_time": "2024-03-26T00:09:10.521144",
     "exception": false,
     "start_time": "2024-03-26T00:09:10.503444",
     "status": "completed"
    },
    "tags": []
   },
   "source": [
    "#### Submission"
   ]
  },
  {
   "cell_type": "code",
   "execution_count": 20,
   "id": "094022ed",
   "metadata": {
    "execution": {
     "iopub.execute_input": "2024-03-26T00:09:10.558166Z",
     "iopub.status.busy": "2024-03-26T00:09:10.557875Z",
     "iopub.status.idle": "2024-03-26T00:09:10.578616Z",
     "shell.execute_reply": "2024-03-26T00:09:10.577675Z"
    },
    "papermill": {
     "duration": 0.041596,
     "end_time": "2024-03-26T00:09:10.580772",
     "exception": false,
     "start_time": "2024-03-26T00:09:10.539176",
     "status": "completed"
    },
    "tags": []
   },
   "outputs": [],
   "source": [
    "df_subm = pd.read_csv(ROOT / \"sample_submission.csv\")\n",
    "df_subm = df_subm.set_index(\"case_id\")\n",
    "\n",
    "df_subm[\"score\"] = lgb_pred"
   ]
  },
  {
   "cell_type": "code",
   "execution_count": 21,
   "id": "28424772",
   "metadata": {
    "execution": {
     "iopub.execute_input": "2024-03-26T00:09:10.620336Z",
     "iopub.status.busy": "2024-03-26T00:09:10.620063Z",
     "iopub.status.idle": "2024-03-26T00:09:10.624654Z",
     "shell.execute_reply": "2024-03-26T00:09:10.623881Z"
    },
    "papermill": {
     "duration": 0.026317,
     "end_time": "2024-03-26T00:09:10.626928",
     "exception": false,
     "start_time": "2024-03-26T00:09:10.600611",
     "status": "completed"
    },
    "tags": []
   },
   "outputs": [
    {
     "name": "stdout",
     "output_type": "stream",
     "text": [
      "Check null:  False\n"
     ]
    }
   ],
   "source": [
    "print(\"Check null: \", df_subm[\"score\"].isnull().any())"
   ]
  },
  {
   "cell_type": "code",
   "execution_count": 22,
   "id": "0b2bdcb3",
   "metadata": {
    "execution": {
     "iopub.execute_input": "2024-03-26T00:09:10.664776Z",
     "iopub.status.busy": "2024-03-26T00:09:10.664504Z",
     "iopub.status.idle": "2024-03-26T00:09:10.679024Z",
     "shell.execute_reply": "2024-03-26T00:09:10.678147Z"
    },
    "papermill": {
     "duration": 0.035616,
     "end_time": "2024-03-26T00:09:10.680875",
     "exception": false,
     "start_time": "2024-03-26T00:09:10.645259",
     "status": "completed"
    },
    "tags": []
   },
   "outputs": [
    {
     "data": {
      "text/html": [
       "<div>\n",
       "<style scoped>\n",
       "    .dataframe tbody tr th:only-of-type {\n",
       "        vertical-align: middle;\n",
       "    }\n",
       "\n",
       "    .dataframe tbody tr th {\n",
       "        vertical-align: top;\n",
       "    }\n",
       "\n",
       "    .dataframe thead th {\n",
       "        text-align: right;\n",
       "    }\n",
       "</style>\n",
       "<table border=\"1\" class=\"dataframe\">\n",
       "  <thead>\n",
       "    <tr style=\"text-align: right;\">\n",
       "      <th></th>\n",
       "      <th>score</th>\n",
       "    </tr>\n",
       "    <tr>\n",
       "      <th>case_id</th>\n",
       "      <th></th>\n",
       "    </tr>\n",
       "  </thead>\n",
       "  <tbody>\n",
       "    <tr>\n",
       "      <th>57543</th>\n",
       "      <td>0.007247</td>\n",
       "    </tr>\n",
       "    <tr>\n",
       "      <th>57549</th>\n",
       "      <td>0.030663</td>\n",
       "    </tr>\n",
       "    <tr>\n",
       "      <th>57551</th>\n",
       "      <td>0.006065</td>\n",
       "    </tr>\n",
       "    <tr>\n",
       "      <th>57552</th>\n",
       "      <td>0.007282</td>\n",
       "    </tr>\n",
       "    <tr>\n",
       "      <th>57569</th>\n",
       "      <td>0.085461</td>\n",
       "    </tr>\n",
       "  </tbody>\n",
       "</table>\n",
       "</div>"
      ],
      "text/plain": [
       "            score\n",
       "case_id          \n",
       "57543    0.007247\n",
       "57549    0.030663\n",
       "57551    0.006065\n",
       "57552    0.007282\n",
       "57569    0.085461"
      ]
     },
     "execution_count": 22,
     "metadata": {},
     "output_type": "execute_result"
    }
   ],
   "source": [
    "df_subm.head()"
   ]
  },
  {
   "cell_type": "code",
   "execution_count": 23,
   "id": "f5b91646",
   "metadata": {
    "execution": {
     "iopub.execute_input": "2024-03-26T00:09:10.718781Z",
     "iopub.status.busy": "2024-03-26T00:09:10.718231Z",
     "iopub.status.idle": "2024-03-26T00:09:10.724004Z",
     "shell.execute_reply": "2024-03-26T00:09:10.723316Z"
    },
    "papermill": {
     "duration": 0.026689,
     "end_time": "2024-03-26T00:09:10.725772",
     "exception": false,
     "start_time": "2024-03-26T00:09:10.699083",
     "status": "completed"
    },
    "tags": []
   },
   "outputs": [],
   "source": [
    "df_subm.to_csv(\"submission.csv\")"
   ]
  }
 ],
 "metadata": {
  "kaggle": {
   "accelerator": "nvidiaTeslaT4",
   "dataSources": [
    {
     "databundleVersionId": 7921029,
     "sourceId": 50160,
     "sourceType": "competition"
    },
    {
     "datasetId": 4414761,
     "sourceId": 7584174,
     "sourceType": "datasetVersion"
    }
   ],
   "dockerImageVersionId": 30648,
   "isGpuEnabled": true,
   "isInternetEnabled": false,
   "language": "python",
   "sourceType": "notebook"
  },
  "kernelspec": {
   "display_name": "Python 3",
   "language": "python",
   "name": "python3"
  },
  "language_info": {
   "codemirror_mode": {
    "name": "ipython",
    "version": 3
   },
   "file_extension": ".py",
   "mimetype": "text/x-python",
   "name": "python",
   "nbconvert_exporter": "python",
   "pygments_lexer": "ipython3",
   "version": "3.10.13"
  },
  "papermill": {
   "default_parameters": {},
   "duration": 5123.399325,
   "end_time": "2024-03-26T00:09:11.876057",
   "environment_variables": {},
   "exception": null,
   "input_path": "__notebook__.ipynb",
   "output_path": "__notebook__.ipynb",
   "parameters": {},
   "start_time": "2024-03-25T22:43:48.476732",
   "version": "2.5.0"
  }
 },
 "nbformat": 4,
 "nbformat_minor": 5
}
