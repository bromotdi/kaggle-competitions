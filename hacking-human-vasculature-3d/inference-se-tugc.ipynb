{
 "cells": [
  {
   "cell_type": "markdown",
   "id": "51001eeb",
   "metadata": {
    "papermill": {
     "duration": 0.00605,
     "end_time": "2024-02-08T12:56:47.987062",
     "exception": false,
     "start_time": "2024-02-08T12:56:47.981012",
     "status": "completed"
    },
    "tags": []
   },
   "source": [
    "# Import"
   ]
  },
  {
   "cell_type": "code",
   "execution_count": 1,
   "id": "d2b6130b",
   "metadata": {
    "_cell_guid": "b1076dfc-b9ad-4769-8c92-a6c4dae69d19",
    "_kg_hide-input": true,
    "_kg_hide-output": true,
    "_uuid": "8f2839f25d086af736a60e9eeb907d3b93b6e0e5",
    "execution": {
     "iopub.execute_input": "2024-02-08T12:56:48.001419Z",
     "iopub.status.busy": "2024-02-08T12:56:48.000874Z",
     "iopub.status.idle": "2024-02-08T12:56:52.895779Z",
     "shell.execute_reply": "2024-02-08T12:56:52.894994Z"
    },
    "papermill": {
     "duration": 4.904502,
     "end_time": "2024-02-08T12:56:52.897980",
     "exception": false,
     "start_time": "2024-02-08T12:56:47.993478",
     "status": "completed"
    },
    "tags": []
   },
   "outputs": [],
   "source": [
    "import torch as tc \n",
    "import torch.nn as nn  \n",
    "import numpy as np\n",
    "from tqdm import tqdm\n",
    "from torch.cuda.amp import autocast\n",
    "import cv2\n",
    "import os,sys\n",
    "from glob import glob\n",
    "import matplotlib.pyplot as plt\n",
    "import pandas as pd\n",
    "from torch.utils.data import Dataset, DataLoader\n",
    "from torch.nn.parallel import DataParallel\n",
    "from dotenv import load_dotenv\n",
    "import gc"
   ]
  },
  {
   "cell_type": "code",
   "execution_count": 2,
   "id": "6e512309",
   "metadata": {
    "execution": {
     "iopub.execute_input": "2024-02-08T12:56:52.912665Z",
     "iopub.status.busy": "2024-02-08T12:56:52.912274Z",
     "iopub.status.idle": "2024-02-08T12:57:03.231496Z",
     "shell.execute_reply": "2024-02-08T12:57:03.230474Z"
    },
    "papermill": {
     "duration": 10.329174,
     "end_time": "2024-02-08T12:57:03.233897",
     "exception": false,
     "start_time": "2024-02-08T12:56:52.904723",
     "status": "completed"
    },
    "tags": []
   },
   "outputs": [
    {
     "name": "stdout",
     "output_type": "stream",
     "text": [
      "Processing /kaggle/input/segmentation-models-pytorch-0-3-3/efficientnet_pytorch-0.7.1-py3-none-any.whl\r\n",
      "Installing collected packages: efficientnet-pytorch\r\n",
      "Successfully installed efficientnet-pytorch-0.7.1\r\n",
      "Processing /kaggle/input/segmentation-models-pytorch-0-3-3/pretrainedmodels-0.7.4-py3-none-any.whl\r\n",
      "Installing collected packages: pretrainedmodels\r\n",
      "Successfully installed pretrainedmodels-0.7.4\r\n",
      "Processing /kaggle/input/segmentation-models-pytorch-0-3-3/segmentation_models_pytorch-0.3.3-py3-none-any.whl\r\n",
      "Installing collected packages: segmentation-models-pytorch\r\n",
      "Successfully installed segmentation-models-pytorch-0.3.3\r\n"
     ]
    }
   ],
   "source": [
    "# !python -m pip install --no-index --find-links=/kaggle/input/pip-download-for-segmentation-models-pytorch segmentation-models-pytorch\n",
    "!pip install --no-index --no-deps /kaggle/input/segmentation-models-pytorch-0-3-3/efficientnet_pytorch-0.7.1-py3-none-any.whl\n",
    "!pip install --no-index --no-deps /kaggle/input/segmentation-models-pytorch-0-3-3/pretrainedmodels-0.7.4-py3-none-any.whl\n",
    "!pip install --no-index --no-deps /kaggle/input/segmentation-models-pytorch-0-3-3/segmentation_models_pytorch-0.3.3-py3-none-any.whl\n",
    "\n",
    "import segmentation_models_pytorch as smp"
   ]
  },
  {
   "cell_type": "markdown",
   "id": "f985c1fb",
   "metadata": {
    "papermill": {
     "duration": 0.007306,
     "end_time": "2024-02-08T12:57:03.251049",
     "exception": false,
     "start_time": "2024-02-08T12:57:03.243743",
     "status": "completed"
    },
    "tags": []
   },
   "source": [
    "# config"
   ]
  },
  {
   "cell_type": "code",
   "execution_count": 3,
   "id": "6e304fc1",
   "metadata": {
    "execution": {
     "iopub.execute_input": "2024-02-08T12:57:03.267181Z",
     "iopub.status.busy": "2024-02-08T12:57:03.266871Z",
     "iopub.status.idle": "2024-02-08T12:57:03.273913Z",
     "shell.execute_reply": "2024-02-08T12:57:03.273040Z"
    },
    "papermill": {
     "duration": 0.017508,
     "end_time": "2024-02-08T12:57:03.275966",
     "exception": false,
     "start_time": "2024-02-08T12:57:03.258458",
     "status": "completed"
    },
    "tags": []
   },
   "outputs": [
    {
     "name": "stdout",
     "output_type": "stream",
     "text": [
      "/kaggle/input/sennet-se-resnext50-32x4d-zip/se_resnext50_32x4d_310_loss0.08_score0.85_val_loss0.10_val_score0.91_midd_1024.pt\n"
     ]
    }
   ],
   "source": [
    "model_path_i = -1 \n",
    "class CFG:\n",
    "# ============== model CFG =============\n",
    "    model_name = 'Unet'\n",
    "    backbone = 'se_resnext50_32x4d'\n",
    "\n",
    "    in_chans = 1 #5 # 65\n",
    "    #============== _ CFG =============\n",
    "    image_size = 1024 #512\n",
    "    input_size= 1024 #512\n",
    "    tile_size = image_size\n",
    "    stride = tile_size // 4\n",
    "    drop_egde_pixel= 0 # 16 #32\n",
    "    \n",
    "    target_size = 1\n",
    "    chopping_percentile=1e-3\n",
    "    # ============== fold =============\n",
    "    valid_id = 1\n",
    "    batch=24 #128\n",
    "    th_percentile = 0.00143 #0.00145 #0.00146 #0.00149 #0.00145 # 0.0014 #0.00175 #0.0021\n",
    "    \n",
    "    model_path=[\"/kaggle/input/sennet-se-resnext50-32x4d-zip/se_resnext50_32x4d_310_loss0.08_score0.85_val_loss0.10_val_score0.91_midd_1024.pt\",]\n",
    "    \n",
    "    print(model_path[model_path_i])\n"
   ]
  },
  {
   "cell_type": "markdown",
   "id": "24e06396",
   "metadata": {
    "papermill": {
     "duration": 0.006918,
     "end_time": "2024-02-08T12:57:03.290031",
     "exception": false,
     "start_time": "2024-02-08T12:57:03.283113",
     "status": "completed"
    },
    "tags": []
   },
   "source": [
    "# Model"
   ]
  },
  {
   "cell_type": "code",
   "execution_count": 4,
   "id": "aef9e6a7",
   "metadata": {
    "execution": {
     "iopub.execute_input": "2024-02-08T12:57:03.305262Z",
     "iopub.status.busy": "2024-02-08T12:57:03.304981Z",
     "iopub.status.idle": "2024-02-08T12:57:03.311496Z",
     "shell.execute_reply": "2024-02-08T12:57:03.310630Z"
    },
    "papermill": {
     "duration": 0.016417,
     "end_time": "2024-02-08T12:57:03.313428",
     "exception": false,
     "start_time": "2024-02-08T12:57:03.297011",
     "status": "completed"
    },
    "tags": []
   },
   "outputs": [
    {
     "name": "stdout",
     "output_type": "stream",
     "text": [
      "/kaggle/input/tu-gcresnext50ts/tu-gc-mixup-2/tu-gcresnext50ts_550_loss0.1520_score0.7687_val_loss0.1480_val_score0.8742_midd_1024.pt\n"
     ]
    }
   ],
   "source": [
    "model_path_i = -1 \n",
    "class CFG_2:\n",
    "# ============== model CFG =============\n",
    "    model_name = 'Unet'\n",
    "    backbone = 'tu-gcresnext50ts'\n",
    "\n",
    "    in_chans = 1 #5 # 65\n",
    "    #============== _ CFG =============\n",
    "    image_size = 1024 #512\n",
    "    input_size= 1024 #512\n",
    "    tile_size = image_size\n",
    "    stride = tile_size // 4\n",
    "    drop_egde_pixel= 0 # 16 #32\n",
    "    \n",
    "    target_size = 1\n",
    "    chopping_percentile=1e-3\n",
    "    # ============== fold =============\n",
    "    valid_id = 1\n",
    "    batch=24 #128\n",
    "    th_percentile = 0.00143 #0.00145 #0.00146 #0.00149 #0.00145 # 0.0014 #0.00175 #0.0021\n",
    "        \n",
    "    model_path = [\"/kaggle/input/tu-gcresnext50ts/tu-gcresnext50ts_380_loss0.1685_score0.7487_val_loss0.1646_val_score0.8759_midd_1024.pt\", #88.0\n",
    "                 \"/kaggle/input/tu-gcresnext50ts/tu-gc-mixup-2/tu-gcresnext50ts_550_loss0.1520_score0.7687_val_loss0.1480_val_score0.8742_midd_1024.pt\",\n",
    "                ] #88.1\n",
    "    print(model_path[-1])"
   ]
  },
  {
   "cell_type": "code",
   "execution_count": 5,
   "id": "b6f08fb0",
   "metadata": {
    "execution": {
     "iopub.execute_input": "2024-02-08T12:57:03.328956Z",
     "iopub.status.busy": "2024-02-08T12:57:03.328659Z",
     "iopub.status.idle": "2024-02-08T12:57:03.334904Z",
     "shell.execute_reply": "2024-02-08T12:57:03.334030Z"
    },
    "papermill": {
     "duration": 0.016316,
     "end_time": "2024-02-08T12:57:03.336841",
     "exception": false,
     "start_time": "2024-02-08T12:57:03.320525",
     "status": "completed"
    },
    "tags": []
   },
   "outputs": [
    {
     "name": "stdout",
     "output_type": "stream",
     "text": [
      "/kaggle/input/tu-tf-efficientnet-b3/ema_2/tu-tf_efficientnet_b3_350_ema_loss0.0992_score0.8231_val_loss0.1807_val_score0.1250_midd_1024.pt\n"
     ]
    }
   ],
   "source": [
    "model_path_i = -1 \n",
    "class CFG_3:\n",
    "# ============== model CFG =============\n",
    "    model_name = 'Unet'\n",
    "    backbone = 'tu-tf_efficientnet_b3'\n",
    "\n",
    "    in_chans = 1 #5 # 65\n",
    "    #============== _ CFG =============\n",
    "    image_size = 1024 #512\n",
    "    input_size= 1024 #512\n",
    "    tile_size = image_size\n",
    "    stride = tile_size // 4\n",
    "    drop_egde_pixel= 0 # 16 #32\n",
    "    \n",
    "    target_size = 1\n",
    "    chopping_percentile=1e-3\n",
    "    # ============== fold =============\n",
    "    valid_id = 1\n",
    "    batch=24 #128\n",
    "    th_percentile = 0.00143 #0.00145 #0.00146 #0.00149 #0.00145 # 0.0014 #0.00175 #0.0021\n",
    "        \n",
    "    model_path = [\"/kaggle/input/tu-tf-efficientnet-b3/ema_2/tu-tf_efficientnet_b3_350_ema_loss0.0992_score0.8231_val_loss0.1807_val_score0.1250_midd_1024.pt\"]\n",
    "    print(model_path[-1])"
   ]
  },
  {
   "cell_type": "code",
   "execution_count": null,
   "id": "b3ddc62b",
   "metadata": {
    "papermill": {
     "duration": 0.006996,
     "end_time": "2024-02-08T12:57:03.351191",
     "exception": false,
     "start_time": "2024-02-08T12:57:03.344195",
     "status": "completed"
    },
    "tags": []
   },
   "outputs": [],
   "source": []
  },
  {
   "cell_type": "code",
   "execution_count": 6,
   "id": "c676dbbb",
   "metadata": {
    "execution": {
     "iopub.execute_input": "2024-02-08T12:57:03.367368Z",
     "iopub.status.busy": "2024-02-08T12:57:03.367105Z",
     "iopub.status.idle": "2024-02-08T12:57:03.385540Z",
     "shell.execute_reply": "2024-02-08T12:57:03.384646Z"
    },
    "papermill": {
     "duration": 0.0291,
     "end_time": "2024-02-08T12:57:03.387424",
     "exception": false,
     "start_time": "2024-02-08T12:57:03.358324",
     "status": "completed"
    },
    "tags": []
   },
   "outputs": [],
   "source": [
    "class CustomModel(nn.Module):\n",
    "    def __init__(self, CFG, weight=None):\n",
    "        super().__init__()\n",
    "        self.CFG = CFG\n",
    "        self.model = smp.Unet(\n",
    "            encoder_name=CFG.backbone, \n",
    "            encoder_weights=weight,\n",
    "            in_channels=CFG.in_chans,\n",
    "            classes=CFG.target_size,\n",
    "            activation=None,\n",
    "        )\n",
    "        self.batch=CFG.batch\n",
    "\n",
    "    def forward_(self, image,):\n",
    "        output = self.model(image)\n",
    "        return output[:,0]\n",
    "    \n",
    "    def forward(self,x, num_tta=2):\n",
    "        #x.shape=(batch,c,h,w)\n",
    "        x=x.to(tc.float32)\n",
    "        x=norm_with_clip(x.reshape(-1,*x.shape[2:])).reshape(x.shape)\n",
    "        \n",
    "        if CFG.input_size!=CFG.image_size:\n",
    "            x=nn.functional.interpolate(x,size=(CFG.input_size,CFG.input_size),mode='bilinear',align_corners=True)\n",
    "        \n",
    "        shape=x.shape\n",
    "#         print(shape, num_tta)\n",
    "        if num_tta > 4:\n",
    "            x_tmp=[tc.rot90(x,k=i,dims=(-2,-1)) for i in range(4)]\n",
    "#             print(len(x_tmp))\n",
    "            flip_axis = [[2], [3], [2, 3]]\n",
    "            for i in range(4, num_tta):\n",
    "                x_tmp.append(tc.flip(x, dims=flip_axis[i - 4]))\n",
    "            x=x_tmp\n",
    "            del x_tmp\n",
    "        else:\n",
    "            x=[tc.rot90(x,k=i,dims=(-2,-1)) for i in range(num_tta)]\n",
    "\n",
    "        x=tc.cat(x,dim=0)\n",
    "#         print(x.size())\n",
    "        with autocast():\n",
    "            with tc.no_grad():\n",
    "                x=[self.forward_(x[i*self.batch:(i+1)*self.batch]) for i in range(x.shape[0]//self.batch+1)]\n",
    "                # batch=64,64...48\n",
    "#                 x = [x[i*self.batch:(i+1)*self.batch] for i in range(x.shape[0]//self.batch+1)]\n",
    "                x=tc.cat(x,dim=0)\n",
    "        x=x.sigmoid()\n",
    "        \n",
    "        x=x.reshape(num_tta,shape[0],*shape[2:])\n",
    "#         print('x.reshape(num_tta,shape[0],*shape[2:])', x.size())\n",
    "        if num_tta > 4:\n",
    "            x_rotate=[tc.rot90(x[i],k=-i,dims=(-2,-1)) for i in range(4)]\n",
    "            for i in range(4, num_tta):\n",
    "                x_rotate.append(tc.flip(x[i].unsqueeze(1), dims=flip_axis[i-4]).squeeze(1))\n",
    "            x = x_rotate\n",
    "            del x_rotate\n",
    "        else:\n",
    "            x=[tc.rot90(x[i],k=-i,dims=(-2,-1)) for i in range(num_tta)]\n",
    "        \n",
    "        x=tc.stack(x,dim=0).mean(0)\n",
    "        \n",
    "        if CFG.input_size!=CFG.image_size:\n",
    "            x=nn.functional.interpolate(x[None],size=(CFG.image_size,CFG.image_size),mode='bilinear',align_corners=True)[0]\n",
    "        return x\n",
    "\n",
    "\n",
    "def build_model(weight=None):\n",
    "    load_dotenv()\n",
    "\n",
    "    print('model_name', CFG.model_name)\n",
    "    print('backbone', CFG.backbone)\n",
    "\n",
    "    model = CustomModel(CFG, weight)\n",
    "\n",
    "    return model.cuda()\n",
    "\n",
    "def build_model_2(weight=None):\n",
    "    load_dotenv()\n",
    "\n",
    "    print('model_name', CFG_2.model_name)\n",
    "    print('backbone', CFG_2.backbone)\n",
    "\n",
    "    model = CustomModel(CFG_2, weight) #CustomModel(CFG_2, weight)\n",
    "\n",
    "    return model.cuda()\n",
    "\n"
   ]
  },
  {
   "cell_type": "code",
   "execution_count": 7,
   "id": "44c76dda",
   "metadata": {
    "execution": {
     "iopub.execute_input": "2024-02-08T12:57:03.402939Z",
     "iopub.status.busy": "2024-02-08T12:57:03.402372Z",
     "iopub.status.idle": "2024-02-08T12:57:03.406907Z",
     "shell.execute_reply": "2024-02-08T12:57:03.406065Z"
    },
    "papermill": {
     "duration": 0.014435,
     "end_time": "2024-02-08T12:57:03.408886",
     "exception": false,
     "start_time": "2024-02-08T12:57:03.394451",
     "status": "completed"
    },
    "tags": []
   },
   "outputs": [],
   "source": [
    "def build_model_3(weight=None):\n",
    "    load_dotenv()\n",
    "\n",
    "    print('model_name', CFG_3.model_name)\n",
    "    print('backbone', CFG_3.backbone)\n",
    "\n",
    "    model = CustomModel(CFG_3, weight)\n",
    "\n",
    "    return model.cuda()"
   ]
  },
  {
   "cell_type": "markdown",
   "id": "59fb3a63",
   "metadata": {
    "papermill": {
     "duration": 0.006956,
     "end_time": "2024-02-08T12:57:03.422941",
     "exception": false,
     "start_time": "2024-02-08T12:57:03.415985",
     "status": "completed"
    },
    "tags": []
   },
   "source": [
    "# Size"
   ]
  },
  {
   "cell_type": "code",
   "execution_count": 8,
   "id": "a7d55d72",
   "metadata": {
    "execution": {
     "iopub.execute_input": "2024-02-08T12:57:03.438272Z",
     "iopub.status.busy": "2024-02-08T12:57:03.438005Z",
     "iopub.status.idle": "2024-02-08T12:57:03.449377Z",
     "shell.execute_reply": "2024-02-08T12:57:03.448562Z"
    },
    "papermill": {
     "duration": 0.021166,
     "end_time": "2024-02-08T12:57:03.451271",
     "exception": false,
     "start_time": "2024-02-08T12:57:03.430105",
     "status": "completed"
    },
    "tags": []
   },
   "outputs": [],
   "source": [
    "def to_1024(img , image_size = 1024):\n",
    "    if image_size > img.shape[1]:\n",
    "       img = np.rot90(img)\n",
    "       start1 = (CFG.image_size - img.shape[0])//2 \n",
    "       top =     img[0                    : start1,   0: img.shape[1] ]\n",
    "       bottom  = img[img.shape[0] -start1 : img.shape[0],   0 : img.shape[1] ]\n",
    "       img_result = np.concatenate((top,img,bottom ),axis=0)\n",
    "       img_result = np.rot90(img_result)\n",
    "       img_result = np.rot90(img_result)\n",
    "       img_result = np.rot90(img_result)\n",
    "    else :\n",
    "       img_result = img\n",
    "    return img_result\n",
    "\n",
    "def to_1024_no_rot(img, image_size = 1024):\n",
    "    if image_size > img.shape[0]:  \n",
    "       start1 = ( image_size - img.shape[0])//2\n",
    "       top =     img[0                    : start1,   0: img.shape[1] ]\n",
    "       bottom  = img[img.shape[0] -start1 : img.shape[0],   0 : img.shape[1] ]\n",
    "       img_result = np.concatenate((top,img,bottom ),axis=0)\n",
    "    else: \n",
    "       img_result = img\n",
    "    return img_result\n",
    "\n",
    "def to_1024_1024(img  , image_size = 1024 ):\n",
    "     img_result = to_1024(img, image_size )\n",
    "     return img_result\n",
    "    \n",
    "def to_original ( im_after, img, image_size = 1024 ):\n",
    "    top_ = 0\n",
    "    left_ = 0\n",
    "    if (im_after.shape[0] > img.shape[0]):\n",
    "             top_  = ( image_size - img.shape[0])//2 \n",
    "    if    (im_after.shape[1] > img.shape[1]) :\n",
    "             left_  = ( image_size - img.shape[1])//2  \n",
    "    if (top_>0)or (left_>0) :\n",
    "             img_result = im_after[top_  : img.shape[0] + top_,   left_: img.shape[1] + left_ ]\n",
    "    else:\n",
    "             img_result = im_after\n",
    "    return img_result  "
   ]
  },
  {
   "cell_type": "markdown",
   "id": "2ca6f414",
   "metadata": {
    "papermill": {
     "duration": 0.006845,
     "end_time": "2024-02-08T12:57:03.465371",
     "exception": false,
     "start_time": "2024-02-08T12:57:03.458526",
     "status": "completed"
    },
    "tags": []
   },
   "source": [
    "# Functions"
   ]
  },
  {
   "cell_type": "code",
   "execution_count": 9,
   "id": "a37484b6",
   "metadata": {
    "execution": {
     "iopub.execute_input": "2024-02-08T12:57:03.480726Z",
     "iopub.status.busy": "2024-02-08T12:57:03.480493Z",
     "iopub.status.idle": "2024-02-08T12:57:03.506169Z",
     "shell.execute_reply": "2024-02-08T12:57:03.505373Z"
    },
    "papermill": {
     "duration": 0.035436,
     "end_time": "2024-02-08T12:57:03.507999",
     "exception": false,
     "start_time": "2024-02-08T12:57:03.472563",
     "status": "completed"
    },
    "tags": []
   },
   "outputs": [],
   "source": [
    "def rle_encode(mask):\n",
    "    pixel = mask.flatten()\n",
    "    pixel = np.concatenate([[0], pixel, [0]])\n",
    "    run = np.where(pixel[1:] != pixel[:-1])[0] + 1\n",
    "    run[1::2] -= run[::2]\n",
    "    rle = ' '.join(str(r) for r in run)\n",
    "    if rle == '':\n",
    "        rle = '1 0'\n",
    "    return rle\n",
    "\n",
    "def min_max_normalization(x:tc.Tensor)->tc.Tensor:\n",
    "    \"\"\"input.shape=(batch,f1,...)\"\"\"\n",
    "    shape=x.shape\n",
    "    if x.ndim>2:\n",
    "        x=x.reshape(x.shape[0],-1)\n",
    "    \n",
    "    min_=x.min(dim=-1,keepdim=True)[0]\n",
    "    max_=x.max(dim=-1,keepdim=True)[0]\n",
    "    if min_.mean()==0 and max_.mean()==1:\n",
    "        return x.reshape(shape)\n",
    "    \n",
    "    x=(x-min_)/(max_-min_+1e-9)\n",
    "    return x.reshape(shape)\n",
    "\n",
    "def norm_with_clip(x:tc.Tensor,smooth=1e-5):\n",
    "    dim=list(range(1,x.ndim))\n",
    "    mean=x.mean(dim=dim,keepdim=True)\n",
    "    std=x.std(dim=dim,keepdim=True)\n",
    "    x=(x-mean)/(std+smooth)\n",
    "    x[x>5]=(x[x>5]-5)*1e-3 +5\n",
    "    x[x<-3]=(x[x<-3]+3)*1e-3-3\n",
    "    return x\n",
    "\n",
    "class Data_loader(Dataset):\n",
    "    def __init__(self,path,s=\"/images/\"):\n",
    "        self.paths=glob(path+f\"{s}*.tif\")\n",
    "        self.paths.sort()\n",
    "        self.bool=s==\"/labels/\"\n",
    "    \n",
    "    def __len__(self):\n",
    "        return len(self.paths)\n",
    "    \n",
    "    def __getitem__(self,index):\n",
    "        img=cv2.imread(self.paths[index],cv2.IMREAD_GRAYSCALE)\n",
    "        ims = img.shape\n",
    "\n",
    "        img = to_1024_1024(img , image_size = CFG.image_size )\n",
    "        \n",
    "        img=tc.from_numpy(img.copy())\n",
    "        if self.bool:\n",
    "            img=img.to(tc.bool)\n",
    "        else:\n",
    "            img=img.to(tc.uint8)\n",
    "        return img, ims\n",
    "\n",
    "def load_data(path,s):\n",
    "    data_loader=Data_loader(path,s)\n",
    "    data_loader=DataLoader(data_loader, batch_size=16, num_workers=2)\n",
    "    data=[]\n",
    "    for x, ims in tqdm(data_loader):\n",
    "        data.append(x)\n",
    "        ims = (ims[0][0].item(), ims[1][0].item())\n",
    "        print('load data', ims)\n",
    "    x=tc.cat(data,dim=0)\n",
    "    del data\n",
    "    gc.collect()\n",
    "    ########################################################################\n",
    "    TH=x.reshape(-1).numpy()\n",
    "    index = -int(len(TH) * CFG.chopping_percentile)\n",
    "    TH:int = np.partition(TH, index)[index]\n",
    "    x[x>TH]=int(TH)\n",
    "    ########################################################################\n",
    "    TH=x.reshape(-1).numpy()\n",
    "    index = -int(len(TH) * CFG.chopping_percentile)\n",
    "    TH:int = np.partition(TH, -index)[-index]\n",
    "    x[x<TH]=int(TH)\n",
    "    ########################################################################\n",
    "    #x=(min_max_normalization(x.to(tc.float16))*255).to(tc.uint8)\n",
    "    return x, ims\n",
    "\n",
    "class Pipeline_Dataset(Dataset):\n",
    "    def __init__(self,x,path):\n",
    "        self.img_paths  = glob(path+\"/images/*\")\n",
    "        self.img_paths.sort()\n",
    "        self.in_chan = CFG.in_chans\n",
    "        z=tc.zeros(self.in_chan//2,*x.shape[1:],dtype=x.dtype)\n",
    "        self.x=tc.cat((z,x,z),dim=0)\n",
    "        \n",
    "    def __len__(self):\n",
    "        return self.x.shape[0]-self.in_chan+1\n",
    "    \n",
    "    def __getitem__(self, index):\n",
    "        x  = self.x[index:index+self.in_chan]\n",
    "        return x,index\n",
    "    \n",
    "    def get_mark(self,index):\n",
    "        id=self.img_paths[index].split(\"/\")[-3:]\n",
    "        id.pop(1)\n",
    "        id=\"_\".join(id)\n",
    "        return id[:-4]\n",
    "    \n",
    "    def get_marks(self):\n",
    "        ids=[]\n",
    "        for index in range(len(self)):\n",
    "            ids.append(self.get_mark(index))\n",
    "        return ids\n",
    "\n",
    "def add_edge(x:tc.Tensor,edge:int):\n",
    "    #x=(C,H,W)\n",
    "    #output=(C,H+2*edge,W+2*edge)\n",
    "    mean_=int(x.to(tc.float32).mean())\n",
    "    x=tc.cat([x,tc.ones([x.shape[0],edge,x.shape[2]],dtype=x.dtype,device=x.device)*mean_],dim=1)\n",
    "    x=tc.cat([x,tc.ones([x.shape[0],x.shape[1],edge],dtype=x.dtype,device=x.device)*mean_],dim=2)\n",
    "    x=tc.cat([tc.ones([x.shape[0],edge,x.shape[2]],dtype=x.dtype,device=x.device)*mean_,x],dim=1)\n",
    "    x=tc.cat([tc.ones([x.shape[0],x.shape[1],edge],dtype=x.dtype,device=x.device)*mean_,x],dim=2)\n",
    "    return x"
   ]
  },
  {
   "cell_type": "markdown",
   "id": "cd0b9b5a",
   "metadata": {
    "papermill": {
     "duration": 0.006964,
     "end_time": "2024-02-08T12:57:03.522244",
     "exception": false,
     "start_time": "2024-02-08T12:57:03.515280",
     "status": "completed"
    },
    "tags": []
   },
   "source": [
    "# Build model(s)"
   ]
  },
  {
   "cell_type": "code",
   "execution_count": 10,
   "id": "307b678f",
   "metadata": {
    "execution": {
     "iopub.execute_input": "2024-02-08T12:57:03.537441Z",
     "iopub.status.busy": "2024-02-08T12:57:03.537208Z",
     "iopub.status.idle": "2024-02-08T12:57:06.946223Z",
     "shell.execute_reply": "2024-02-08T12:57:06.945283Z"
    },
    "papermill": {
     "duration": 3.419193,
     "end_time": "2024-02-08T12:57:06.948462",
     "exception": false,
     "start_time": "2024-02-08T12:57:03.529269",
     "status": "completed"
    },
    "tags": []
   },
   "outputs": [
    {
     "name": "stdout",
     "output_type": "stream",
     "text": [
      "model_name Unet\n",
      "backbone se_resnext50_32x4d\n",
      "/kaggle/input/sennet-se-resnext50-32x4d-zip/se_resnext50_32x4d_310_loss0.08_score0.85_val_loss0.10_val_score0.91_midd_1024.pt\n",
      "model_name Unet\n",
      "backbone tu-gcresnext50ts\n",
      "/kaggle/input/tu-gcresnext50ts/tu-gc-mixup-2/tu-gcresnext50ts_550_loss0.1520_score0.7687_val_loss0.1480_val_score0.8742_midd_1024.pt\n"
     ]
    }
   ],
   "source": [
    "model=build_model()\n",
    "print(CFG.model_path[ model_path_i])\n",
    "model.load_state_dict(tc.load(CFG.model_path[ model_path_i ],\"cpu\"))\n",
    "model.eval()\n",
    "model=DataParallel(model)\n",
    "\n",
    "model_2=build_model_2()\n",
    "print(CFG_2.model_path[ model_path_i] )\n",
    "model_2.load_state_dict(tc.load(CFG_2.model_path[ model_path_i ],\"cpu\"))\n",
    "model_2.eval()\n",
    "model_2=DataParallel(model_2)"
   ]
  },
  {
   "cell_type": "code",
   "execution_count": 11,
   "id": "8f18cfb4",
   "metadata": {
    "execution": {
     "iopub.execute_input": "2024-02-08T12:57:06.965169Z",
     "iopub.status.busy": "2024-02-08T12:57:06.964866Z",
     "iopub.status.idle": "2024-02-08T12:57:07.747436Z",
     "shell.execute_reply": "2024-02-08T12:57:07.746412Z"
    },
    "papermill": {
     "duration": 0.793158,
     "end_time": "2024-02-08T12:57:07.749645",
     "exception": false,
     "start_time": "2024-02-08T12:57:06.956487",
     "status": "completed"
    },
    "tags": []
   },
   "outputs": [
    {
     "name": "stdout",
     "output_type": "stream",
     "text": [
      "model_name Unet\n",
      "backbone tu-tf_efficientnet_b3\n",
      "/kaggle/input/tu-tf-efficientnet-b3/ema_2/tu-tf_efficientnet_b3_350_ema_loss0.0992_score0.8231_val_loss0.1807_val_score0.1250_midd_1024.pt\n"
     ]
    }
   ],
   "source": [
    "model_3=build_model_3()\n",
    "print(CFG_3.model_path[ model_path_i] )\n",
    "model_3.load_state_dict(tc.load(CFG_3.model_path[ model_path_i ],\"cpu\"))\n",
    "model_3.eval()\n",
    "model_3=DataParallel(model_3)"
   ]
  },
  {
   "cell_type": "code",
   "execution_count": 12,
   "id": "a2c6ffbd",
   "metadata": {
    "execution": {
     "iopub.execute_input": "2024-02-08T12:57:07.768599Z",
     "iopub.status.busy": "2024-02-08T12:57:07.768259Z",
     "iopub.status.idle": "2024-02-08T12:57:07.795322Z",
     "shell.execute_reply": "2024-02-08T12:57:07.794572Z"
    },
    "papermill": {
     "duration": 0.038016,
     "end_time": "2024-02-08T12:57:07.797150",
     "exception": false,
     "start_time": "2024-02-08T12:57:07.759134",
     "status": "completed"
    },
    "tags": []
   },
   "outputs": [],
   "source": [
    "import torch.nn.functional as F\n",
    "\n",
    "def get_output(debug=False, split_th=750):\n",
    "    outputs=[]\n",
    "    tc.cuda.empty_cache()\n",
    "    gc.collect()\n",
    "    if debug:\n",
    "        paths=[\"/kaggle/input/blood-vessel-segmentation/test/kidney_6\"]\n",
    "#         paths=glob(\"/kaggle/input/blood-vessel-segmentation/test/*\")\n",
    "#         paths=glob(\"/kaggle/input/test-kid/tmp_0205/*\")\n",
    "        print(paths)\n",
    "    else:\n",
    "        paths=glob(\"/kaggle/input/blood-vessel-segmentation/test/*\")\n",
    "    outputs=[[],[],[],[],[]]\n",
    "    idx_pp_cut = []\n",
    "    for path in paths:\n",
    "        x, ims =load_data(path,\"/images/\")\n",
    "        if x.size()[0] < split_th:\n",
    "            x_private = x\n",
    "            print('x_private', x_private.size())\n",
    "            x_inter = x.size()\n",
    "            outputs[4] = [x_private, path]\n",
    "#             x = F.interpolate(x.unsqueeze(1), scale_factor=63.08/50, mode='bilinear', align_corners=True).squeeze(1)\n",
    "            x = F.interpolate(x.unsqueeze(1), scale_factor=63.08/50, mode='bilinear', align_corners=False).squeeze(1).squeeze(1)\n",
    "#             x = F.interpolate(x.permute(1,0,2).unsqueeze(1), scale_factor=(63.08/50, 1), mode='bilinear', align_corners=True).squeeze(1).permute(1,0,2)\n",
    "            print('x_private_inter', x.size())\n",
    "#         elif debug:\n",
    "#             print('debug ***', x.size())\n",
    "#             continue\n",
    "        else:\n",
    "            x_inter = x.size()\n",
    "            \n",
    "        idx_pp_cut.append(int(x.size()[0]))\n",
    "        print('skrrrr', ims)\n",
    "#         labels=tc.zeros_like(x,dtype=tc.uint8)\n",
    "#         labels=tc.zeros_like(x,dtype=tc.float32)\n",
    "#         labels=tc.zeros_like((x.size()[0], ims[0], ims[1]),dtype=tc.float32)\n",
    "        labels=tc.zeros((x.size()[0], x_inter[-2], x_inter[-1]),dtype=tc.float32)\n",
    "        print('labels', labels.size())\n",
    "\n",
    "        mark=Pipeline_Dataset(x,path).get_marks()\n",
    "        ims = [ims for item in mark]\n",
    "#         aug_list = [0,1,2]\n",
    "        aug_list = [0]\n",
    "\n",
    "        for axis in aug_list:\n",
    "            debug_count=0\n",
    "            if axis==0:\n",
    "                x_=x\n",
    "                labels_=labels\n",
    "                x_inter_ = x_inter\n",
    "            elif axis==1:\n",
    "                x_=x.permute(1,2,0)\n",
    "                labels_=labels.permute(1,2,0)\n",
    "                x_inter_ = (x_inter[1], x_inter[2], x_inter[0])\n",
    "            elif axis==2:\n",
    "                x_=x.permute(2,0,1)\n",
    "                labels_=labels.permute(2,0,1)\n",
    "                x_inter_ = (x_inter[2], x_inter[0], x_inter[1])\n",
    "            if x.shape[0]==3 and axis!=0:\n",
    "                break\n",
    "            dataset=Pipeline_Dataset(x_,path)\n",
    "            dataloader=DataLoader(dataset,batch_size=1,shuffle=False,num_workers=2)\n",
    "            shape=dataset.x.shape[-2:]\n",
    "            x1_list = np.arange(0, shape[0]+CFG.tile_size-CFG.tile_size+1, CFG.stride)\n",
    "            y1_list = np.arange(0, shape[1]+CFG.tile_size-CFG.tile_size+1, CFG.stride)\n",
    "            for img,index in tqdm(dataloader):\n",
    "                #img=(1,C,H,W)\n",
    "                img=img.to(\"cuda:0\")\n",
    "                img=add_edge(img[0],CFG.tile_size//2)[None]\n",
    "\n",
    "                mask_pred = tc.zeros_like(img[:,0],dtype=tc.float32,device=img.device)\n",
    "                mask_count = tc.zeros_like(img[:,0],dtype=tc.float32,device=img.device)\n",
    "\n",
    "                indexs=[]\n",
    "                chip=[]\n",
    "                for y1 in y1_list:\n",
    "                    for x1 in x1_list:\n",
    "                        x2 = x1 + CFG.tile_size\n",
    "                        y2 = y1 + CFG.tile_size\n",
    "                        indexs.append([x1+CFG.drop_egde_pixel,x2-CFG.drop_egde_pixel,\n",
    "                                       y1+CFG.drop_egde_pixel,y2-CFG.drop_egde_pixel])\n",
    "                        chip.append(img[...,x1:x2,y1:y2])\n",
    "#                 chip_cat = tc.cat(chip)\n",
    "#                 y_preds = model.forward(chip_cat).to(device=0)\n",
    "#                 y_preds_2 = model_2.forward(chip_cat).to(device=0)\n",
    "                if x.size()[0] < split_th:\n",
    "                    y_preds = model.forward(tc.cat(chip), 6).to(device=0)\n",
    "                    y_preds_2 = model_2.forward(tc.cat(chip), 6).to(device=0)\n",
    "                    y_preds.add_(y_preds_2).div_(2)\n",
    "                    del y_preds_2\n",
    "                else:\n",
    "                    y_preds = model_3.forward(tc.cat(chip), 1).to(device=0)\n",
    "                    \n",
    "                if CFG.drop_egde_pixel:\n",
    "                    y_preds=y_preds[...,CFG.drop_egde_pixel:-CFG.drop_egde_pixel,\n",
    "                                        CFG.drop_egde_pixel:-CFG.drop_egde_pixel]\n",
    "                for i,(x1,x2,y1,y2) in enumerate(indexs):\n",
    "                    mask_pred[...,x1:x2, y1:y2] += y_preds[i]\n",
    "                    mask_count[...,x1:x2, y1:y2] += 1\n",
    "\n",
    "                mask_pred /= mask_count\n",
    "\n",
    "                #Rrecover\n",
    "                mask_pred=mask_pred[...,CFG.tile_size//2:-CFG.tile_size//2,CFG.tile_size//2:-CFG.tile_size//2]\n",
    "                print('debug1', mask_pred.size())\n",
    "                if x.size()[0] < split_th:\n",
    "                    print('x_inter_[1:]', x_inter_[1:])\n",
    "                    mask_pred = F.interpolate(mask_pred.unsqueeze(1), size=x_inter_[1:], mode='bilinear', align_corners=False).squeeze(1)\n",
    "                    \n",
    "                print('debug2', mask_pred.size())\n",
    "\n",
    "#                 labels_[index]+=(mask_pred[0]*255 /len(aug_list) ).to(tc.uint8).cpu()\n",
    "#                 mask_pred[0] = \n",
    "                labels_[index]+=(mask_pred[0] / len(aug_list) ).cpu()\n",
    "\n",
    "                tc.cuda.empty_cache()\n",
    "                gc.collect()\n",
    "                if debug:\n",
    "                    debug_count+=1\n",
    "                    print(debug_count)\n",
    "                    if debug_count>5:\n",
    "                        break\n",
    "            tc.cuda.empty_cache()\n",
    "            gc.collect()                \n",
    "        outputs[0].append(labels)\n",
    "        outputs[1].extend(mark)\n",
    "        outputs[2].extend(ims)\n",
    "    outputs[3] = idx_pp_cut\n",
    "        \n",
    "    return outputs"
   ]
  },
  {
   "cell_type": "code",
   "execution_count": 13,
   "id": "a437bcd6",
   "metadata": {
    "execution": {
     "iopub.execute_input": "2024-02-08T12:57:07.813958Z",
     "iopub.status.busy": "2024-02-08T12:57:07.813665Z",
     "iopub.status.idle": "2024-02-08T12:57:07.831405Z",
     "shell.execute_reply": "2024-02-08T12:57:07.830514Z"
    },
    "papermill": {
     "duration": 0.028446,
     "end_time": "2024-02-08T12:57:07.833258",
     "exception": false,
     "start_time": "2024-02-08T12:57:07.804812",
     "status": "completed"
    },
    "tags": []
   },
   "outputs": [],
   "source": [
    "def get_extra_output(debug=False, x=None):\n",
    "    outputs=[]\n",
    "    tc.cuda.empty_cache()\n",
    "    gc.collect()\n",
    "    x, path = x\n",
    "    outputs=[[],[],[],[],[]]\n",
    "#     for path in paths:\n",
    "#         labels=tc.zeros_like(x,dtype=tc.uint8)\n",
    "    labels=tc.zeros_like(x,dtype=tc.float32)\n",
    "    aug_list = [0,1,2]\n",
    "    for axis in aug_list:\n",
    "        debug_count=0\n",
    "        if axis==0:\n",
    "            x_=x\n",
    "            labels_=labels\n",
    "        elif axis==1:\n",
    "            x_=x.permute(1,2,0)\n",
    "            labels_=labels.permute(1,2,0)\n",
    "        elif axis==2:\n",
    "            x_=x.permute(2,0,1)\n",
    "            labels_=labels.permute(2,0,1)\n",
    "        if x.shape[0]==3 and axis!=0:\n",
    "            break\n",
    "        dataset=Pipeline_Dataset(x_,path)\n",
    "        dataloader=DataLoader(dataset,batch_size=1,shuffle=False,num_workers=2)\n",
    "        shape=dataset.x.shape[-2:]\n",
    "        x1_list = np.arange(0, shape[0]+CFG.tile_size-CFG.tile_size+1, CFG.stride)\n",
    "        y1_list = np.arange(0, shape[1]+CFG.tile_size-CFG.tile_size+1, CFG.stride)\n",
    "        for img,index in tqdm(dataloader):\n",
    "            #img=(1,C,H,W)\n",
    "            img=img.to(\"cuda:0\")\n",
    "            img=add_edge(img[0],CFG.tile_size//2)[None]\n",
    "\n",
    "            mask_pred = tc.zeros_like(img[:,0],dtype=tc.float32,device=img.device)\n",
    "            mask_count = tc.zeros_like(img[:,0],dtype=tc.float32,device=img.device)\n",
    "\n",
    "            indexs=[]\n",
    "            chip=[]\n",
    "            for y1 in y1_list:\n",
    "                for x1 in x1_list:\n",
    "                    x2 = x1 + CFG.tile_size\n",
    "                    y2 = y1 + CFG.tile_size\n",
    "                    indexs.append([x1+CFG.drop_egde_pixel,x2-CFG.drop_egde_pixel,\n",
    "                                   y1+CFG.drop_egde_pixel,y2-CFG.drop_egde_pixel])\n",
    "                    chip.append(img[...,x1:x2,y1:y2])\n",
    "#                 chip_cat = tc.cat(chip)\n",
    "#                 y_preds = model.forward(chip_cat).to(device=0)\n",
    "#                 y_preds_2 = model_2.forward(chip_cat).to(device=0)\n",
    "            y_preds = model.forward(tc.cat(chip), 6).to(device=0)\n",
    "            y_preds_2 = model_2.forward(tc.cat(chip), 6).to(device=0)\n",
    "#                 del chip_cat\n",
    "#                 y_preds = (y_preds + y_preds_2) / 2\n",
    "            y_preds.add_(y_preds_2)#.div_(2)\n",
    "            y_preds_3 = model_3.forward(tc.cat(chip), 6).to(device=0)\n",
    "            y_preds.add_(y_preds_3).div_(3)\n",
    "\n",
    "            del y_preds_2, y_preds_3\n",
    "\n",
    "            if CFG.drop_egde_pixel:\n",
    "                y_preds=y_preds[...,CFG.drop_egde_pixel:-CFG.drop_egde_pixel,\n",
    "                                    CFG.drop_egde_pixel:-CFG.drop_egde_pixel]\n",
    "            for i,(x1,x2,y1,y2) in enumerate(indexs):\n",
    "                mask_pred[...,x1:x2, y1:y2] += y_preds[i]\n",
    "                mask_count[...,x1:x2, y1:y2] += 1\n",
    "\n",
    "            mask_pred /= mask_count\n",
    "\n",
    "            #Rrecover\n",
    "            mask_pred=mask_pred[...,CFG.tile_size//2:-CFG.tile_size//2,CFG.tile_size//2:-CFG.tile_size//2]\n",
    "\n",
    "#                 labels_[index]+=(mask_pred[0]*255 /len(aug_list) ).to(tc.uint8).cpu()\n",
    "            labels_[index]+=(mask_pred[0] /len(aug_list) ).cpu()\n",
    "\n",
    "            tc.cuda.empty_cache()\n",
    "            gc.collect()\n",
    "            if debug:\n",
    "                debug_count+=1\n",
    "                print(debug_count)\n",
    "                if debug_count>5:\n",
    "                    break\n",
    "        tc.cuda.empty_cache()\n",
    "        gc.collect()                \n",
    "    outputs[0].append(labels)\n",
    "    return outputs[0]"
   ]
  },
  {
   "cell_type": "code",
   "execution_count": 14,
   "id": "9c138a2d",
   "metadata": {
    "execution": {
     "iopub.execute_input": "2024-02-08T12:57:07.850045Z",
     "iopub.status.busy": "2024-02-08T12:57:07.849337Z",
     "iopub.status.idle": "2024-02-08T12:58:29.104783Z",
     "shell.execute_reply": "2024-02-08T12:58:29.103714Z"
    },
    "papermill": {
     "duration": 81.266345,
     "end_time": "2024-02-08T12:58:29.107223",
     "exception": false,
     "start_time": "2024-02-08T12:57:07.840878",
     "status": "completed"
    },
    "tags": []
   },
   "outputs": [
    {
     "name": "stdout",
     "output_type": "stream",
     "text": [
      "skrrr11111111111111 (1303, 912)\n",
      "['/kaggle/input/blood-vessel-segmentation/test/kidney_6']\n"
     ]
    },
    {
     "name": "stderr",
     "output_type": "stream",
     "text": [
      "100%|██████████| 1/1 [00:00<00:00,  4.43it/s]"
     ]
    },
    {
     "name": "stdout",
     "output_type": "stream",
     "text": [
      "load data (1303, 912)\n"
     ]
    },
    {
     "name": "stderr",
     "output_type": "stream",
     "text": [
      "\n"
     ]
    },
    {
     "name": "stdout",
     "output_type": "stream",
     "text": [
      "x_private torch.Size([3, 1303, 1024])\n",
      "x_private_inter torch.Size([3, 1643, 1291])\n",
      "skrrrr (1303, 912)\n",
      "labels torch.Size([3, 1303, 1024])\n"
     ]
    },
    {
     "name": "stderr",
     "output_type": "stream",
     "text": [
      "  0%|          | 0/3 [00:00<?, ?it/s]"
     ]
    },
    {
     "name": "stdout",
     "output_type": "stream",
     "text": [
      "debug1 torch.Size([1, 1643, 1291])\n",
      "x_inter_[1:] torch.Size([1303, 1024])\n",
      "debug2 torch.Size([1, 1303, 1024])\n"
     ]
    },
    {
     "name": "stderr",
     "output_type": "stream",
     "text": [
      " 33%|███▎      | 1/3 [00:14<00:28, 14.38s/it]"
     ]
    },
    {
     "name": "stdout",
     "output_type": "stream",
     "text": [
      "1\n",
      "debug1 torch.Size([1, 1643, 1291])\n",
      "x_inter_[1:] torch.Size([1303, 1024])\n",
      "debug2 torch.Size([1, 1303, 1024])\n"
     ]
    },
    {
     "name": "stderr",
     "output_type": "stream",
     "text": [
      " 67%|██████▋   | 2/3 [00:26<00:13, 13.30s/it]"
     ]
    },
    {
     "name": "stdout",
     "output_type": "stream",
     "text": [
      "2\n",
      "debug1 torch.Size([1, 1643, 1291])\n",
      "x_inter_[1:] torch.Size([1303, 1024])\n",
      "debug2 torch.Size([1, 1303, 1024])\n"
     ]
    },
    {
     "name": "stderr",
     "output_type": "stream",
     "text": [
      "100%|██████████| 3/3 [00:39<00:00, 13.20s/it]"
     ]
    },
    {
     "name": "stdout",
     "output_type": "stream",
     "text": [
      "3\n",
      "torch.Size([3, 1303, 1024])\n"
     ]
    },
    {
     "name": "stderr",
     "output_type": "stream",
     "text": [
      "\n",
      " 33%|███▎      | 1/3 [00:12<00:25, 12.89s/it]"
     ]
    },
    {
     "name": "stdout",
     "output_type": "stream",
     "text": [
      "1\n"
     ]
    },
    {
     "name": "stderr",
     "output_type": "stream",
     "text": [
      " 67%|██████▋   | 2/3 [00:25<00:12, 12.86s/it]"
     ]
    },
    {
     "name": "stdout",
     "output_type": "stream",
     "text": [
      "2\n"
     ]
    },
    {
     "name": "stderr",
     "output_type": "stream",
     "text": [
      "100%|██████████| 3/3 [00:38<00:00, 12.92s/it]"
     ]
    },
    {
     "name": "stdout",
     "output_type": "stream",
     "text": [
      "3\n"
     ]
    },
    {
     "name": "stderr",
     "output_type": "stream",
     "text": [
      "\n"
     ]
    },
    {
     "name": "stdout",
     "output_type": "stream",
     "text": [
      "th 153.0\n",
      "np size (1303, 912)\n",
      "1\n"
     ]
    },
    {
     "data": {
      "image/png": "[encoded data removed]",
      "text/plain": [
       "<Figure size 640x480 with 1 Axes>"
      ]
     },
     "metadata": {},
     "output_type": "display_data"
    },
    {
     "name": "stdout",
     "output_type": "stream",
     "text": [
      "np size (1303, 912)\n",
      "2\n"
     ]
    },
    {
     "data": {
      "image/png": "[encoded data removed]",
      "text/plain": [
       "<Figure size 640x480 with 1 Axes>"
      ]
     },
     "metadata": {},
     "output_type": "display_data"
    },
    {
     "name": "stdout",
     "output_type": "stream",
     "text": [
      "np size (1303, 912)\n",
      "3\n"
     ]
    },
    {
     "data": {
      "image/png": "[encoded data removed]",
      "text/plain": [
       "<Figure size 640x480 with 1 Axes>"
      ]
     },
     "metadata": {},
     "output_type": "display_data"
    },
    {
     "data": {
      "text/html": [
       "<div>\n",
       "<style scoped>\n",
       "    .dataframe tbody tr th:only-of-type {\n",
       "        vertical-align: middle;\n",
       "    }\n",
       "\n",
       "    .dataframe tbody tr th {\n",
       "        vertical-align: top;\n",
       "    }\n",
       "\n",
       "    .dataframe thead th {\n",
       "        text-align: right;\n",
       "    }\n",
       "</style>\n",
       "<table border=\"1\" class=\"dataframe\">\n",
       "  <thead>\n",
       "    <tr style=\"text-align: right;\">\n",
       "      <th></th>\n",
       "      <th>id</th>\n",
       "      <th>rle</th>\n",
       "    </tr>\n",
       "  </thead>\n",
       "  <tbody>\n",
       "    <tr>\n",
       "      <th>0</th>\n",
       "      <td>kidney_6_0000</td>\n",
       "      <td>1 0</td>\n",
       "    </tr>\n",
       "    <tr>\n",
       "      <th>0</th>\n",
       "      <td>kidney_6_0001</td>\n",
       "      <td>1 0</td>\n",
       "    </tr>\n",
       "    <tr>\n",
       "      <th>0</th>\n",
       "      <td>kidney_6_0002</td>\n",
       "      <td>1 0</td>\n",
       "    </tr>\n",
       "  </tbody>\n",
       "</table>\n",
       "</div>"
      ],
      "text/plain": [
       "              id  rle\n",
       "0  kidney_6_0000  1 0\n",
       "0  kidney_6_0001  1 0\n",
       "0  kidney_6_0002  1 0"
      ]
     },
     "execution_count": 14,
     "metadata": {},
     "output_type": "execute_result"
    }
   ],
   "source": [
    "# from concurrent.futures import ProcessPoolExecutor\n",
    "\n",
    "is_submit=len(glob(\"/kaggle/input/blood-vessel-segmentation/test/kidney_5/images/*.tif\"))!=3\n",
    "\n",
    "split_th = 750\n",
    "if not is_submit:\n",
    "    split_th /= 10\n",
    "# is_submit=False #True\n",
    "img=cv2.imread(\"/kaggle/input/blood-vessel-segmentation/test/kidney_5/images/0001.tif\",cv2.IMREAD_GRAYSCALE)\n",
    "print('skrrr11111111111111', img.shape)\n",
    "output,ids,ims_list,idx_pp_cut, x_private = get_output(not is_submit, split_th)\n",
    "\n",
    "if x_private != None:\n",
    "    print(x_private[0].size())\n",
    "    model2_path_2 = \"/kaggle/input/tu-gcresnext50ts/tu-gcresnext50ts_146_loss0.1513_score0.7666_val_loss0.1252_val_score0.8924_midd_1024.pt/tu-gcresnext50ts_146_loss0.1513_score0.7666_val_loss0.1252_val_score0.8924_midd_1024.pt\"\n",
    "    checkpoint = tc.load(model2_path_2,\"cpu\")\n",
    "    new_state_dict_2 = {f\"module.{key}\": value for key, value in checkpoint.items()}\n",
    "    model_2.load_state_dict(new_state_dict_2)\n",
    "    model_2.eval()\n",
    "#     model_2=DataParallel(model_2)    \n",
    "    output_x_private_extra = get_extra_output(not is_submit, x_private)\n",
    "    for idx, item in enumerate(output):\n",
    "        if item.size()[0] < split_th:\n",
    "            output[idx] = (255 * (item + output_x_private_extra[0])/2).to(tc.uint8)\n",
    "        else:\n",
    "            output[idx] = (255 * item).to(tc.uint8)\n",
    "        \n",
    "####################################\n",
    "# print('idx_pp_cut ', idx_pp_cut)\n",
    "# TH=[x.flatten().numpy() for x in output]\n",
    "# # TH=[x.flatten().numpy() for x in output[:idx_pp_cut[0]]]\n",
    "for x in output:\n",
    "    if x.size()[0] < 750:\n",
    "        TH=[x.flatten().numpy()]\n",
    "        TH=np.concatenate(TH)\n",
    "        index = -int(len(TH) * CFG.th_percentile)\n",
    "        TH:int = np.partition(TH, index)[index]\n",
    "        break\n",
    "# TH=np.concatenate(TH)\n",
    "# index = -int(len(TH) * CFG.th_percentile)\n",
    "# TH:int = np.partition(TH, index)[index]\n",
    "TH:int = 255 * 0.6\n",
    "\n",
    "print(\"th\", TH)\n",
    "# TH = 26\n",
    "\n",
    "####################################\n",
    "submission_df=[]\n",
    "debug_count=0\n",
    "for index in range(len(ids)):\n",
    "    id=ids[index]\n",
    "    ims = ims_list[index]\n",
    "    img = np.zeros(ims)\n",
    "    print('np size', img.shape)\n",
    "    i=0\n",
    "    for x in output:\n",
    "        if index>=len(x):\n",
    "            index-=len(x)\n",
    "            i+=1\n",
    "        else:\n",
    "            break\n",
    "    mask_pred=(output[i][index]>TH).numpy()\n",
    "    \n",
    "    mask_pred2 = to_original ( mask_pred, img, image_size = 1024 )\n",
    "    mask_pred =  mask_pred2.copy()\n",
    "    \n",
    "    ####################################\n",
    "    if not is_submit:\n",
    "        debug_count+=1\n",
    "        print(debug_count)\n",
    "        plt.subplot(121)\n",
    "        plt.imshow(mask_pred)\n",
    "        plt.show()\n",
    "        if debug_count>100:\n",
    "            break\n",
    "        \n",
    "    rle = rle_encode(mask_pred)\n",
    "    \n",
    "    submission_df.append(\n",
    "        pd.DataFrame(data={\n",
    "            'id'  : id,\n",
    "            'rle' : rle,\n",
    "        },index=[0])\n",
    "    )\n",
    "\n",
    "submission_df =pd.concat(submission_df)\n",
    "# submission_df.to_csv('submission.csv', index=False)\n",
    "submission_df.head(6)\n",
    "def is_isolated(_row):\n",
    "    return (_row[\"rle\"]!='1 0' and _row[\"prev_rle\"]=='1 0' and _row[\"next_rle\"]=='1 0')\n",
    "\n",
    "def fix_nc_slices(_row):\n",
    "    if _row[\"seg_isolated\"]:\n",
    "        _row[\"rle\"] = '1 0'\n",
    "    return _row\n",
    "\n",
    "submission_df[\"prev_rle\"] = submission_df.shift(3, fill_value='1 0')[\"rle\"]\n",
    "submission_df[\"next_rle\"] = submission_df.shift(-3, fill_value='1 0')[\"rle\"]\n",
    "\n",
    "submission_df[\"seg_isolated\"] = submission_df.apply(is_isolated, axis=1)\n",
    "submission_df = submission_df.apply(fix_nc_slices, axis=1)\n",
    "\n",
    "submission_df = submission_df[[\"id\", \"rle\"]]\n",
    "submission_df.to_csv('submission.csv', index=False)\n",
    "submission_df.head(6)"
   ]
  }
 ],
 "metadata": {
  "kaggle": {
   "accelerator": "nvidiaTeslaT4",
   "dataSources": [
    {
     "databundleVersionId": 6962461,
     "sourceId": 61446,
     "sourceType": "competition"
    },
    {
     "datasetId": 4294793,
     "sourceId": 7388523,
     "sourceType": "datasetVersion"
    },
    {
     "datasetId": 4351334,
     "sourceId": 7550103,
     "sourceType": "datasetVersion"
    },
    {
     "datasetId": 4274471,
     "sourceId": 7550566,
     "sourceType": "datasetVersion"
    },
    {
     "datasetId": 4400869,
     "sourceId": 7557110,
     "sourceType": "datasetVersion"
    },
    {
     "datasetId": 4305091,
     "sourceId": 7559293,
     "sourceType": "datasetVersion"
    },
    {
     "sourceId": 150248402,
     "sourceType": "kernelVersion"
    }
   ],
   "dockerImageVersionId": 30636,
   "isGpuEnabled": true,
   "isInternetEnabled": false,
   "language": "python",
   "sourceType": "notebook"
  },
  "kernelspec": {
   "display_name": "Python 3",
   "language": "python",
   "name": "python3"
  },
  "language_info": {
   "codemirror_mode": {
    "name": "ipython",
    "version": 3
   },
   "file_extension": ".py",
   "mimetype": "text/x-python",
   "name": "python",
   "nbconvert_exporter": "python",
   "pygments_lexer": "ipython3",
   "version": "3.10.12"
  },
  "papermill": {
   "default_parameters": {},
   "duration": 106.566906,
   "end_time": "2024-02-08T12:58:31.042401",
   "environment_variables": {},
   "exception": null,
   "input_path": "__notebook__.ipynb",
   "output_path": "__notebook__.ipynb",
   "parameters": {},
   "start_time": "2024-02-08T12:56:44.475495",
   "version": "2.4.0"
  }
 },
 "nbformat": 4,
 "nbformat_minor": 5
}
